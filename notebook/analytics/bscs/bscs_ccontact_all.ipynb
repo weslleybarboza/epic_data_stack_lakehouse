{
 "cells": [
  {
   "cell_type": "markdown",
   "id": "971a3450",
   "metadata": {},
   "source": [
    "### Libraries and session"
   ]
  },
  {
   "cell_type": "code",
   "execution_count": 21,
   "id": "8cdacd29-30c7-4986-b0f0-36f46289114e",
   "metadata": {},
   "outputs": [],
   "source": [
    "import pyspark\n",
    "import boto3\n",
    "from pyspark.sql import SparkSession\n",
    "from pyspark.sql.types import StructType, StructField, StringType, TimestampType, IntegerType, DateType, DecimalType\n",
    "from pyspark.sql.functions import year, to_date, month, dayofmonth,  from_unixtime, unix_timestamp"
   ]
  },
  {
   "cell_type": "code",
   "execution_count": 22,
   "id": "34ed6fa2-80cc-4ad4-9503-81903548cd8b",
   "metadata": {},
   "outputs": [],
   "source": [
    "# ip and environments\n",
    "environment = 'prd'\n",
    "\n",
    "# Source\n",
    "system_source = \"bscs\"\n",
    "system_table =\"bscs_ccontact_all\"\n",
    "\n",
    "# Set the bucket and folder paths\n",
    "source_bucket = 'landing-zone'\n",
    "source_folder = f'database/{system_source}/{system_table}'\n",
    "\n",
    "lakehouse_bucket = 'lakehouse'\n",
    "lakehouse_folder = 'iceberg'\n",
    "\n",
    "# table destination settings\n",
    "dest_db_catalog = 'iceberg'\n",
    "dest_db_schema = 'bronze'\n",
    "dest_db_table = system_table\n",
    "dest_final_db = f'{dest_db_catalog}.{dest_db_schema}'\n",
    "dest_final_table = f'{dest_final_db}.{dest_db_table}'\n",
    "\n",
    "# Spark identification and settings\n",
    "appname = f'BRONZE_{dest_final_db}.{dest_final_table}'\n",
    "log_level = 'WARN' # Valid log levels include: ALL, DEBUG, ERROR, FATAL, INFO, OFF, TRACE, WARN\n",
    "\n",
    "# Set your MinIO credentials\n",
    "s3_endpoint = 'http://minio:9000'\n",
    "s3_access_key = 'minio'\n",
    "s3_secret_key = 'minio123'"
   ]
  },
  {
   "cell_type": "code",
   "execution_count": 23,
   "id": "094ec688-91d3-4648-a78c-1131a892caaf",
   "metadata": {},
   "outputs": [],
   "source": [
    "spark = SparkSession.builder\\\n",
    "    .appName(appname)\\\n",
    "    .getOrCreate()"
   ]
  },
  {
   "cell_type": "code",
   "execution_count": 24,
   "id": "d06374f1-31e1-4eff-b369-75c9cd30ea81",
   "metadata": {},
   "outputs": [
    {
     "name": "stdout",
     "output_type": "stream",
     "text": [
      "=================================================\n",
      "[('spark.hadoop.hive.cli.print.header', 'true'), ('spark.hadoop.fs.s3a.connection.ssl.enabled', 'false'), ('spark.app.submitTime', '1710756306212'), ('spark.hadoop.fs.s3a.path.style.access', 'true'), ('spark.sql.catalog.spark_catalog', 'org.apache.iceberg.spark.SparkSessionCatalog'), ('spark.hadoop.fs.s3.endpoint', 'http://minio:9000'), ('spark.hadoop.fs.s3.access.key', 'minio'), ('spark.hadoop.fs.s3.impl', 'org.apache.hadoop.fs.s3a.S3AFileSystem'), ('spark.sql.catalog.iceberg.uri', 'thrift://hive-metastore:9083'), ('spark.sql.catalog.iceberg.s3.endpoint', 'http://minio:9000'), ('spark.sql.catalog.iceberg.s3.path-style-access', 'true'), ('spark.hadoop.fs.s3.path.style.access', 'true'), ('spark.hive.metastore.uris', 'thrift://hive-metastore:9083'), ('spark.master', 'local[*]'), ('spark.app.name', 'BRONZE_iceberg.bronze.iceberg.bronze.bscs_ccontact_all'), ('spark.submit.deployMode', 'client'), ('spark.hadoop.fs.s3a.access.key', 'minio'), ('spark.sql.catalog.iceberg.io-impl', 'org.apache.iceberg.aws.s3.S3FileIO'), ('spark.hadoop.fs.s3.secret.key', 'minio123'), ('spark.sql.extensions', 'org.apache.iceberg.spark.extensions.IcebergSparkSessionExtensions'), ('spark.hadoop.fs.s3a.impl', 'org.apache.hadoop.fs.s3a.S3AFileSystem'), ('spark.sql.catalog.iceberg', 'org.apache.iceberg.spark.SparkCatalog'), ('spark.sql.catalogImplementation', 'hive'), ('spark.hadoop.fs.s3.connection.ssl.enabled', 'false'), ('spark.submit.pyFiles', ''), ('spark.sql.catalog.iceberg.warehouse', 's3a://prd-lakehouse/iceberg'), ('spark.hadoop.fs.s3a.endpoint', 'http://minio:9000'), ('spark.hadoop.fs.s3a.secret.key', 'minio123'), ('spark.sql.catalog.iceberg.type', 'hive'), ('spark.ui.showConsoleProgress', 'true'), ('spark.sql.catalog.spark_catalog.type', 'hive')]\n"
     ]
    }
   ],
   "source": [
    "print(\"=================================================\")\n",
    "spark.sparkContext.setLogLevel(log_level)\n",
    "print(pyspark.SparkConf().getAll())"
   ]
  },
  {
   "cell_type": "markdown",
   "id": "cbcf1ffe",
   "metadata": {},
   "source": [
    "### Read from the source"
   ]
  },
  {
   "cell_type": "code",
   "execution_count": 25,
   "id": "6463e5df",
   "metadata": {},
   "outputs": [],
   "source": [
    "s3 = boto3.client('s3', endpoint_url=s3_endpoint, aws_access_key_id=s3_access_key, aws_secret_access_key=s3_secret_key)"
   ]
  },
  {
   "cell_type": "code",
   "execution_count": 26,
   "id": "520e9151",
   "metadata": {},
   "outputs": [],
   "source": [
    "# List all files in the source directory\n",
    "file_list = []\n",
    "paginator = s3.get_paginator('list_objects_v2')\n",
    "\n",
    "for result in paginator.paginate(Bucket=f\"{environment}-{source_bucket}\", Prefix=source_folder):\n",
    "    \n",
    "    if 'Contents' in result:\n",
    "        for item in result['Contents']:\n",
    "            file_list.append(item['Key'])\n"
   ]
  },
  {
   "cell_type": "markdown",
   "id": "519cd0a9",
   "metadata": {},
   "source": [
    "#### Data Contract"
   ]
  },
  {
   "cell_type": "code",
   "execution_count": 27,
   "id": "86b57cf8-fbc5-4f4e-ab70-c317048e2273",
   "metadata": {
    "scrolled": true
   },
   "outputs": [],
   "source": [
    "df_source_schema = StructType([\n",
    "                    StructField(\"customer_id\", StringType()),\n",
    "                    StructField(\"ccseq\", StringType()),\n",
    "                    StructField(\"cctitle\", StringType()),\n",
    "                    StructField(\"ccname\", StringType()),\n",
    "                    StructField(\"ccfname\", StringType()),\n",
    "                    StructField(\"cclname\", StringType()),\n",
    "                    StructField(\"ccstreet\", StringType()),\n",
    "                    StructField(\"ccstreetno\", StringType()),\n",
    "                    StructField(\"cclnamemc\", StringType()),\n",
    "                    StructField(\"ccaddr1\", StringType()),\n",
    "                    StructField(\"ccaddr2\", StringType()),\n",
    "                    StructField(\"ccaddr3\", StringType()),\n",
    "                    StructField(\"cccity\", StringType()),\n",
    "                    StructField(\"cczip\", StringType()),\n",
    "                    StructField(\"cccountry\", StringType()),\n",
    "                    StructField(\"cctn\", StringType()),\n",
    "                    StructField(\"cctn2\", StringType()),\n",
    "                    StructField(\"ccfax\", StringType()),\n",
    "                    StructField(\"ccline1\", StringType()),\n",
    "                    StructField(\"ccline2\", StringType()),\n",
    "                    StructField(\"ccline3\", StringType()),\n",
    "                    StructField(\"ccline4\", StringType()),\n",
    "                    StructField(\"ccline5\", StringType()),\n",
    "                    StructField(\"ccline6\", StringType()),\n",
    "                    StructField(\"cctn_area\", StringType()),\n",
    "                    StructField(\"cctn2_area\", StringType()),\n",
    "                    StructField(\"ccfax_area\", StringType()),\n",
    "                    StructField(\"ccjobdesc\", StringType()),\n",
    "                    StructField(\"ccdeftrk\", StringType()),\n",
    "                    StructField(\"ccuser\", StringType()),\n",
    "                    StructField(\"ccbill\", StringType()),\n",
    "                    StructField(\"ccbilldetails\", StringType()),\n",
    "                    StructField(\"cccontract\", StringType()),\n",
    "                    StructField(\"ccship\", StringType()),\n",
    "                    StructField(\"ccmagazine\", StringType()),\n",
    "                    StructField(\"ccdirectory\", StringType()),\n",
    "                    StructField(\"ccforward\", StringType()),\n",
    "                    StructField(\"ccurgent\", StringType()),\n",
    "                    StructField(\"country\", StringType()),\n",
    "                    StructField(\"cclanguage\", StringType()),\n",
    "                    StructField(\"ccadditional\", StringType()),\n",
    "                    StructField(\"sort_criteria\", StringType()),\n",
    "                    StructField(\"ccentdate\", StringType()),\n",
    "                    StructField(\"ccmoddate\", StringType()),\n",
    "                    StructField(\"ccmod\", StringType()),\n",
    "                    StructField(\"rec_version\", StringType()),\n",
    "                    StructField(\"cczip_addition\", StringType()),\n",
    "                    StructField(\"cccounty\", StringType()),\n",
    "                    StructField(\"ccstate\", StringType()),\n",
    "                    StructField(\"ccgeocode\", StringType()),\n",
    "                    StructField(\"ccvaliddate\", StringType()),\n",
    "                    StructField(\"ccbill_previous\", StringType()),\n",
    "                    StructField(\"welcome_crit\", StringType()),\n",
    "                    StructField(\"ccmname\", StringType()),\n",
    "                    StructField(\"ccemail\", StringType()),\n",
    "                    StructField(\"ccaddryears\", StringType()),\n",
    "                    StructField(\"ccsmsno\", StringType()),\n",
    "                    StructField(\"ccinccode\", StringType()),\n",
    "                    StructField(\"userlastmod\", StringType()),\n",
    "                    StructField(\"ccbilltemp\", StringType()),\n",
    "                    StructField(\"ccvalidation\", StringType()),\n",
    "                    StructField(\"ccuser_inst\", StringType()),\n",
    "                    StructField(\"cclocation_1\", StringType()),\n",
    "                    StructField(\"cclocation_2\", StringType()),\n",
    "                    StructField(\"ccremark\", StringType()),\n",
    "                    StructField(\"dwh_etl_history_fk\", StringType()),\n",
    "                    StructField(\"flg_processed\", StringType()),\n",
    "                    StructField(\"flg_error\", StringType()),\n",
    "                    StructField(\"error_desc\", StringType()),\n",
    "                    StructField(\"stg_record_load_date\", StringType())\n",
    "                ])"
   ]
  },
  {
   "cell_type": "code",
   "execution_count": 28,
   "id": "a4e290a7",
   "metadata": {},
   "outputs": [
    {
     "name": "stdout",
     "output_type": "stream",
     "text": [
      "Number of columns of contract: 70\n"
     ]
    }
   ],
   "source": [
    "num_columns_contract = len(df_source_schema.fields)\n",
    "print(\"Number of columns of contract:\", num_columns_contract)"
   ]
  },
  {
   "cell_type": "code",
   "execution_count": 29,
   "id": "de2b2547",
   "metadata": {},
   "outputs": [],
   "source": [
    "df_source_data = spark.createDataFrame([], schema=df_source_schema)"
   ]
  },
  {
   "cell_type": "code",
   "execution_count": 30,
   "id": "ac649937",
   "metadata": {},
   "outputs": [
    {
     "name": "stdout",
     "output_type": "stream",
     "text": [
      "File in processing: database/bscs/bscs_ccontact_all/20240318/000dbda8-179d-41b8-ae66-b93b8919e37e.csv\n",
      "+-----------+-----+-------+--------------+-------+--------------------+--------------------+----------+-----------------+-------------------+-------+-------+----------+------+---------+-----------------+---------------+------------+-------+----------------+--------------------+--------------------+--------------------+------------------+---------+----------+----------+---------+--------+------+------+-------------+----------+------+----------+-----------+---------+--------+-------+----------+------------+--------------------+------------+-------------+-----+-----------+--------------+--------+-------+---------+-------------+---------------+------------+-------+-------+-----------+---------+---------+-----------+----------+------------+-----------+------------+------------+--------+------------------+-------------+---------+----------+--------------------+\n",
      "|customer_id|ccseq|cctitle|        ccname|ccfname|             cclname|            ccstreet|ccstreetno|        cclnamemc|            ccaddr1|ccaddr2|ccaddr3|    cccity| cczip|cccountry|             cctn|          cctn2|       ccfax|ccline1|         ccline2|             ccline3|             ccline4|             ccline5|           ccline6|cctn_area|cctn2_area|ccfax_area|ccjobdesc|ccdeftrk|ccuser|ccbill|ccbilldetails|cccontract|ccship|ccmagazine|ccdirectory|ccforward|ccurgent|country|cclanguage|ccadditional|       sort_criteria|   ccentdate|    ccmoddate|ccmod|rec_version|cczip_addition|cccounty|ccstate|ccgeocode|  ccvaliddate|ccbill_previous|welcome_crit|ccmname|ccemail|ccaddryears|  ccsmsno|ccinccode|userlastmod|ccbilltemp|ccvalidation|ccuser_inst|cclocation_1|cclocation_2|ccremark|dwh_etl_history_fk|flg_processed|flg_error|error_desc|stg_record_load_date|\n",
      "+-----------+-----+-------+--------------+-------+--------------------+--------------------+----------+-----------------+-------------------+-------+-------+----------+------+---------+-----------------+---------------+------------+-------+----------------+--------------------+--------------------+--------------------+------------------+---------+----------+----------+---------+--------+------+------+-------------+----------+------+----------+-----------+---------+--------+-------+----------+------------+--------------------+------------+-------------+-----+-----------+--------------+--------+-------+---------+-------------+---------------+------------+-------+-------+-----------+---------+---------+-----------+----------+------------+-----------+------------+------------+--------+------------------+-------------+---------+----------+--------------------+\n",
      "|        109|    1|      1|Pierre Brincat| Pierre|             Brincat|     Triq il-Friefet|      null|            BRNCT|               null|   null|   null|Marsaskala|ZBR 11|     null|Mr Pierre Brincat| Directory - No|I. Bill - No|   null|            null|                null|   Mr Pierre Brincat|     Triq il-Friefet|M ' Scala - ZBR 11|   687488|      null|      null|     null|    null|     X|     X|            X|         X|     X|         X|          X|     null|    null|    128|         2|        null|                null|868579200000| 928800000000|    X|          1|          null|    null|   null|     null| 928800000000|              X|        null|   null|   null|       null|     null|     null|    JSAMMUT|      null|        null|       null|        null|        null|    null|              null|         null|     null|      null|       1532683140000|\n",
      "|        110|    1|      1|  Francis Borg|Francis|                Borg|            Mosta Rd|      null|              BRG|               null|   null|   null|    Naxxar|NXR 02|     null|  Mr Francis Borg|Directory - Yes|I. Bill - No|   null|              Mr|        Francis Borg|             Franrit|            Mosta Rd|   M-NXR 02 Naxxar|   430715|      null|      null|     null|    null|     X|     X|            X|         X|     X|         X|          X|     null|    null|    128|         2|        null|                null|868579200000|         null| null|          0|          null|    null|   null|     null|         null|              X|        null|   null|   null|       null|     null|     null|       null|      null|        null|       null|        null|        null|    null|              null|         null|     null|      null|       1532683140000|\n",
      "|        111|    1|   null|          null|   null|Oilfield Supplies...|         Sliema Road|      null|LFLDSPPLSSRVCSLTD|C/O Mr Francis Borg|   null|   null|     Gzira| GZR04|     null|     Francis Borg|  Directory -No|     IB - No|   null|            null|Oilfield Supplies...| C/O Mr Francis Borg|         Sliema Road|     Gzira - GZR04|   319082|      null|      null|     null|    null|     X|     X|            X|         X|     X|         X|          X|     null|    null|    128|         2|        null|                null|868579200000| 876482026000|    X|          3|          null|    null|   null|     null|         null|              X|        null|   null|   null|       null|     null|     null|     DTONNA|      null|        null|       null|        null|        null|    null|              null|         null|     null|      null|       1532683140000|\n",
      "|        113|    1|      1|            8,| Silvio|           Buttigieg|        Jesuits Hill|      null|            BTTGG|               null|   null|   null|     Marsa|  null|     null| Silvio Buttigieg|  Directory-Yes|      IB-Yes|     Mr|Silvio Buttigieg|                  8,|        Jesuits Hill|               Marsa|             Malta|   241653|      null|      null|     null|    null|     X|     X|            X|         X|     X|         X|          X|     null|    null|    128|         2|        null|00000000000000000...|868579200000|1147189610000|    X|          5|          null|    null|   null|     null|1083888000000|              X|        null|   null|   null|       null|spk to VG|     null|    NFALZON|      null|        null|       null|        null|        null|    null|              null|         null|     null|      null|       1532683140000|\n",
      "|        114|    1|   null|          null|   null|PriceWaterhouseCo...|Mgr. A. Mifsud St...|      null|     PRCWTRHSCPRS|               null|   null|   null| Ta' Xbiex| MSD11|     null|    George Sammut|Directory - Yes|    IB - Yes|   null|            null|                null|PriceWaterhouseCo...|Mgr. A. Mifsud St...|  Ta'Xbiex - MSD11|   344360|      null|      null|     null|    null|     X|  null|         null|         X|     X|         X|       null|     null|    null|    128|         2|        null|                null|868579200000| 988243200000|    X|          6|          null|    null|   null|     null|         null|              X|        null|   null|   null|       null|     null|     null|        BRM|      null|        null|       null|        null|        null|    null|              null|         null|     null|      null|       1532683140000|\n",
      "+-----------+-----+-------+--------------+-------+--------------------+--------------------+----------+-----------------+-------------------+-------+-------+----------+------+---------+-----------------+---------------+------------+-------+----------------+--------------------+--------------------+--------------------+------------------+---------+----------+----------+---------+--------+------+------+-------------+----------+------+----------+-----------+---------+--------+-------+----------+------------+--------------------+------------+-------------+-----+-----------+--------------+--------+-------+---------+-------------+---------------+------------+-------+-------+-----------+---------+---------+-----------+----------+------------+-----------+------------+------------+--------+------------------+-------------+---------+----------+--------------------+\n",
      "only showing top 5 rows\n",
      "\n",
      "No of columns matched\n"
     ]
    }
   ],
   "source": [
    "# reading files in the source\n",
    "for file_name in file_list:\n",
    "\n",
    "    print(f'File in processing: {file_name}')\n",
    "    \n",
    "    df = spark.read.format(\"csv\") \\\n",
    "                    .option(\"header\", \"true\") \\\n",
    "                    .option(\"delimiter\", \",\") \\\n",
    "                    .schema(df_source_schema) \\\n",
    "                    .load(f\"s3a://{environment}-{source_bucket}/{file_name}\")\n",
    "    \n",
    "    df.show(5)\n",
    "    \n",
    "    if len(df.columns) == num_columns_contract:\n",
    "        print('No of columns matched')\n",
    "        df_source_data = df_source_data.union(df)


### Small transformation
df_send_to_bronze = audit_add_column(df_source_data)"
   ]
  },
  {
   "cell_type": "code",
   "execution_count": 31,
   "id": "7c57cda2",
   "metadata": {},
   "outputs": [
    {
     "name": "stdout",
     "output_type": "stream",
     "text": [
      "+-----------+-----+-------+--------------+-------+--------------------+--------------------+----------+-----------------+--------------------+----------+----------+----------+------+---------+-----------------+---------------+------------+-------+-----------------+--------------------+--------------------+--------------------+------------------+---------+----------+----------+---------+--------+------+------+-------------+----------+------+----------+-----------+---------+--------+-------+----------+------------+--------------------+------------+-------------+-----+-----------+--------------+--------+-------+---------+-------------+---------------+------------+-------+-------+-----------+---------+---------+-----------+----------+------------+-----------+------------+------------+--------+------------------+-------------+---------+----------+--------------------+\n",
      "|customer_id|ccseq|cctitle|        ccname|ccfname|             cclname|            ccstreet|ccstreetno|        cclnamemc|             ccaddr1|   ccaddr2|   ccaddr3|    cccity| cczip|cccountry|             cctn|          cctn2|       ccfax|ccline1|          ccline2|             ccline3|             ccline4|             ccline5|           ccline6|cctn_area|cctn2_area|ccfax_area|ccjobdesc|ccdeftrk|ccuser|ccbill|ccbilldetails|cccontract|ccship|ccmagazine|ccdirectory|ccforward|ccurgent|country|cclanguage|ccadditional|       sort_criteria|   ccentdate|    ccmoddate|ccmod|rec_version|cczip_addition|cccounty|ccstate|ccgeocode|  ccvaliddate|ccbill_previous|welcome_crit|ccmname|ccemail|ccaddryears|  ccsmsno|ccinccode|userlastmod|ccbilltemp|ccvalidation|ccuser_inst|cclocation_1|cclocation_2|ccremark|dwh_etl_history_fk|flg_processed|flg_error|error_desc|stg_record_load_date|\n",
      "+-----------+-----+-------+--------------+-------+--------------------+--------------------+----------+-----------------+--------------------+----------+----------+----------+------+---------+-----------------+---------------+------------+-------+-----------------+--------------------+--------------------+--------------------+------------------+---------+----------+----------+---------+--------+------+------+-------------+----------+------+----------+-----------+---------+--------+-------+----------+------------+--------------------+------------+-------------+-----+-----------+--------------+--------+-------+---------+-------------+---------------+------------+-------+-------+-----------+---------+---------+-----------+----------+------------+-----------+------------+------------+--------+------------------+-------------+---------+----------+--------------------+\n",
      "|        109|    1|      1|Pierre Brincat| Pierre|             Brincat|     Triq il-Friefet|      null|            BRNCT|                null|      null|      null|Marsaskala|ZBR 11|     null|Mr Pierre Brincat| Directory - No|I. Bill - No|   null|             null|                null|   Mr Pierre Brincat|     Triq il-Friefet|M ' Scala - ZBR 11|   687488|      null|      null|     null|    null|     X|     X|            X|         X|     X|         X|          X|     null|    null|    128|         2|        null|                null|868579200000| 928800000000|    X|          1|          null|    null|   null|     null| 928800000000|              X|        null|   null|   null|       null|     null|     null|    JSAMMUT|      null|        null|       null|        null|        null|    null|              null|         null|     null|      null|       1532683140000|\n",
      "|        110|    1|      1|  Francis Borg|Francis|                Borg|            Mosta Rd|      null|              BRG|                null|      null|      null|    Naxxar|NXR 02|     null|  Mr Francis Borg|Directory - Yes|I. Bill - No|   null|               Mr|        Francis Borg|             Franrit|            Mosta Rd|   M-NXR 02 Naxxar|   430715|      null|      null|     null|    null|     X|     X|            X|         X|     X|         X|          X|     null|    null|    128|         2|        null|                null|868579200000|         null| null|          0|          null|    null|   null|     null|         null|              X|        null|   null|   null|       null|     null|     null|       null|      null|        null|       null|        null|        null|    null|              null|         null|     null|      null|       1532683140000|\n",
      "|        111|    1|   null|          null|   null|Oilfield Supplies...|         Sliema Road|      null|LFLDSPPLSSRVCSLTD| C/O Mr Francis Borg|      null|      null|     Gzira| GZR04|     null|     Francis Borg|  Directory -No|     IB - No|   null|             null|Oilfield Supplies...| C/O Mr Francis Borg|         Sliema Road|     Gzira - GZR04|   319082|      null|      null|     null|    null|     X|     X|            X|         X|     X|         X|          X|     null|    null|    128|         2|        null|                null|868579200000| 876482026000|    X|          3|          null|    null|   null|     null|         null|              X|        null|   null|   null|       null|     null|     null|     DTONNA|      null|        null|       null|        null|        null|    null|              null|         null|     null|      null|       1532683140000|\n",
      "|        113|    1|      1|            8,| Silvio|           Buttigieg|        Jesuits Hill|      null|            BTTGG|                null|      null|      null|     Marsa|  null|     null| Silvio Buttigieg|  Directory-Yes|      IB-Yes|     Mr| Silvio Buttigieg|                  8,|        Jesuits Hill|               Marsa|             Malta|   241653|      null|      null|     null|    null|     X|     X|            X|         X|     X|         X|          X|     null|    null|    128|         2|        null|00000000000000000...|868579200000|1147189610000|    X|          5|          null|    null|   null|     null|1083888000000|              X|        null|   null|   null|       null|spk to VG|     null|    NFALZON|      null|        null|       null|        null|        null|    null|              null|         null|     null|      null|       1532683140000|\n",
      "|        114|    1|   null|          null|   null|PriceWaterhouseCo...|Mgr. A. Mifsud St...|      null|     PRCWTRHSCPRS|                null|      null|      null| Ta' Xbiex| MSD11|     null|    George Sammut|Directory - Yes|    IB - Yes|   null|             null|                null|PriceWaterhouseCo...|Mgr. A. Mifsud St...|  Ta'Xbiex - MSD11|   344360|      null|      null|     null|    null|     X|  null|         null|         X|     X|         X|       null|     null|    null|    128|         2|        null|                null|868579200000| 988243200000|    X|          6|          null|    null|   null|     null|         null|              X|        null|   null|   null|       null|     null|     null|        BRM|      null|        null|       null|        null|        null|    null|              null|         null|     null|      null|       1532683140000|\n",
      "|        115|    1|      1|          null| Rudolf|             Kopylov|  Santa Maria Estate|      null|            KPYLV|                null|Villa Emma|Undercliff|  Mellieha| SPB12|     null|   Rudolf Kopylov| Directory - No|    IB - Yes|   null|Mr Rudolf Kopylov|          Villa Emma|          Undercliff|  Santa Maria Estate|  Mellieha - SPB12|   523152|      null|      null|     null|    null|     X|     X|            X|         X|     X|         X|          X|     null|    null|    128|         2|        null|                null|868579200000| 916704000000|    X|          3|          null|    null|   null|     null|         null|              X|        null|   null|   null|       null|     null|     null|        FAN|      null|        null|       null|        null|        null|    null|              null|         null|     null|      null|       1532683140000|\n",
      "|        116|    1|   null|          null|Dr. Joe|              Fenech|   Old Bakery Street|      null|             FNCH|Fenech & Fenech A...|      null|      null|  Valletta| VLT09|     null|             null|      Dir - Yes|     IB - No|   null|             null|      Dr. Joe Fenech|Fenech & Fenech A...|   Old Bakery Street|  Valletta - VLT09|   241232|      null|      null|     null|    null|     X|     X|            X|         X|     X|         X|          X|     null|    null|    128|         2|        null|                null|868665600000| 927763200000|    X|          1|          null|    null|   null|     null|         null|              X|        null|   null|   null|       null|     null|     null|    SAQUILI|      null|        null|       null|        null|        null|    null|              null|         null|     null|      null|       1532683140000|\n",
      "|        117|    1|      1|     Tal-Virtu|Anthony|           Camilleri|Triq Guzeppi Caruana|      null|            CMLLR|                null|      null|      null|     Rabat|  null|     null|             null|        Dir-Yes|      IB-Yes|     Mr|Anthony Camilleri|           Tal-Virtu|Triq Guzeppi Caruana|               Rabat|             Malta|   455430|      null|      null|     null|    null|     X|     X|            X|         X|     X|         X|          X|     null|    null|    128|         2|        null|00000000000000000...|868665600000|1083931358000|    X|          3|          null|    null|   null|     null|1083888000000|              X|        null|   null|   null|       null|     null|     null|      OLAFM|         X|           X|       null|        null|        null|    null|              null|         null|     null|      null|       1532683140000|\n",
      "|        118|    1|   null|          null|   null|    FDG Services Ltd|   Old Bakery Street|      null|      FDGSRVCSLTD|                null|      null|      null|  Valletta| VLT09|     null|             null|      Dir - Yes|    IB - Yes|   null|             null|                null|    FDG Services Ltd|   Old Bakery Street|  Valletta - VLT09|   241232|      null|      null|     null|    null|     X|     X|            X|         X|     X|         X|          X|     null|    null|    128|         2|        null|                null|868665600000| 927763200000|    X|          3|          null|    null|   null|     null|         null|              X|        null|   null|   null|       null|     null|     null|    SAQUILI|         X|        null|       null|        null|        null|    null|              null|         null|     null|      null|       1532683140000|\n",
      "|        119|    1|      1|          null| Joseph|            Mulvaney| P.M. Sultana Street|      null|            MLVNY|                null|      null|      null|   Kalkara|  null|     null|             null|      Dir - Yes|     IB - No|     Mr|  Joseph Mulvaney|                null| P.M. Sultana Street|             Kalkara|             Malta|   807673|      null|      null|     null|    null|     X|     X|            X|         X|     X|         X|          X|     null|    null|    128|         2|        null|00000000000000000...|868665600000|1083931392000|    X|          2|          null|    null|   null|     null|1083888000000|              X|        null|   null|   null|       null|     null|     null|      OLAFM|         X|           X|       null|        null|        null|    null|              null|         null|     null|      null|       1532683140000|\n",
      "+-----------+-----+-------+--------------+-------+--------------------+--------------------+----------+-----------------+--------------------+----------+----------+----------+------+---------+-----------------+---------------+------------+-------+-----------------+--------------------+--------------------+--------------------+------------------+---------+----------+----------+---------+--------+------+------+-------------+----------+------+----------+-----------+---------+--------+-------+----------+------------+--------------------+------------+-------------+-----+-----------+--------------+--------+-------+---------+-------------+---------------+------------+-------+-------+-----------+---------+---------+-----------+----------+------------+-----------+------------+------------+--------+------------------+-------------+---------+----------+--------------------+\n",
      "only showing top 10 rows\n",
      "\n"
     ]
    }
   ],
   "source": [
    "# print(\"No of lines to load: \", len(df_source_data))\n",
    "df_source_data.show(10)"
   ]
  },
  {
   "cell_type": "code",
   "execution_count": 32,
   "id": "7748abd0",
   "metadata": {},
   "outputs": [
    {
     "data": {
      "text/plain": [
       "DataFrame[summary: string, customer_id: string, ccseq: string, cctitle: string, ccname: string, ccfname: string, cclname: string, ccstreet: string, ccstreetno: string, cclnamemc: string, ccaddr1: string, ccaddr2: string, ccaddr3: string, cccity: string, cczip: string, cccountry: string, cctn: string, cctn2: string, ccfax: string, ccline1: string, ccline2: string, ccline3: string, ccline4: string, ccline5: string, ccline6: string, cctn_area: string, cctn2_area: string, ccfax_area: string, ccjobdesc: string, ccdeftrk: string, ccuser: string, ccbill: string, ccbilldetails: string, cccontract: string, ccship: string, ccmagazine: string, ccdirectory: string, ccforward: string, ccurgent: string, country: string, cclanguage: string, ccadditional: string, sort_criteria: string, ccentdate: string, ccmoddate: string, ccmod: string, rec_version: string, cczip_addition: string, cccounty: string, ccstate: string, ccgeocode: string, ccvaliddate: string, ccbill_previous: string, welcome_crit: string, ccmname: string, ccemail: string, ccaddryears: string, ccsmsno: string, ccinccode: string, userlastmod: string, ccbilltemp: string, ccvalidation: string, ccuser_inst: string, cclocation_1: string, cclocation_2: string, ccremark: string, dwh_etl_history_fk: string, flg_processed: string, flg_error: string, error_desc: string, stg_record_load_date: string]"
      ]
     },
     "execution_count": 32,
     "metadata": {},
     "output_type": "execute_result"
    }
   ],
   "source": [
    "df_source_data.describe()"
   ]
  },
  {
   "cell_type": "markdown",
   "id": "2c00649b",
   "metadata": {},
   "source": [
    "### DDL on lakehouse"
   ]
  },
  {
   "cell_type": "markdown",
   "id": "e8657e62",
   "metadata": {},
   "source": [
    "#### Data base"
   ]
  },
  {
   "cell_type": "code",
   "execution_count": 33,
   "id": "e772c9bc",
   "metadata": {},
   "outputs": [
    {
     "name": "stdout",
     "output_type": "stream",
     "text": [
      "\n",
      "CREATE DATABASE IF NOT EXISTS iceberg.bronze COMMENT '' LOCATION 's3a://prd-lakehouse/iceberg/bronze/'\n",
      "\n"
     ]
    },
    {
     "data": {
      "text/plain": [
       "DataFrame[]"
      ]
     },
     "execution_count": 33,
     "metadata": {},
     "output_type": "execute_result"
    }
   ],
   "source": [
    "##creating db\n",
    "sql_db_create = f\"\"\"\n",
    "CREATE DATABASE IF NOT EXISTS {dest_final_db} COMMENT '' LOCATION 's3a://{environment}-{lakehouse_bucket}/{dest_db_catalog}/{dest_db_schema}/'\n",
    "\"\"\"\n",
    "print(sql_db_create)\n",
    "spark.sql(sql_db_create)"
   ]
  },
  {
   "cell_type": "markdown",
   "id": "def1834a",
   "metadata": {},
   "source": [
    "#### Dest table"
   ]
  },
  {
   "cell_type": "code",
   "execution_count": 34,
   "id": "81dfd591",
   "metadata": {},
   "outputs": [],
   "source": [
    "sql_ddl_drop_table = f\"\"\"\n",
    "    DROP TABLE IF EXISTS  {dest_final_table}\n",
    "\"\"\""
   ]
  },
  {
   "cell_type": "code",
   "execution_count": 35,
   "id": "732e1be7-f60b-4798-8f78-6b43937dfe05",
   "metadata": {},
   "outputs": [],
   "source": [
    "sql_ddl_create_table = f\"\"\"\n",
    "        create table if not exists {dest_final_table}\n",
    "        (\n",
    "\t\t\tcustomer_id string,\n",
    "\t\t\tccseq string,\n",
    "\t\t\tcctitle string,\n",
    "\t\t\tccname string,\n",
    "\t\t\tccfname string,\n",
    "\t\t\tcclname string,\n",
    "\t\t\tccstreet string,\n",
    "\t\t\tccstreetno string,\n",
    "\t\t\tcclnamemc string,\n",
    "\t\t\tccaddr1 string,\n",
    "\t\t\tccaddr2 string,\n",
    "\t\t\tccaddr3 string,\n",
    "\t\t\tcccity string,\n",
    "\t\t\tcczip string,\n",
    "\t\t\tcccountry string,\n",
    "\t\t\tcctn string,\n",
    "\t\t\tcctn2 string,\n",
    "\t\t\tccfax string,\n",
    "\t\t\tccline1 string,\n",
    "\t\t\tccline2 string,\n",
    "\t\t\tccline3 string,\n",
    "\t\t\tccline4 string,\n",
    "\t\t\tccline5 string,\n",
    "\t\t\tccline6 string,\n",
    "\t\t\tcctn_area string,\n",
    "\t\t\tcctn2_area string,\n",
    "\t\t\tccfax_area string,\n",
    "\t\t\tccjobdesc string,\n",
    "\t\t\tccdeftrk string,\n",
    "\t\t\tccuser string,\n",
    "\t\t\tccbill string,\n",
    "\t\t\tccbilldetails string,\n",
    "\t\t\tcccontract string,\n",
    "\t\t\tccship string,\n",
    "\t\t\tccmagazine string,\n",
    "\t\t\tccdirectory string,\n",
    "\t\t\tccforward string,\n",
    "\t\t\tccurgent string,\n",
    "\t\t\tcountry string,\n",
    "\t\t\tcclanguage string,\n",
    "\t\t\tccadditional string,\n",
    "\t\t\tsort_criteria string,\n",
    "\t\t\tccentdate string,\n",
    "\t\t\tccmoddate string,\n",
    "\t\t\tccmod string,\n",
    "\t\t\trec_version string,\n",
    "\t\t\tcczip_addition string,\n",
    "\t\t\tcccounty string,\n",
    "\t\t\tccstate string,\n",
    "\t\t\tccgeocode string,\n",
    "\t\t\tccvaliddate string,\n",
    "\t\t\tccbill_previous string,\n",
    "\t\t\twelcome_crit string,\n",
    "\t\t\tccmname string,\n",
    "\t\t\tccemail string,\n",
    "\t\t\tccaddryears string,\n",
    "\t\t\tccsmsno string,\n",
    "\t\t\tccinccode string,\n",
    "\t\t\tuserlastmod string,\n",
    "\t\t\tccbilltemp string,\n",
    "\t\t\tccvalidation string,\n",
    "\t\t\tccuser_inst string,\n",
    "\t\t\tcclocation_1 string,\n",
    "\t\t\tcclocation_2 string,\n",
    "\t\t\tccremark string,\n",
    "\t\t\tdwh_etl_history_fk string,\n",
    "\t\t\tflg_processed string,\n",
    "\t\t\tflg_error string,\n",
    "\t\t\terror_desc string,\n",
    "\t\t\tstg_record_load_date string\n",
    "        ) \n",
    "        using iceberg\n",
    "        \"\"\"        "
   ]
  },
  {
   "cell_type": "markdown",
   "id": "ed2ac78d",
   "metadata": {},
   "source": [
    "#### SQL DDL Execution"
   ]
  },
  {
   "cell_type": "code",
   "execution_count": 36,
   "id": "0ea4fbd0",
   "metadata": {},
   "outputs": [
    {
     "data": {
      "text/plain": [
       "DataFrame[]"
      ]
     },
     "execution_count": 36,
     "metadata": {},
     "output_type": "execute_result"
    }
   ],
   "source": [
    "## drop table\n",
    "spark.sql(sql_ddl_drop_table)\n",
    "\n",
    "## create table\n",
    "spark.sql(sql_ddl_create_table)"
   ]
  },
  {
   "cell_type": "markdown",
   "id": "4bb3c147",
   "metadata": {},
   "source": [
    "### Small transformation"
   ]
  },
  {
   "cell_type": "code",
   "execution_count": 37,
   "id": "b84283a6-aa02-4dee-8c09-f4be99877e02",
   "metadata": {},
   "outputs": [],
   "source": [
    "# # some transformations\n",
    "#     df = df.withColumn(\"duration\", df[\"duration\"].cast(\"double\"))\n",
    "#     # df = df.withColumn(\"event_date\", to_date(df[\"record_opening_time\"], \"yyyyMMddHHmmss\"))\n",
    "#     # to_date(df[\"record_opening_time\"], \"yyyyMMddHHmmss\")\n",
    "\n",
    "#     df.withColumn(\"event_date\", from_unixtime(unix_timestamp(\"record_opening_time\", \"yyyyMMddHHmmss\")))\n",
    "\n",
    "#     df.select('event_date').show()"
   ]
  },
  {
   "cell_type": "markdown",
   "id": "1fdfc847",
   "metadata": {},
   "source": [
    "### Write table"
   ]
  },
  {
   "cell_type": "code",
   "execution_count": 38,
   "id": "26862bbf-ce47-4d31-88ac-c1dc2f81a483",
   "metadata": {},
   "outputs": [
    {
     "name": "stderr",
     "output_type": "stream",
     "text": [
      "                                                                                \r"
     ]
    }
   ],
   "source": [
    "# wrintint the data on lakehouse\n",
    "df_send_to_bronze.writeTo(f'{dest_final_table}').append()"
   ]
  },
  {
   "cell_type": "code",
   "execution_count": 39,
   "id": "cc13221e-980b-4948-9ea3-c4f928e87de8",
   "metadata": {},
   "outputs": [
    {
     "name": "stdout",
     "output_type": "stream",
     "text": [
      "root\n",
      " |-- customer_id: string (nullable = true)\n",
      " |-- ccseq: string (nullable = true)\n",
      " |-- cctitle: string (nullable = true)\n",
      " |-- ccname: string (nullable = true)\n",
      " |-- ccfname: string (nullable = true)\n",
      " |-- cclname: string (nullable = true)\n",
      " |-- ccstreet: string (nullable = true)\n",
      " |-- ccstreetno: string (nullable = true)\n",
      " |-- cclnamemc: string (nullable = true)\n",
      " |-- ccaddr1: string (nullable = true)\n",
      " |-- ccaddr2: string (nullable = true)\n",
      " |-- ccaddr3: string (nullable = true)\n",
      " |-- cccity: string (nullable = true)\n",
      " |-- cczip: string (nullable = true)\n",
      " |-- cccountry: string (nullable = true)\n",
      " |-- cctn: string (nullable = true)\n",
      " |-- cctn2: string (nullable = true)\n",
      " |-- ccfax: string (nullable = true)\n",
      " |-- ccline1: string (nullable = true)\n",
      " |-- ccline2: string (nullable = true)\n",
      " |-- ccline3: string (nullable = true)\n",
      " |-- ccline4: string (nullable = true)\n",
      " |-- ccline5: string (nullable = true)\n",
      " |-- ccline6: string (nullable = true)\n",
      " |-- cctn_area: string (nullable = true)\n",
      " |-- cctn2_area: string (nullable = true)\n",
      " |-- ccfax_area: string (nullable = true)\n",
      " |-- ccjobdesc: string (nullable = true)\n",
      " |-- ccdeftrk: string (nullable = true)\n",
      " |-- ccuser: string (nullable = true)\n",
      " |-- ccbill: string (nullable = true)\n",
      " |-- ccbilldetails: string (nullable = true)\n",
      " |-- cccontract: string (nullable = true)\n",
      " |-- ccship: string (nullable = true)\n",
      " |-- ccmagazine: string (nullable = true)\n",
      " |-- ccdirectory: string (nullable = true)\n",
      " |-- ccforward: string (nullable = true)\n",
      " |-- ccurgent: string (nullable = true)\n",
      " |-- country: string (nullable = true)\n",
      " |-- cclanguage: string (nullable = true)\n",
      " |-- ccadditional: string (nullable = true)\n",
      " |-- sort_criteria: string (nullable = true)\n",
      " |-- ccentdate: string (nullable = true)\n",
      " |-- ccmoddate: string (nullable = true)\n",
      " |-- ccmod: string (nullable = true)\n",
      " |-- rec_version: string (nullable = true)\n",
      " |-- cczip_addition: string (nullable = true)\n",
      " |-- cccounty: string (nullable = true)\n",
      " |-- ccstate: string (nullable = true)\n",
      " |-- ccgeocode: string (nullable = true)\n",
      " |-- ccvaliddate: string (nullable = true)\n",
      " |-- ccbill_previous: string (nullable = true)\n",
      " |-- welcome_crit: string (nullable = true)\n",
      " |-- ccmname: string (nullable = true)\n",
      " |-- ccemail: string (nullable = true)\n",
      " |-- ccaddryears: string (nullable = true)\n",
      " |-- ccsmsno: string (nullable = true)\n",
      " |-- ccinccode: string (nullable = true)\n",
      " |-- userlastmod: string (nullable = true)\n",
      " |-- ccbilltemp: string (nullable = true)\n",
      " |-- ccvalidation: string (nullable = true)\n",
      " |-- ccuser_inst: string (nullable = true)\n",
      " |-- cclocation_1: string (nullable = true)\n",
      " |-- cclocation_2: string (nullable = true)\n",
      " |-- ccremark: string (nullable = true)\n",
      " |-- dwh_etl_history_fk: string (nullable = true)\n",
      " |-- flg_processed: string (nullable = true)\n",
      " |-- flg_error: string (nullable = true)\n",
      " |-- error_desc: string (nullable = true)\n",
      " |-- stg_record_load_date: string (nullable = true)\n",
      "\n",
      "None\n"
     ]
    },
    {
     "name": "stderr",
     "output_type": "stream",
     "text": [
      "[Stage 9:>                                                          (0 + 1) / 1]\r"
     ]
    },
    {
     "name": "stdout",
     "output_type": "stream",
     "text": [
      "No of Records: 356116\n"
     ]
    },
    {
     "name": "stderr",
     "output_type": "stream",
     "text": [
      "                                                                                \r"
     ]
    }
   ],
   "source": [
    "system_table = spark.table(f'{dest_final_table}')\n",
    "print(system_table.printSchema())\n",
    "print(f\"No of Records: {system_table.count()}\")"
   ]
  }
 ],
 "metadata": {
  "kernelspec": {
   "display_name": "Python 3 (ipykernel)",
   "language": "python",
   "name": "python3"
  },
  "language_info": {
   "codemirror_mode": {
    "name": "ipython",
    "version": 3
   },
   "file_extension": ".py",
   "mimetype": "text/x-python",
   "name": "python",
   "nbconvert_exporter": "python",
   "pygments_lexer": "ipython3",
   "version": "3.8.10"
  }
 },
 "nbformat": 4,
 "nbformat_minor": 5
}
