{
 "cells": [
  {
   "cell_type": "markdown",
   "id": "971a3450",
   "metadata": {},
   "source": [
    "### Libraries and session"
   ]
  },
  {
   "cell_type": "code",
   "execution_count": 1,
   "id": "8cdacd29-30c7-4986-b0f0-36f46289114e",
   "metadata": {},
   "outputs": [],
   "source": [
    "import pyspark\n",
    "import boto3\n",
    "from pyspark.sql import SparkSession\n",
    "from pyspark.sql.types import StructType, StructField, StringType, TimestampType, IntegerType, DateType, DecimalType\n",
    "from pyspark.sql.functions import year, to_date, month, dayofmonth,  from_unixtime, unix_timestamp"
   ]
  },
  {
   "cell_type": "code",
   "execution_count": 2,
   "id": "02e77c0b",
   "metadata": {},
   "outputs": [],
   "source": [
    "# ip and environments\n",
    "environment = 'prd'\n",
    "\n",
    "# Source\n",
    "system_source = \"bscs\"\n",
    "system_table =\"bscs_contr_services_cap\"\n",
    "\n",
    "# Set the bucket and folder paths\n",
    "source_bucket = 'landing-zone'\n",
    "source_folder = f'database/{system_source}/{system_table}'\n",
    "\n",
    "lakehouse_bucket = 'lakehouse'\n",
    "lakehouse_folder = 'iceberg'\n",
    "\n",
    "# table destination settings\n",
    "dest_db_catalog = 'iceberg'\n",
    "dest_db_schema = 'bronze'\n",
    "dest_db_table = system_table\n",
    "dest_final_db = f'{dest_db_catalog}.{dest_db_schema}'\n",
    "dest_final_table = f'{dest_final_db}.{dest_db_table}'\n",
    "\n",
    "# Spark identification and settings\n",
    "appname = f'BRONZE_{dest_final_db}.{dest_final_table}'\n",
    "log_level = 'WARN' # Valid log levels include: ALL, DEBUG, ERROR, FATAL, INFO, OFF, TRACE, WARN\n",
    "\n",
    "# Set your MinIO credentials\n",
    "s3_endpoint = 'http://minio:9000'\n",
    "s3_access_key = 'minio'\n",
    "s3_secret_key = 'minio123'"
   ]
  },
  {
   "cell_type": "code",
   "execution_count": 3,
   "id": "094ec688-91d3-4648-a78c-1131a892caaf",
   "metadata": {},
   "outputs": [
    {
     "name": "stderr",
     "output_type": "stream",
     "text": [
      "Setting default log level to \"WARN\".\n",
      "To adjust logging level use sc.setLogLevel(newLevel). For SparkR, use setLogLevel(newLevel).\n",
      "24/03/18 12:49:14 WARN NativeCodeLoader: Unable to load native-hadoop library for your platform... using builtin-java classes where applicable\n"
     ]
    }
   ],
   "source": [
    "spark = SparkSession.builder\\\n",
    "    .appName(appname)\\\n",
    "    .getOrCreate()"
   ]
  },
  {
   "cell_type": "code",
   "execution_count": 4,
   "id": "d06374f1-31e1-4eff-b369-75c9cd30ea81",
   "metadata": {},
   "outputs": [
    {
     "name": "stdout",
     "output_type": "stream",
     "text": [
      "=================================================\n",
      "[('spark.hadoop.hive.cli.print.header', 'true'), ('spark.hadoop.fs.s3a.connection.ssl.enabled', 'false'), ('spark.app.submitTime', '1710766154464'), ('spark.hadoop.fs.s3a.path.style.access', 'true'), ('spark.sql.catalog.spark_catalog', 'org.apache.iceberg.spark.SparkSessionCatalog'), ('spark.hadoop.fs.s3.endpoint', 'http://minio:9000'), ('spark.app.name', 'BRONZE_iceberg.bronze.iceberg.bronze.bscs_contr_services_cap'), ('spark.hadoop.fs.s3.access.key', 'minio'), ('spark.hadoop.fs.s3.impl', 'org.apache.hadoop.fs.s3a.S3AFileSystem'), ('spark.sql.catalog.iceberg.uri', 'thrift://hive-metastore:9083'), ('spark.sql.catalog.iceberg.s3.endpoint', 'http://minio:9000'), ('spark.sql.catalog.iceberg.s3.path-style-access', 'true'), ('spark.hadoop.fs.s3.path.style.access', 'true'), ('spark.hive.metastore.uris', 'thrift://hive-metastore:9083'), ('spark.master', 'local[*]'), ('spark.submit.deployMode', 'client'), ('spark.hadoop.fs.s3a.access.key', 'minio'), ('spark.sql.catalog.iceberg.io-impl', 'org.apache.iceberg.aws.s3.S3FileIO'), ('spark.hadoop.fs.s3.secret.key', 'minio123'), ('spark.sql.extensions', 'org.apache.iceberg.spark.extensions.IcebergSparkSessionExtensions'), ('spark.hadoop.fs.s3a.impl', 'org.apache.hadoop.fs.s3a.S3AFileSystem'), ('spark.sql.catalog.iceberg', 'org.apache.iceberg.spark.SparkCatalog'), ('spark.sql.catalogImplementation', 'hive'), ('spark.hadoop.fs.s3.connection.ssl.enabled', 'false'), ('spark.submit.pyFiles', ''), ('spark.sql.catalog.iceberg.warehouse', 's3a://prd-lakehouse/iceberg'), ('spark.hadoop.fs.s3a.endpoint', 'http://minio:9000'), ('spark.hadoop.fs.s3a.secret.key', 'minio123'), ('spark.sql.catalog.iceberg.type', 'hive'), ('spark.ui.showConsoleProgress', 'true'), ('spark.sql.catalog.spark_catalog.type', 'hive')]\n"
     ]
    }
   ],
   "source": [
    "print(\"=================================================\")\n",
    "spark.sparkContext.setLogLevel(log_level)\n",
    "print(pyspark.SparkConf().getAll())"
   ]
  },
  {
   "cell_type": "markdown",
   "id": "cbcf1ffe",
   "metadata": {},
   "source": [
    "### Read from the source"
   ]
  },
  {
   "cell_type": "code",
   "execution_count": 5,
   "id": "6463e5df",
   "metadata": {},
   "outputs": [],
   "source": [
    "s3 = boto3.client('s3', endpoint_url=s3_endpoint, aws_access_key_id=s3_access_key, aws_secret_access_key=s3_secret_key)"
   ]
  },
  {
   "cell_type": "code",
   "execution_count": 6,
   "id": "520e9151",
   "metadata": {},
   "outputs": [],
   "source": [
    "# List all files in the source directory\n",
    "file_list = []\n",
    "paginator = s3.get_paginator('list_objects_v2')\n",
    "\n",
    "for result in paginator.paginate(Bucket=f\"{environment}-{source_bucket}\", Prefix=source_folder):\n",
    "    \n",
    "    if 'Contents' in result:\n",
    "        for item in result['Contents']:\n",
    "            file_list.append(item['Key'])\n"
   ]
  },
  {
   "cell_type": "markdown",
   "id": "519cd0a9",
   "metadata": {},
   "source": [
    "#### Data Contract"
   ]
  },
  {
   "cell_type": "code",
   "execution_count": 7,
   "id": "86b57cf8-fbc5-4f4e-ab70-c317048e2273",
   "metadata": {
    "scrolled": true
   },
   "outputs": [],
   "source": [
    "df_source_schema = StructType([\n",
    "                        StructField(\"co_id\", StringType()),\n",
    "                        StructField(\"sncode\", StringType()),\n",
    "                        StructField(\"seqno\", StringType()),\n",
    "                        StructField(\"seqno_pre\", StringType()),\n",
    "                        StructField(\"bccode\", StringType()),\n",
    "                        StructField(\"pending_bccode\", StringType()),\n",
    "                        StructField(\"dn_id\", StringType()),\n",
    "                        StructField(\"main_dirnum\", StringType()),\n",
    "                        StructField(\"cs_status\", StringType()),\n",
    "                        StructField(\"cs_activ_date\", StringType()),\n",
    "                        StructField(\"cs_deactiv_date\", StringType()),\n",
    "                        StructField(\"cs_request\", StringType()),\n",
    "                        StructField(\"rec_version\", StringType()),\n",
    "                        StructField(\"dn_block_id\", StringType()),\n",
    "                        StructField(\"dwh_etl_history_fk\", StringType()),\n",
    "                        StructField(\"flg_processed\", StringType()),\n",
    "                        StructField(\"flg_error\", StringType()),\n",
    "                        StructField(\"error_desc\", StringType()),\n",
    "                        StructField(\"stg_record_load_date\", StringType())\n",
    "                ])"
   ]
  },
  {
   "cell_type": "code",
   "execution_count": 8,
   "id": "a4e290a7",
   "metadata": {},
   "outputs": [
    {
     "name": "stdout",
     "output_type": "stream",
     "text": [
      "Number of columns of contract: 19\n"
     ]
    }
   ],
   "source": [
    "num_columns_contract = len(df_source_schema.fields)\n",
    "print(\"Number of columns of contract:\", num_columns_contract)"
   ]
  },
  {
   "cell_type": "code",
   "execution_count": 9,
   "id": "de2b2547",
   "metadata": {},
   "outputs": [],
   "source": [
    "df_source_data = spark.createDataFrame([], schema=df_source_schema)"
   ]
  },
  {
   "cell_type": "code",
   "execution_count": 10,
   "id": "ac649937",
   "metadata": {},
   "outputs": [
    {
     "name": "stdout",
     "output_type": "stream",
     "text": [
      "File in processing: database/bscs/bscs_contr_services_cap/20240318/58fe1e9e-1f56-4a37-bb2c-147c549278ce.csv\n"
     ]
    },
    {
     "name": "stderr",
     "output_type": "stream",
     "text": [
      "24/03/18 12:49:25 WARN MetricsConfig: Cannot locate configuration: tried hadoop-metrics2-s3a-file-system.properties,hadoop-metrics2.properties\n"
     ]
    }
   ],
   "source": [
    "# reading files in the source\n",
    "for file_name in file_list:\n",
    "\n",
    "    print(f'File in processing: {file_name}')\n",
    "    \n",
    "    df = spark.read.format(\"csv\") \\\n",
    "                    .option(\"header\", \"true\") \\\n",
    "                    .option(\"delimiter\", \",\") \\\n",
    "                    .schema(df_source_schema) \\\n",
    "                    .load(f\"s3a://{environment}-{source_bucket}/{file_name}\")\n",
    "    \n",
    "\n",
    "    \n",
    "    if len(df.columns) == num_columns_contract:\n",
    "        # print('No of columns matched')\n",
    "        df_source_data = df_source_data.union(df)


### Small transformation
df_send_to_bronze = audit_add_column(df_source_data)"
   ]
  },
  {
   "cell_type": "code",
   "execution_count": 11,
   "id": "7c57cda2",
   "metadata": {},
   "outputs": [],
   "source": [
    "# print(\"No of lines to load: \", len(df_source_data))\n",
    ""
   ]
  },
  {
   "cell_type": "code",
   "execution_count": 12,
   "id": "7748abd0",
   "metadata": {},
   "outputs": [],
   "source": [
    ""
   ]
  },
  {
   "cell_type": "markdown",
   "id": "2c00649b",
   "metadata": {},
   "source": [
    "### DDL on lakehouse"
   ]
  },
  {
   "cell_type": "markdown",
   "id": "e8657e62",
   "metadata": {},
   "source": [
    "#### Data base"
   ]
  },
  {
   "cell_type": "code",
   "execution_count": 13,
   "id": "e772c9bc",
   "metadata": {},
   "outputs": [
    {
     "name": "stdout",
     "output_type": "stream",
     "text": [
      "\n",
      "CREATE DATABASE IF NOT EXISTS iceberg.bronze COMMENT '' LOCATION 's3a://prd-lakehouse/iceberg/bronze/'\n",
      "\n"
     ]
    },
    {
     "data": {
      "text/plain": [
       "DataFrame[]"
      ]
     },
     "execution_count": 13,
     "metadata": {},
     "output_type": "execute_result"
    }
   ],
   "source": [
    "##creating db\n",
    "sql_db_create = f\"\"\"\n",
    "CREATE DATABASE IF NOT EXISTS {dest_final_db} COMMENT '' LOCATION 's3a://{environment}-{lakehouse_bucket}/{dest_db_catalog}/{dest_db_schema}/'\n",
    "\"\"\"\n",
    "print(sql_db_create)\n",
    "spark.sql(sql_db_create)"
   ]
  },
  {
   "cell_type": "markdown",
   "id": "def1834a",
   "metadata": {},
   "source": [
    "#### Dest table"
   ]
  },
  {
   "cell_type": "code",
   "execution_count": 14,
   "id": "81dfd591",
   "metadata": {},
   "outputs": [],
   "source": [
    "sql_ddl_drop_table = f\"\"\"\n",
    "    DROP TABLE IF EXISTS {dest_final_table}\n",
    "\"\"\""
   ]
  },
  {
   "cell_type": "code",
   "execution_count": 15,
   "id": "732e1be7-f60b-4798-8f78-6b43937dfe05",
   "metadata": {},
   "outputs": [],
   "source": [
    "sql_ddl_create_table = f\"\"\"\n",
    "        create table if not exists {dest_final_table}\n",
    "        (\n",
    "\t\t\tco_id string,\n",
    "\t\t\tsncode string,\n",
    "\t\t\tseqno string,\n",
    "\t\t\tseqno_pre string,\n",
    "\t\t\tbccode string,\n",
    "\t\t\tpending_bccode string,\n",
    "\t\t\tdn_id string,\n",
    "\t\t\tmain_dirnum string,\n",
    "\t\t\tcs_status string,\n",
    "\t\t\tcs_activ_date string,\n",
    "\t\t\tcs_deactiv_date string,\n",
    "\t\t\tcs_request string,\n",
    "\t\t\trec_version string,\n",
    "\t\t\tdn_block_id string,\n",
    "\t\t\tdwh_etl_history_fk string,\n",
    "\t\t\tflg_processed string,\n",
    "\t\t\tflg_error string,\n",
    "\t\t\terror_desc string,\n",
    "\t\t\tstg_record_load_date string\n",
    "        )\n",
    "        using iceberg\n",
    "        \"\"\"        "
   ]
  },
  {
   "cell_type": "markdown",
   "id": "ed2ac78d",
   "metadata": {},
   "source": [
    "#### SQL DDL Execution"
   ]
  },
  {
   "cell_type": "code",
   "execution_count": 16,
   "id": "0ea4fbd0",
   "metadata": {},
   "outputs": [
    {
     "name": "stderr",
     "output_type": "stream",
     "text": [
      "SLF4J: Failed to load class \"org.slf4j.impl.StaticLoggerBinder\".\n",
      "SLF4J: Defaulting to no-operation (NOP) logger implementation\n",
      "SLF4J: See http://www.slf4j.org/codes.html#StaticLoggerBinder for further details.\n"
     ]
    },
    {
     "data": {
      "text/plain": [
       "DataFrame[]"
      ]
     },
     "execution_count": 16,
     "metadata": {},
     "output_type": "execute_result"
    }
   ],
   "source": [
    "## drop table\n",
    "spark.sql(sql_ddl_drop_table)\n",
    "\n",
    "## create table\n",
    "spark.sql(sql_ddl_create_table)"
   ]
  },
  {
   "cell_type": "markdown",
   "id": "4bb3c147",
   "metadata": {},
   "source": [
    "### Small transformation"
   ]
  },
  {
   "cell_type": "code",
   "execution_count": 17,
   "id": "b84283a6-aa02-4dee-8c09-f4be99877e02",
   "metadata": {},
   "outputs": [],
   "source": [
    "# # some transformations\n",
    "#     df = df.withColumn(\"duration\", df[\"duration\"].cast(\"double\"))\n",
    "#     # df = df.withColumn(\"event_date\", to_date(df[\"record_opening_time\"], \"yyyyMMddHHmmss\"))\n",
    "#     # to_date(df[\"record_opening_time\"], \"yyyyMMddHHmmss\")\n",
    "\n",
    "#     df.withColumn(\"event_date\", from_unixtime(unix_timestamp(\"record_opening_time\", \"yyyyMMddHHmmss\")))\n",
    "\n",
    "#     df.select('event_date').show()"
   ]
  },
  {
   "cell_type": "markdown",
   "id": "1fdfc847",
   "metadata": {},
   "source": [
    "### Write table"
   ]
  },
  {
   "cell_type": "code",
   "execution_count": 18,
   "id": "26862bbf-ce47-4d31-88ac-c1dc2f81a483",
   "metadata": {},
   "outputs": [
    {
     "name": "stderr",
     "output_type": "stream",
     "text": [
      "                                                                                \r"
     ]
    }
   ],
   "source": [
    "# wrintint the data on lakehouse\n",
    "df_send_to_bronze.writeTo(f'{dest_final_table}').append()"
   ]
  },
  {
   "cell_type": "code",
   "execution_count": 19,
   "id": "cc13221e-980b-4948-9ea3-c4f928e87de8",
   "metadata": {},
   "outputs": [
    {
     "name": "stdout",
     "output_type": "stream",
     "text": [
      "root\n",
      " |-- co_id: string (nullable = true)\n",
      " |-- sncode: string (nullable = true)\n",
      " |-- seqno: string (nullable = true)\n",
      " |-- seqno_pre: string (nullable = true)\n",
      " |-- bccode: string (nullable = true)\n",
      " |-- pending_bccode: string (nullable = true)\n",
      " |-- dn_id: string (nullable = true)\n",
      " |-- main_dirnum: string (nullable = true)\n",
      " |-- cs_status: string (nullable = true)\n",
      " |-- cs_activ_date: string (nullable = true)\n",
      " |-- cs_deactiv_date: string (nullable = true)\n",
      " |-- cs_request: string (nullable = true)\n",
      " |-- rec_version: string (nullable = true)\n",
      " |-- dn_block_id: string (nullable = true)\n",
      " |-- dwh_etl_history_fk: string (nullable = true)\n",
      " |-- flg_processed: string (nullable = true)\n",
      " |-- flg_error: string (nullable = true)\n",
      " |-- error_desc: string (nullable = true)\n",
      " |-- stg_record_load_date: string (nullable = true)\n",
      "\n",
      "None\n"
     ]
    },
    {
     "name": "stderr",
     "output_type": "stream",
     "text": [
      "[Stage 1:>                                                          (0 + 1) / 1]\r"
     ]
    },
    {
     "name": "stdout",
     "output_type": "stream",
     "text": [
      "No of Records: 207459\n"
     ]
    },
    {
     "name": "stderr",
     "output_type": "stream",
     "text": [
      "                                                                                \r"
     ]
    }
   ],
   "source": [
    "table = spark.table(f'{dest_final_table}')\n",
    "print(table.printSchema())\n",
    "print(f\"No of Records: {table.count()}\")"
   ]
  }
 ],
 "metadata": {
  "kernelspec": {
   "display_name": "Python 3 (ipykernel)",
   "language": "python",
   "name": "python3"
  }
 },
 "nbformat": 4,
 "nbformat_minor": 5
}
