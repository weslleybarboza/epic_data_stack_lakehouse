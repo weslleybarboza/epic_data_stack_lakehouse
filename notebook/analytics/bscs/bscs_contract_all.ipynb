{
 "cells": [
  {
   "cell_type": "markdown",
   "id": "971a3450",
   "metadata": {},
   "source": [
    "### Libraries and session"
   ]
  },
  {
   "cell_type": "code",
   "execution_count": 61,
   "id": "8cdacd29-30c7-4986-b0f0-36f46289114e",
   "metadata": {},
   "outputs": [],
   "source": [
    "import pyspark\n",
    "import boto3\n",
    "from pyspark.sql import SparkSession\n",
    "from pyspark.sql.types import StructType, StructField, StringType, TimestampType, IntegerType, DateType, DecimalType\n",
    "from pyspark.sql.functions import year, to_date, month, dayofmonth,  from_unixtime, unix_timestamp"
   ]
  },
  {
   "cell_type": "code",
   "execution_count": 62,
   "id": "02e77c0b",
   "metadata": {},
   "outputs": [],
   "source": [
    "# ip and environments\n",
    "environment = 'prd'\n",
    "\n",
    "# Source\n",
    "system_source = \"bscs\"\n",
    "system_table =\"bscs_contract_all\"\n",
    "\n",
    "# Set the bucket and folder paths\n",
    "source_bucket = 'landing-zone'\n",
    "source_folder = f'database/{system_source}/{system_table}'\n",
    "\n",
    "lakehouse_bucket = 'lakehouse'\n",
    "lakehouse_folder = 'iceberg'\n",
    "\n",
    "# table destination settings\n",
    "dest_db_catalog = 'iceberg'\n",
    "dest_db_schema = 'bronze'\n",
    "dest_db_table = system_table\n",
    "dest_final_db = f'{dest_db_catalog}.{dest_db_schema}'\n",
    "dest_final_table = f'{dest_final_db}.{dest_db_table}'\n",
    "\n",
    "# Spark identification and settings\n",
    "appname = f'BRONZE_{dest_final_db}.{dest_final_table}'\n",
    "log_level = 'WARN' # Valid log levels include: ALL, DEBUG, ERROR, FATAL, INFO, OFF, TRACE, WARN\n",
    "\n",
    "# Set your MinIO credentials\n",
    "s3_endpoint = 'http://minio:9000'\n",
    "s3_access_key = 'minio'\n",
    "s3_secret_key = 'minio123'"
   ]
  },
  {
   "cell_type": "code",
   "execution_count": 63,
   "id": "094ec688-91d3-4648-a78c-1131a892caaf",
   "metadata": {},
   "outputs": [],
   "source": [
    "spark = SparkSession.builder\\\n",
    "    .appName(appname)\\\n",
    "    .getOrCreate()"
   ]
  },
  {
   "cell_type": "code",
   "execution_count": 64,
   "id": "d06374f1-31e1-4eff-b369-75c9cd30ea81",
   "metadata": {},
   "outputs": [
    {
     "name": "stdout",
     "output_type": "stream",
     "text": [
      "=================================================\n",
      "[('spark.hadoop.hive.cli.print.header', 'true'), ('spark.hadoop.fs.s3a.connection.ssl.enabled', 'false'), ('spark.app.name', 'BRONZE_iceberg.bronze.iceberg.bronze.bscs_contract_all'), ('spark.hadoop.fs.s3a.path.style.access', 'true'), ('spark.sql.catalog.spark_catalog', 'org.apache.iceberg.spark.SparkSessionCatalog'), ('spark.hadoop.fs.s3.endpoint', 'http://minio:9000'), ('spark.hadoop.fs.s3.access.key', 'minio'), ('spark.hadoop.fs.s3.impl', 'org.apache.hadoop.fs.s3a.S3AFileSystem'), ('spark.sql.catalog.iceberg.uri', 'thrift://hive-metastore:9083'), ('spark.sql.catalog.iceberg.s3.endpoint', 'http://minio:9000'), ('spark.sql.catalog.iceberg.s3.path-style-access', 'true'), ('spark.hadoop.fs.s3.path.style.access', 'true'), ('spark.hive.metastore.uris', 'thrift://hive-metastore:9083'), ('spark.app.submitTime', '1710771211822'), ('spark.master', 'local[*]'), ('spark.submit.deployMode', 'client'), ('spark.hadoop.fs.s3a.access.key', 'minio'), ('spark.sql.catalog.iceberg.io-impl', 'org.apache.iceberg.aws.s3.S3FileIO'), ('spark.hadoop.fs.s3.secret.key', 'minio123'), ('spark.sql.extensions', 'org.apache.iceberg.spark.extensions.IcebergSparkSessionExtensions'), ('spark.hadoop.fs.s3a.impl', 'org.apache.hadoop.fs.s3a.S3AFileSystem'), ('spark.sql.catalog.iceberg', 'org.apache.iceberg.spark.SparkCatalog'), ('spark.sql.catalogImplementation', 'hive'), ('spark.hadoop.fs.s3.connection.ssl.enabled', 'false'), ('spark.submit.pyFiles', ''), ('spark.sql.catalog.iceberg.warehouse', 's3a://prd-lakehouse/iceberg'), ('spark.hadoop.fs.s3a.endpoint', 'http://minio:9000'), ('spark.hadoop.fs.s3a.secret.key', 'minio123'), ('spark.sql.catalog.iceberg.type', 'hive'), ('spark.ui.showConsoleProgress', 'true'), ('spark.sql.catalog.spark_catalog.type', 'hive')]\n"
     ]
    }
   ],
   "source": [
    "print(\"=================================================\")\n",
    "spark.sparkContext.setLogLevel(log_level)\n",
    "print(pyspark.SparkConf().getAll())"
   ]
  },
  {
   "cell_type": "markdown",
   "id": "cbcf1ffe",
   "metadata": {},
   "source": [
    "### Read from the source"
   ]
  },
  {
   "cell_type": "code",
   "execution_count": 65,
   "id": "6463e5df",
   "metadata": {},
   "outputs": [],
   "source": [
    "s3 = boto3.client('s3', endpoint_url=s3_endpoint, aws_access_key_id=s3_access_key, aws_secret_access_key=s3_secret_key)"
   ]
  },
  {
   "cell_type": "code",
   "execution_count": 66,
   "id": "520e9151",
   "metadata": {},
   "outputs": [],
   "source": [
    "# List all files in the source directory\n",
    "file_list = []\n",
    "paginator = s3.get_paginator('list_objects_v2')\n",
    "\n",
    "for result in paginator.paginate(Bucket=f\"{environment}-{source_bucket}\", Prefix=source_folder):\n",
    "    \n",
    "    if 'Contents' in result:\n",
    "        for item in result['Contents']:\n",
    "            file_list.append(item['Key'])\n"
   ]
  },
  {
   "cell_type": "markdown",
   "id": "519cd0a9",
   "metadata": {},
   "source": [
    "#### Data Contract"
   ]
  },
  {
   "cell_type": "code",
   "execution_count": 67,
   "id": "86b57cf8-fbc5-4f4e-ab70-c317048e2273",
   "metadata": {
    "scrolled": true
   },
   "outputs": [],
   "source": [
    "df_source_schema = StructType([\n",
    "        StructField(\"co_id\", StringType()),\n",
    "        StructField(\"customer_id\", StringType()),\n",
    "        StructField(\"type\", StringType()),\n",
    "        StructField(\"ohxact\", StringType()),\n",
    "        StructField(\"hrcode\", StringType()),\n",
    "        StructField(\"plcode\", StringType()),\n",
    "        StructField(\"sccode\", StringType()),\n",
    "        StructField(\"subm_id\", StringType()),\n",
    "        StructField(\"co_signed\", StringType()),\n",
    "        StructField(\"co_cancelled\", StringType()),\n",
    "        StructField(\"co_suspended\", StringType()),\n",
    "        StructField(\"co_reactivated\", StringType()),\n",
    "        StructField(\"co_status\", StringType()),\n",
    "        StructField(\"co_status_date\", StringType()),\n",
    "        StructField(\"co_requstatus\", StringType()),\n",
    "        StructField(\"co_requstatus_date\", StringType()),\n",
    "        StructField(\"co_rs_id\", StringType()),\n",
    "        StructField(\"co_equ_type\", StringType()),\n",
    "        StructField(\"co_rep_bill\", StringType()),\n",
    "        StructField(\"co_rep\", StringType()),\n",
    "        StructField(\"co_rep_bill_idno\", StringType()),\n",
    "        StructField(\"co_rep_idno\", StringType()),\n",
    "        StructField(\"co_installed\", StringType()),\n",
    "        StructField(\"co_itemized_bill\", StringType()),\n",
    "        StructField(\"co_ib_categories\", StringType()),\n",
    "        StructField(\"co_ib_threshold\", StringType()),\n",
    "        StructField(\"co_archive\", StringType()),\n",
    "        StructField(\"co_dir_entry\", StringType()),\n",
    "        StructField(\"co_operator_dir\", StringType()),\n",
    "        StructField(\"co_pstn_dir\", StringType()),\n",
    "        StructField(\"co_calls_anonym\", StringType()),\n",
    "        StructField(\"co_ass_serv\", StringType()),\n",
    "        StructField(\"co_ass_equ\", StringType()),\n",
    "        StructField(\"co_ass_cbb\", StringType()),\n",
    "        StructField(\"co_crd_check\", StringType()),\n",
    "        StructField(\"co_crd_chk_end\", StringType()),\n",
    "        StructField(\"co_crd_chk_start\", StringType()),\n",
    "        StructField(\"co_crd_clicks\", StringType()),\n",
    "        StructField(\"co_crd_clicks_day\", StringType()),\n",
    "        StructField(\"co_crd_days\", StringType()),\n",
    "        StructField(\"co_comment\", StringType()),\n",
    "        StructField(\"co_duration\", StringType()),\n",
    "        StructField(\"co_reserved\", StringType()),\n",
    "        StructField(\"co_expir_date\", StringType()),\n",
    "        StructField(\"co_activated\", StringType()),\n",
    "        StructField(\"co_entdate\", StringType()),\n",
    "        StructField(\"co_moddate\", StringType()),\n",
    "        StructField(\"co_userlastmod\", StringType()),\n",
    "        StructField(\"rec_version\", StringType()),\n",
    "        StructField(\"co_tollrating\", StringType()),\n",
    "        StructField(\"tmcode\", StringType()),\n",
    "        StructField(\"tmcode_date\", StringType()),\n",
    "        StructField(\"co_crd_d_tr1\", StringType()),\n",
    "        StructField(\"co_crd_d_tr2\", StringType()),\n",
    "        StructField(\"co_crd_d_tr3\", StringType()),\n",
    "        StructField(\"co_crd_p_tr1\", StringType()),\n",
    "        StructField(\"co_crd_p_tr2\", StringType()),\n",
    "        StructField(\"co_crd_p_tr3\", StringType()),\n",
    "        StructField(\"ixcode\", StringType()),\n",
    "        StructField(\"pending_ixcode\", StringType()),\n",
    "        StructField(\"co_request\", StringType()),\n",
    "        StructField(\"co_multinumbering\", StringType()),\n",
    "        StructField(\"eccode_ldc\", StringType()),\n",
    "        StructField(\"pending_eccode_ldc\", StringType()),\n",
    "        StructField(\"eccode_lec\", StringType()),\n",
    "        StructField(\"pending_eccode_lec\", StringType()),\n",
    "        StructField(\"dealer_id\", StringType()),\n",
    "        StructField(\"svp_contract\", StringType()),\n",
    "        StructField(\"not_valid\", StringType()),\n",
    "        StructField(\"arpcode\", StringType()),\n",
    "        StructField(\"contr_curr_id\", StringType()),\n",
    "        StructField(\"convratetype_contract\", StringType()),\n",
    "        StructField(\"co_addr_on_ibill\", StringType()),\n",
    "        StructField(\"co_crd_amount\", StringType()),\n",
    "        StructField(\"co_crd_amount_day\", StringType()),\n",
    "        StructField(\"product_history_date\", StringType()),\n",
    "        StructField(\"co_confirm\", StringType()),\n",
    "        StructField(\"co_timm_modified\", StringType()),\n",
    "        StructField(\"co_ib_mass_flag\", StringType()),\n",
    "        StructField(\"trial_end_date\", StringType()),\n",
    "        StructField(\"co_ext_csuin\", StringType()),\n",
    "        StructField(\"co_ib_cdr_flag\", StringType()),\n",
    "        StructField(\"currency\", StringType()),\n",
    "        StructField(\"sec_contr_curr_id\", StringType()),\n",
    "        StructField(\"sec_convratetype_contract\", StringType()),\n",
    "        StructField(\"dwh_etl_history_fk\", StringType()),\n",
    "        StructField(\"flg_processed\", StringType()),\n",
    "        StructField(\"flg_error\", StringType()),\n",
    "        StructField(\"error_desc\", StringType()),\n",
    "        StructField(\"stg_record_load_date\", StringType())                       \n",
    "])"
   ]
  },
  {
   "cell_type": "code",
   "execution_count": 68,
   "id": "a4e290a7",
   "metadata": {},
   "outputs": [
    {
     "name": "stdout",
     "output_type": "stream",
     "text": [
      "Number of columns of contract: 90\n"
     ]
    }
   ],
   "source": [
    "num_columns_contract = len(df_source_schema.fields)\n",
    "print(\"Number of columns of contract:\", num_columns_contract)"
   ]
  },
  {
   "cell_type": "code",
   "execution_count": 69,
   "id": "de2b2547",
   "metadata": {},
   "outputs": [],
   "source": [
    "df_source_data = spark.createDataFrame([], schema=df_source_schema)"
   ]
  },
  {
   "cell_type": "code",
   "execution_count": 70,
   "id": "ac649937",
   "metadata": {},
   "outputs": [
    {
     "name": "stdout",
     "output_type": "stream",
     "text": [
      "File in processing: database/bscs/bscs_contract_all/20240315/229817ca-6f71-4a63-95f7-21d158a55ff9.csv\n",
      "File in processing: database/bscs/bscs_contract_all/20240315/d921d9f6-e7ce-4184-8e24-a8a7dceef6de.csv\n"
     ]
    }
   ],
   "source": [
    "# reading files in the source\n",
    "for file_name in file_list:\n",
    "\n",
    "    print(f'File in processing: {file_name}')\n",
    "    \n",
    "    df = spark.read.format(\"csv\") \\\n",
    "                    .option(\"header\", \"true\") \\\n",
    "                    .option(\"delimiter\", \",\") \\\n",
    "                    .schema(df_source_schema) \\\n",
    "                    .load(f\"s3a://{environment}-{source_bucket}/{file_name}\")\n",
    "    \n",
    "\n",
    "    \n",
    "    if len(df.columns) == num_columns_contract:\n",
    "        # print('No of columns matched')\n",
    "        df_source_data = df_source_data.union(df)


### Small transformation
df_send_to_bronze = audit_add_column(df_source_data)"
   ]
  },
  {
   "cell_type": "code",
   "execution_count": 71,
   "id": "7c57cda2",
   "metadata": {},
   "outputs": [
    {
     "name": "stdout",
     "output_type": "stream",
     "text": [
      "+------+-----------+----+------+------+------+------+-------+-------------+------------+------------+--------------+---------+--------------+-------------+------------------+--------+-----------+-----------+------+----------------+-----------+-------------+----------------+----------------+---------------+----------+------------+---------------+-----------+---------------+-----------+----------+----------+------------+--------------+----------------+-------------+-----------------+-----------+----------+-----------+-----------+-------------+-------------+-------------+-------------+--------------+-----------+-------------+------+-------------+------------+------------+------------+------------+------------+------------+------+--------------+----------+-----------------+----------+------------------+----------+------------------+---------+------------+---------+-------+-------------+---------------------+----------------+-------------+-----------------+--------------------+----------+----------------+---------------+--------------+------------+--------------+--------+-----------------+-------------------------+------------------+-------------+---------+----------+--------------------+\n",
      "| co_id|customer_id|type|ohxact|hrcode|plcode|sccode|subm_id|    co_signed|co_cancelled|co_suspended|co_reactivated|co_status|co_status_date|co_requstatus|co_requstatus_date|co_rs_id|co_equ_type|co_rep_bill|co_rep|co_rep_bill_idno|co_rep_idno| co_installed|co_itemized_bill|co_ib_categories|co_ib_threshold|co_archive|co_dir_entry|co_operator_dir|co_pstn_dir|co_calls_anonym|co_ass_serv|co_ass_equ|co_ass_cbb|co_crd_check|co_crd_chk_end|co_crd_chk_start|co_crd_clicks|co_crd_clicks_day|co_crd_days|co_comment|co_duration|co_reserved|co_expir_date| co_activated|   co_entdate|   co_moddate|co_userlastmod|rec_version|co_tollrating|tmcode|  tmcode_date|co_crd_d_tr1|co_crd_d_tr2|co_crd_d_tr3|co_crd_p_tr1|co_crd_p_tr2|co_crd_p_tr3|ixcode|pending_ixcode|co_request|co_multinumbering|eccode_ldc|pending_eccode_ldc|eccode_lec|pending_eccode_lec|dealer_id|svp_contract|not_valid|arpcode|contr_curr_id|convratetype_contract|co_addr_on_ibill|co_crd_amount|co_crd_amount_day|product_history_date|co_confirm|co_timm_modified|co_ib_mass_flag|trial_end_date|co_ext_csuin|co_ib_cdr_flag|currency|sec_contr_curr_id|sec_convratetype_contract|dwh_etl_history_fk|flg_processed|flg_error|error_desc|stg_record_load_date|\n",
      "+------+-----------+----+------+------+------+------+-------+-------------+------------+------------+--------------+---------+--------------+-------------+------------------+--------+-----------+-----------+------+----------------+-----------+-------------+----------------+----------------+---------------+----------+------------+---------------+-----------+---------------+-----------+----------+----------+------------+--------------+----------------+-------------+-----------------+-----------+----------+-----------+-----------+-------------+-------------+-------------+-------------+--------------+-----------+-------------+------+-------------+------------+------------+------------+------------+------------+------------+------+--------------+----------+-----------------+----------+------------------+----------+------------------+---------+------------+---------+-------+-------------+---------------------+----------------+-------------+-----------------+--------------------+----------+----------------+---------------+--------------+------------+--------------+--------+-----------------+-------------------------+------------------+-------------+---------+----------+--------------------+\n",
      "|399418|     304616|   S|  null|  null|     2|     1|      1|1172534400000|        null|        null|          null|     null|          null|         null|              null|    null|       null|       null|  null|            null|       null|1172564700000|               X|            null|              0|         X|           C|              X|          X|           null|       null|      null|      null|        null|          null|            null|         null|             null|       null|      null|       null|       null|         null|1172564760000|1285595579000|1297436860000|        MAFALL|          4|         null|   477|1296518400000|        null|        null|        null|        null|        null|        null|  null|          null|      null|             null|      null|              null|      null|              null|     null|        null|     null|   null|          111|                    1|            null|         null|             null|                null|      null|               X|           null|          null|        null|          null|     111|             null|                     null|              null|         null|     null|      null|       1542381003000|\n",
      "|399420|     336759|   S|  null|  null|     2|     1|      1|1177891200000|        null|        null|          null|     null|          null|         null|              null|    null|       null|       null|  null|            null|       null|1177943040000|               X|            null|              0|         X|           C|              X|          X|           null|       null|      null|      null|        null|          null|            null|         null|             null|       null|      null|       null|       null|         null|1177943160000|1285595833000|1285864023000|        DMASSA|          1|         null|   400|1275350400000|        null|        null|        null|        null|        null|        null|  null|          null|      null|             null|      null|              null|      null|              null|     null|        null|     null|   null|          111|                    1|            null|         null|             null|                null|      null|            null|           null|          null|        null|          null|     111|             null|                     null|              null|         null|     null|      null|       1542381003000|\n",
      "|399422|     336759|   S|  null|  null|     2|     1|      1|1271808000000|        null|        null|          null|     null|          null|         null|              null|    null|       null|       null|  null|            null|       null|1271866200000|               X|            null|              0|         X|           C|           null|       null|           null|       null|      null|      null|        null|          null|            null|         null|             null|       null|      null|       null|       null|         null|1271866380000|1285595950000|1285596296000|      ANNGRECH|          2|         null|   476|1284681600000|        null|        null|        null|        null|        null|        null|  null|          null|      null|             null|      null|              null|      null|              null|     null|        null|     null|   null|          111|                    1|            null|         null|             null|                null|      null|               X|           null|          null|        null|          null|     111|             null|                     null|              null|         null|     null|      null|       1542381003000|\n",
      "|399427|     304616|   S|  null|  null|     2|     1|      1|1271808000000|        null|        null|          null|     null|          null|         null|              null|    null|       null|       null|  null|            null|       null|1271866200000|               X|            null|              0|         X|           C|           null|       null|           null|       null|      null|      null|        null|          null|            null|         null|             null|       null|      null|       null|       null|         null|1271866380000|1285596291000|1297436344000|        MAFALL|          2|         null|   477|1296518400000|        null|        null|        null|        null|        null|        null|  null|          null|      null|             null|      null|              null|      null|              null|     null|        null|     null|   null|          111|                    1|            null|         null|             null|                null|      null|               X|           null|          null|        null|          null|     111|             null|                     null|              null|         null|     null|      null|       1542381003000|\n",
      "|399428|     336759|   S|  null|  null|     2|     1|      1|1264982400000|        null|        null|          null|     null|          null|         null|              null|    null|       null|       null|  null|            null|       null|1265020260000|               X|            null|              0|         X|           C|           null|       null|           null|       null|      null|      null|        null|          null|            null|         null|             null|       null|      null|       null|       null|         null|1265020920000|1285596390000|1285596437000|      ANNGRECH|          1|         null|   357|1275350400000|        null|        null|        null|        null|        null|        null|  null|          null|      null|             null|      null|              null|      null|              null|     null|        null|     null|   null|          111|                    1|            null|         null|             null|                null|      null|            null|           null|          null|        null|          null|     111|             null|                     null|              null|         null|     null|      null|       1542381003000|\n",
      "|399429|     304616|   S|  null|  null|     2|     1|      1|1264982400000|        null|        null|          null|     null|          null|         null|              null|    null|       null|       null|  null|            null|       null|1265020260000|               X|            null|              0|         X|           C|           null|       null|           null|       null|      null|      null|        null|          null|            null|         null|             null|       null|      null|       null|       null|         null|1265020920000|1285596433000|1296864000000|      KCIANTAR|          2|         null|   477|1296518400000|        null|        null|        null|        null|        null|        null|  null|          null|      null|             null|      null|              null|      null|              null|     null|        null|     null|   null|          111|                    1|            null|         null|             null|                null|      null|               X|           null|          null|        null|          null|     111|             null|                     null|              null|         null|     null|      null|       1542381003000|\n",
      "|399434|     336759|   S|  null|  null|     2|     1|      1|1184630400000|        null|        null|          null|     null|          null|         null|              null|    null|       null|       null|  null|            null|       null|1184665920000|               X|            null|              0|         X|           C|              X|          X|           null|       null|      null|      null|        null|          null|            null|         null|             null|       null|      null|       null|       null|         null|1184666040000|1285596697000|1285596738000|      ANNGRECH|          1|         null|   400|1275350400000|        null|        null|        null|        null|        null|        null|  null|          null|      null|             null|      null|              null|      null|              null|     null|        null|     null|   null|          111|                    1|            null|         null|             null|                null|      null|            null|           null|          null|        null|          null|     111|             null|                     null|              null|         null|     null|      null|       1542381003000|\n",
      "|399435|     304626|   S|  null|  null|     2|     1|      1|1184630400000|        null|        null|          null|     null|          null|         null|              null|    null|       null|       null|  null|            null|       null|1184665920000|               X|            null|              0|         X|           C|              X|          X|           null|       null|      null|      null|        null|          null|            null|         null|             null|       null|      null|       null|       null|         null|1184666040000|1285596734000|1526515200000|        SIMWIN|         10|         null|   974|1517788800000|        null|        null|        null|        null|        null|        null|  null|          null|      null|             null|      null|              null|      null|              null|     null|        null|     null|   null|          111|                    1|            null|         null|             null|                null|      null|               X|           null|          null|        null|          null|     111|             null|                     null|              null|         null|     null|      null|       1542381003000|\n",
      "|399436|     336759|   S|  null|  null|     2|     1|      1|1238112000000|        null|        null|          null|     null|          null|         null|              null|    null|       null|       null|  null|            null|       null|1238148000000|               X|            null|              0|         X|           C|           null|       null|           null|       null|      null|      null|        null|          null|            null|         null|             null|       null|      null|       null|       null|         null|1238148180000|1285596988000|1285597026000|      ANNGRECH|          1|         null|   227|1275350400000|        null|        null|        null|        null|        null|        null|  null|          null|      null|             null|      null|              null|      null|              null|     null|        null|     null|   null|          111|                    1|            null|         null|             null|                null|      null|            null|           null|          null|        null|          null|     111|             null|                     null|              null|         null|     null|      null|       1542381003000|\n",
      "|399437|     334170|   S|  null|  null|     2|     1|      1|1238112000000|        null|        null|          null|     null|          null|         null|              null|    null|       null|       null|  null|            null|       null|1238148000000|            null|            null|              0|         X|           C|           null|       null|           null|       null|      null|      null|        null|          null|            null|         null|             null|       null|      null|       null|       null|         null|1238148180000|1285597023000|1426092242000|       SUWEELE|          5|         null|   661|1343779200000|        null|        null|        null|        null|        null|        null|  null|          null|      null|             null|      null|              null|      null|              null|     null|        null|     null|   null|          111|                    1|            null|         null|             null|                null|      null|               X|           null|          null|        null|          null|     111|             null|                     null|              null|         null|     null|      null|       1542381003000|\n",
      "|399441|     336759|   S|  null|  null|     2|     1|      1|1246579200000|        null|        null|          null|     null|          null|         null|              null|    null|       null|       null|  null|            null|       null|1246628280000|               X|            null|              0|         X|           C|           null|       null|           null|       null|      null|      null|        null|          null|            null|         null|             null|       null|      null|       null|       null|         null|1246628400000|1285597220000|1285597259000|      ANNGRECH|          1|         null|   361|1275350400000|        null|        null|        null|        null|        null|        null|  null|          null|      null|             null|      null|              null|      null|              null|     null|        null|     null|   null|          111|                    1|            null|         null|             null|                null|      null|            null|           null|          null|        null|          null|     111|             null|                     null|              null|         null|     null|      null|       1542381003000|\n",
      "|399442|     338462|   S|  null|  null|     2|     1|      1|1246579200000|        null|        null|          null|     null|          null|         null|              null|    null|       null|       null|  null|            null|       null|1246628280000|               X|            null|              0|         X|           C|           null|       null|           null|       null|      null|      null|        null|          null|            null|         null|             null|       null|      null|       null|       null|         null|1246628400000|1285597254000|1526515200000|        SIMWIN|          9|         null|   968|1517788800000|        null|        null|        null|        null|        null|        null|  null|          null|      null|             null|      null|              null|      null|              null|     null|        null|     null|   null|          111|                    1|            null|         null|             null|                null|      null|               X|           null|          null|        null|          null|     111|             null|                     null|              null|         null|     null|      null|       1542381003000|\n",
      "|399446|     336759|   S|  null|  null|     2|     1|      1|1107043200000|        null|        null|          null|     null|          null|         null|              null|    null|       null|       null|  null|            null|       null|1107077640000|            null|            null|              0|         X|           C|           null|       null|           null|       null|      null|      null|        null|          null|            null|         null|             null|       null|      null|       null|       null|         null|1107077460000|1285597833000|1285597882000|      ANNGRECH|          1|         null|   360|1275350400000|        null|        null|        null|        null|        null|        null|  null|          null|      null|             null|      null|              null|      null|              null|     null|        null|     null|   null|          111|                    1|            null|         null|             null|                null|      null|            null|           null|          null|        null|          null|     111|             null|                     null|              null|         null|     null|      null|       1542381003000|\n",
      "|399447|     347545|   S|  null|  null|     2|     1|      1|1107043200000|        null|        null|          null|     null|          null|         null|              null|    null|       null|       null|  null|            null|       null|1107077640000|            null|            null|              0|         X|           C|           null|       null|           null|       null|      null|      null|        null|          null|            null|         null|             null|       null|      null|       null|       null|         null|1107077460000|1285597877000|1299583775000|        MAFALL|          4|         null|   462|1291161600000|        null|        null|        null|        null|        null|        null|  null|          null|      null|             null|      null|              null|      null|              null|     null|        null|     null|   null|          111|                    1|            null|         null|             null|                null|      null|               X|           null|          null|        null|          null|     111|             null|                     null|              null|         null|     null|      null|       1542381003000|\n",
      "|399452|     336759|   S|  null|  null|     2|     1|      1|1265673600000|        null|        null|          null|     null|          null|         null|              null|    null|       null|       null|  null|            null|       null|1265725140000|               X|            null|              0|         X|           C|           null|       null|           null|       null|      null|      null|        null|          null|            null|         null|             null|       null|      null|       null|       null|         null|1265725260000|1285598092000|1285598135000|      ANNGRECH|          1|         null|   357|1275350400000|        null|        null|        null|        null|        null|        null|  null|          null|      null|             null|      null|              null|      null|              null|     null|        null|     null|   null|          111|                    1|            null|         null|             null|                null|      null|            null|           null|          null|        null|          null|     111|             null|                     null|              null|         null|     null|      null|       1542381003000|\n",
      "|399453|     349641|   S|  null|  null|     2|     1|      1|1265673600000|        null|        null|          null|     null|          null|         null|              null|    null|       null|       null|  null|            null|       null|1265725140000|               X|            null|              0|         X|           C|           null|       null|           null|       null|      null|      null|        null|          null|            null|         null|             null|       null|      null|       null|       null|         null|1265725260000|1285598131000|1480082739000|        CATVAS|          6|         null|   721|1367366400000|        null|        null|        null|        null|        null|        null|  null|          null|      null|             null|      null|              null|      null|              null|     null|        null|     null|   null|          111|                    1|            null|         null|             null|                null|      null|               X|           null|          null|        null|          null|     111|             null|                     null|              null|         null|     null|      null|       1542381003000|\n",
      "|399458|     336759|   S|  null|  null|     2|     1|      1|1268784000000|        null|        null|          null|     null|          null|         null|              null|    null|       null|       null|  null|            null|       null|1268816160000|               X|            null|              0|         X|           C|              X|          X|           null|       null|      null|      null|        null|          null|            null|         null|             null|       null|      null|       null|       null|         null|1268816340000|1285598436000|1285598486000|      ANNGRECH|          1|         null|   361|1275350400000|        null|        null|        null|        null|        null|        null|  null|          null|      null|             null|      null|              null|      null|              null|     null|        null|     null|   null|          111|                    1|            null|         null|             null|                null|      null|            null|           null|          null|        null|          null|     111|             null|                     null|              null|         null|     null|      null|       1542381003000|\n",
      "|399459|     351667|   S|  null|  null|     2|     1|      1|1268784000000|        null|        null|          null|     null|          null|         null|              null|    null|       null|       null|  null|            null|       null|1268816160000|               X|            null|              0|         X|           C|              X|          X|           null|       null|      null|      null|        null|          null|            null|         null|             null|       null|      null|       null|       null|         null|1268816340000|1285598482000|1291161600000|      KCIANTAR|          2|         null|   489|1291161600000|        null|        null|        null|        null|        null|        null|  null|          null|      null|             null|      null|              null|      null|              null|     null|        null|     null|   null|          111|                    1|            null|         null|             null|                null|      null|               X|           null|          null|        null|          null|     111|             null|                     null|              null|         null|     null|      null|       1542381003000|\n",
      "|399462|     336759|   S|  null|  null|     2|     1|      1|1280361600000|        null|        null|          null|     null|          null|         null|              null|    null|       null|       null|  null|            null|       null|1280409840000|               X|            null|              0|         X|           C|           null|       null|           null|       null|      null|      null|        null|          null|            null|         null|             null|       null|      null|       null|       null|         null|1280410020000|1285598663000|1285598702000|      ANNGRECH|          1|         null|   361|1275350400000|        null|        null|        null|        null|        null|        null|  null|          null|      null|             null|      null|              null|      null|              null|     null|        null|     null|   null|          111|                    1|            null|         null|             null|                null|      null|            null|           null|          null|        null|          null|     111|             null|                     null|              null|         null|     null|      null|       1542381003000|\n",
      "|399463|     358517|   S|  null|  null|     2|     1|      1|1280361600000|        null|        null|          null|     null|          null|         null|              null|    null|       null|       null|  null|            null|       null|1280409840000|               X|            null|              0|         X|           C|           null|       null|           null|       null|      null|      null|        null|          null|            null|         null|             null|       null|      null|       null|       null|         null|1280410020000|1285598697000|1378684800000|       SHBRINC|          5|         null|   721|1367366400000|        null|        null|        null|        null|        null|        null|  null|          null|      null|             null|      null|              null|      null|              null|     null|        null|     null|   null|          111|                    1|            null|         null|             null|                null|      null|               X|           null|          null|        null|          null|     111|             null|                     null|              null|         null|     null|      null|       1542381003000|\n",
      "|399468|     336759|   S|  null|  null|     2|     1|      1|1281657600000|        null|        null|          null|     null|          null|         null|              null|    null|       null|       null|  null|            null|       null|1281696360000|               X|            null|              0|         X|           C|           null|       null|           null|       null|      null|      null|        null|          null|            null|         null|             null|       null|      null|       null|       null|         null|1281696660000|1285599062000|1285599126000|      ANNGRECH|          1|         null|   357|1275350400000|        null|        null|        null|        null|        null|        null|  null|          null|      null|             null|      null|              null|      null|              null|     null|        null|     null|   null|          111|                    1|            null|         null|             null|                null|      null|            null|           null|          null|        null|          null|     111|             null|                     null|              null|         null|     null|      null|       1542381003000|\n",
      "|399470|     359203|   S|  null|  null|     2|     1|      1|1281657600000|        null|        null|          null|     null|          null|         null|              null|    null|       null|       null|  null|            null|       null|1281696360000|            null|            null|              0|         X|           C|           null|       null|           null|       null|      null|      null|        null|          null|            null|         null|             null|       null|      null|       null|       null|         null|1281696660000|1285599121000|1425340800000|        RITFAR|          6|         null|   701|1367366400000|        null|        null|        null|        null|        null|        null|  null|          null|      null|             null|      null|              null|      null|              null|     null|        null|     null|   null|          111|                    1|            null|         null|             null|                null|      null|               X|           null|          null|        null|          null|     111|             null|                     null|              null|         null|     null|      null|       1542381003000|\n",
      "|399471|     336759|   S|  null|  null|     2|     1|      1|1209081600000|        null|        null|          null|     null|          null|         null|              null|    null|       null|       null|  null|            null|       null|1209140880000|               X|            null|              0|         X|           C|           null|       null|           null|       null|      null|      null|        null|          null|            null|         null|             null|       null|      null|       null|       null|         null|1209141060000|1285599416000|1285599466000|      ANNGRECH|          1|         null|   361|1275350400000|        null|        null|        null|        null|        null|        null|  null|          null|      null|             null|      null|              null|      null|              null|     null|        null|     null|   null|          111|                    1|            null|         null|             null|                null|      null|            null|           null|          null|        null|          null|     111|             null|                     null|              null|         null|     null|      null|       1542381003000|\n",
      "|399472|     359607|   S|  null|  null|     2|     1|      1|1209081600000|        null|        null|          null|     null|          null|         null|              null|    null|       null|       null|  null|            null|       null|1209140880000|               X|            null|              0|         X|           C|           null|       null|           null|       null|      null|      null|        null|          null|            null|         null|             null|       null|      null|       null|       null|         null|1209141060000|1285599460000|1285545600000|      ANNGRECH|          1|         null|   475|1284681600000|        null|        null|        null|        null|        null|        null|  null|          null|      null|             null|      null|              null|      null|              null|     null|        null|     null|   null|          111|                    1|            null|         null|             null|                null|      null|               X|           null|          null|        null|          null|     111|             null|                     null|              null|         null|     null|      null|       1542381003000|\n",
      "|399475|     336759|   S|  null|  null|     2|     1|      1|1136937600000|        null|        null|          null|     null|          null|         null|              null|    null|       null|       null|  null|            null|       null|1136981520000|               X|            null|              0|         X|           C|              X|          X|           null|       null|      null|      null|        null|          null|            null|         null|             null|       null|      null|       null|       null|         null|1136983680000|1285599982000|1285600042000|      ANNGRECH|          1|         null|   354|1275350400000|        null|        null|        null|        null|        null|        null|  null|          null|      null|             null|      null|              null|      null|              null|     null|        null|     null|   null|          111|                    1|            null|         null|             null|                null|      null|            null|           null|          null|        null|          null|     111|             null|                     null|              null|         null|     null|      null|       1542381003000|\n",
      "|399478|     296696|   S|  null|  null|     2|     1|      1|1136937600000|        null|        null|          null|     null|          null|         null|              null|    null|       null|       null|  null|            null|       null|1136981520000|               X|            null|              0|         X|           B|              X|          X|           null|       null|      null|      null|        null|          null|            null|         null|             null|       null|      null|       null|       null|         null|1136983680000|1285600038000|1481500800000|        CHRSAM|          9|         null|   900|1467331200000|        null|        null|        null|        null|        null|        null|  null|          null|      null|             null|      null|              null|      null|              null|     null|        null|     null|   null|          111|                    1|            null|         null|             null|                null|      null|               X|           null|          null|        null|          null|     111|             null|                     null|              null|         null|     null|      null|       1542381003000|\n",
      "|399488|     331446|   S|  null|  null|     2|     1|      1|1233619200000|        null|        null|          null|     null|          null|         null|              null|    null|       null|       null|  null|            null|       null|1233656460000|               X|            null|              0|         X|           C|           null|       null|           null|       null|      null|      null|        null|          null|            null|         null|             null|       null|      null|       null|       null|         null|1233656820000|1285600720000|1447804800000|      ESPITERI|         14|         null|   804|1425168000000|        null|        null|        null|        null|        null|        null|  null|          null|      null|             null|      null|              null|      null|              null|     null|        null|     null|   null|          111|                    1|            null|         null|             null|                null|      null|               X|           null|          null|        null|          null|     111|             null|                     null|              null|         null|     null|      null|       1542381003000|\n",
      "|399489|     361375|   S|  null|  null|     2|     1|      1|1285545600000|        null|        null|          null|     null|          null|         null|              null|    null|       null|       null|  null|            null|       null|1285600560000|               X|            null|              0|         X|           C|           null|       null|           null|       null|      null|      null|        null|          null|            null|         null|             null|       null|      null|       null|       null|         null|1285600740000|1285600748000|1285545600000|        CATVAS|          2|         null|   468|1284595200000|        null|        null|        null|        null|        null|        null|  null|          null|      null|             null|      null|              null|      null|              null|     null|        null|     null|   null|          111|                    1|            null|         null|             null|                null|      null|               X|           null|          null|        null|          null|     111|             null|                     null|              null|         null|     null|      null|       1542381003000|\n",
      "|399490|     336759|   S|  null|  null|     2|     1|      1|1226448000000|        null|        null|          null|     null|          null|         null|              null|    null|       null|       null|  null|            null|       null|1226510700000|               X|            null|              0|         X|           C|              X|          X|           null|       null|      null|      null|        null|          null|            null|         null|             null|       null|      null|       null|       null|         null|1226510940000|1285600886000|1285600922000|        DMASSA|          1|         null|   351|1275350400000|        null|        null|        null|        null|        null|        null|  null|          null|      null|             null|      null|              null|      null|              null|     null|        null|     null|   null|          111|                    1|            null|         null|             null|                null|      null|            null|           null|          null|        null|          null|     111|             null|                     null|              null|         null|     null|      null|       1542381003000|\n",
      "|399491|     327537|   S|  null|  null|     2|     1|      1|1226448000000|        null|        null|          null|     null|          null|         null|              null|    null|       null|       null|  null|            null|       null|1226510700000|               X|            null|              0|         X|           C|              X|          X|           null|       null|      null|      null|        null|          null|            null|         null|             null|       null|      null|       null|       null|         null|1226510940000|1285600919000|1381708800000|        DMASSA|          5|         null|   719|1367366400000|        null|        null|        null|        null|        null|        null|  null|          null|      null|             null|      null|              null|      null|              null|     null|        null|     null|   null|          111|                    1|            null|         null|             null|                null|      null|               X|           null|          null|        null|          null|     111|             null|                     null|              null|         null|     null|      null|       1542381003000|\n",
      "|399492|     336759|   S|  null|  null|     2|     1|      1|1279584000000|        null|        null|          null|     null|          null|         null|              null|    null|       null|       null|  null|            null|       null|1279646220000|               X|            null|              0|         X|           C|              X|          X|           null|       null|      null|      null|        null|          null|            null|         null|             null|       null|      null|       null|       null|         null|1279646880000|1285600919000|1285600957000|      KCIANTAR|          1|         null|   355|1275350400000|        null|        null|        null|        null|        null|        null|  null|          null|      null|             null|      null|              null|      null|              null|     null|        null|     null|   null|          111|                    1|            null|         null|             null|                null|      null|            null|           null|          null|        null|          null|     111|             null|                     null|              null|         null|     null|      null|       1542381003000|\n",
      "|399493|     358023|   S|  null|  null|     2|     1|      1|1279584000000|        null|        null|          null|     null|          null|         null|              null|    null|       null|       null|  null|            null|       null|1279646220000|               X|            null|              0|         X|           C|              X|          X|           null|       null|      null|      null|        null|          null|            null|         null|             null|       null|      null|       null|       null|         null|1279646880000|1285600953000|1285545600000|      KCIANTAR|          1|         null|   469|1284595200000|        null|        null|        null|        null|        null|        null|  null|          null|      null|             null|      null|              null|      null|              null|     null|        null|     null|   null|          111|                    1|            null|         null|             null|                null|      null|               X|           null|          null|        null|          null|     111|             null|                     null|              null|         null|     null|      null|       1542381003000|\n",
      "|399494|     336759|   S|  null|  null|     2|     1|      1|1246924800000|        null|        null|          null|     null|          null|         null|              null|    null|       null|       null|  null|            null|       null|1246967220000|            null|            null|              0|         X|           C|           null|       null|           null|       null|      null|      null|        null|          null|            null|         null|             null|       null|      null|       null|       null|         null|1246967400000|1285600981000|1285601455000|      ANNGRECH|          2|         null|   475|1284681600000|        null|        null|        null|        null|        null|        null|  null|          null|      null|             null|      null|              null|      null|              null|     null|        null|     null|   null|          111|                    1|            null|         null|             null|                null|      null|               X|           null|          null|        null|          null|     111|             null|                     null|              null|         null|     null|      null|       1542381003000|\n",
      "|399495|     361511|   S|  null|  null|     2|     1|      1|1285545600000|        null|        null|          null|     null|          null|         null|              null|    null|       null|       null|  null|            null|       null|1285600920000|            null|            null|              0|         X|           C|           null|       null|           null|       null|      null|      null|        null|          null|            null|         null|             null|       null|      null|       null|       null|         null|1285601100000|1285601096000|1488153600000|        CHRSAM|          4|         null|   906|1480550400000|        null|        null|        null|        null|        null|        null|  null|          null|      null|             null|      null|              null|      null|              null|     null|        null|     null|   null|          111|                    1|            null|         null|             null|                null|      null|               X|           null|          null|        null|          null|     111|             null|                     null|              null|         null|     null|      null|       1542381003000|\n",
      "|399496|     336759|   S|  null|  null|     2|     1|      1| 938044800000|        null|        null|          null|     null|          null|         null|              null|    null|       null|       null|  null|            null|       null| 938131200000|            null|           32767|              0|         X|        null|           null|       null|           null|       null|      null|      null|           X|          null|    938476800000|         null|             null|          7|      null|       null|       null|         null| 938099354000|1285601176000|1285601213000|        DMASSA|          1|         null|   357|1275350400000|           7|        null|        null|           9|        null|        null|  null|          null|      null|             null|      null|              null|      null|              null|     null|        null|     null|   null|          111|                    1|            null|        58.23|            14.56|                null|      null|            null|           null|          null|        null|          null|     111|             null|                     null|              null|         null|     null|      null|       1542381003000|\n",
      "|399497|     336759|   S|  null|  null|     2|     1|      1|1215216000000|        null|        null|          null|     null|          null|         null|              null|    null|       null|       null|  null|            null|       null|1215259440000|               X|            null|              0|         X|           C|              X|          X|           null|       null|      null|      null|        null|          null|            null|         null|             null|       null|      null|       null|       null|         null|1215259740000|1285601193000|1285601268000|      KCIANTAR|          1|         null|   356|1275350400000|        null|        null|        null|        null|        null|        null|  null|          null|      null|             null|      null|              null|      null|              null|     null|        null|     null|   null|          111|                    1|            null|         null|             null|                null|      null|            null|           null|          null|        null|          null|     111|             null|                     null|              null|         null|     null|      null|       1542381003000|\n",
      "|398153|     336759|   S|  null|  null|     2|     1|      1|1231200000000|        null|        null|          null|     null|          null|         null|              null|    null|       null|       null|  null|            null|       null|1231261380000|            null|            null|              0|         X|           C|           null|       null|           null|       null|      null|      null|        null|          null|            null|         null|             null|       null|      null|       null|       null|         null|1231261500000|1285164398000|1285164508000|        DMASSA|          1|         null|   351|1275350400000|        null|        null|        null|        null|        null|        null|  null|          null|      null|             null|      null|              null|      null|              null|     null|        null|     null|   null|          111|                    1|            null|         null|             null|                null|      null|            null|           null|          null|        null|          null|     111|             null|                     null|              null|         null|     null|      null|       1542381003000|\n",
      "|398154|     330261|   S|  null|  null|     2|     1|      1|1231200000000|        null|        null|          null|     null|          null|         null|              null|    null|       null|       null|  null|            null|       null|1231261380000|            null|            null|              0|         X|           C|           null|       null|           null|       null|      null|      null|        null|          null|            null|         null|             null|       null|      null|       null|       null|         null|1231261500000|1285164505000|1285113600000|        DMASSA|          1|         null|   466|1284595200000|        null|        null|        null|        null|        null|        null|  null|          null|      null|             null|      null|              null|      null|              null|     null|        null|     null|   null|          111|                    1|            null|         null|             null|                null|      null|               X|           null|          null|        null|          null|     111|             null|                     null|              null|         null|     null|      null|       1542381003000|\n",
      "|398155|     336759|   S|  null|  null|     2|     1|      1|1184544000000|        null|        null|          null|     null|          null|         null|              null|    null|       null|       null|  null|            null|       null|1184604840000|            null|            null|              0|         X|           C|           null|       null|           null|       null|      null|      null|        null|          null|            null|         null|             null|       null|      null|       null|       null|         null|1184605080000|1285164685000|1285164767000|      ANNGRECH|          1|         null|   357|1275350400000|        null|        null|        null|        null|        null|        null|  null|          null|      null|             null|      null|              null|      null|              null|     null|        null|     null|   null|          111|                    1|            null|         null|             null|                null|      null|            null|           null|          null|        null|          null|     111|             null|                     null|              null|         null|     null|      null|       1542381003000|\n",
      "|398156|     336759|   S|  null|  null|     2|     1|      1|1268784000000|        null|        null|          null|     null|          null|         null|              null|    null|       null|       null|  null|            null|       null|1268826540000|               X|            null|              0|         X|           C|              X|          X|           null|       null|      null|      null|        null|          null|            null|         null|             null|       null|      null|       null|       null|         null|1268826720000|1285164717000|1285164747000|        DMASSA|          1|         null|   355|1275350400000|        null|        null|        null|        null|        null|        null|  null|          null|      null|             null|      null|              null|      null|              null|     null|        null|     null|   null|          111|                    1|            null|         null|             null|                null|      null|            null|           null|          null|        null|          null|     111|             null|                     null|              null|         null|     null|      null|       1542381003000|\n",
      "|398158|     351677|   S|  null|  null|     2|     1|      1|1268784000000|        null|        null|          null|     null|          null|         null|              null|    null|       null|       null|  null|            null|       null|1268826540000|               X|            null|              0|         X|           C|              X|          X|           null|       null|      null|      null|        null|          null|            null|         null|             null|       null|      null|       null|       null|         null|1268826720000|1285164744000|1354492800000|        DIALAF|          3|         null|   693|1353628800000|        null|        null|        null|        null|        null|        null|  null|          null|      null|             null|      null|              null|      null|              null|     null|        null|     null|   null|          111|                    1|            null|         null|             null|                null|      null|               X|           null|          null|        null|          null|     111|             null|                     null|              null|         null|     null|      null|       1542381003000|\n",
      "|398159|     321281|   S|  null|  null|     2|     1|      1|1184544000000|        null|        null|          null|     null|          null|         null|              null|    null|       null|       null|  null|            null|       null|1184604840000|            null|            null|              0|         X|           C|           null|       null|           null|       null|      null|      null|        null|          null|            null|         null|             null|       null|      null|       null|       null|         null|1184605080000|1285164755000|1285113600000|      ANNGRECH|          3|         null|   476|1284681600000|        null|        null|        null|        null|        null|        null|  null|          null|      null|             null|      null|              null|      null|              null|     null|        null|     null|   null|          111|                    1|            null|         null|             null|                null|      null|               X|           null|          null|        null|          null|     111|             null|                     null|              null|         null|     null|      null|       1542381003000|\n",
      "|398161|     336759|   S|  null|  null|     2|     1|      1|1232582400000|        null|        null|          null|     null|          null|         null|              null|    null|       null|       null|  null|            null|       null|1232614440000|            null|            null|              0|         X|           C|           null|       null|           null|       null|      null|      null|        null|          null|            null|         null|             null|       null|      null|       null|       null|         null|1232614560000|1285165009000|1285165075000|      ANNGRECH|          1|         null|   357|1275350400000|        null|        null|        null|        null|        null|        null|  null|          null|      null|             null|      null|              null|      null|              null|     null|        null|     null|   null|          111|                    1|            null|         null|             null|                null|      null|            null|           null|          null|        null|          null|     111|             null|                     null|              null|         null|     null|      null|       1542381003000|\n",
      "|398163|     336759|   S|  null|  null|     2|     1|      1|1186444800000|        null|        null|          null|     null|          null|         null|              null|    null|       null|       null|  null|            null|       null|1186480500000|            null|            null|              0|         X|           C|           null|       null|           null|       null|      null|      null|        null|          null|            null|         null|             null|       null|      null|       null|       null|         null|1186480620000|1285165066000|1285165105000|        DMASSA|          1|         null|   352|1275350400000|        null|        null|        null|        null|        null|        null|  null|          null|      null|             null|      null|              null|      null|              null|     null|        null|     null|   null|          111|                    1|            null|         null|             null|                null|      null|            null|           null|          null|        null|          null|     111|             null|                     null|              null|         null|     null|      null|       1542381003000|\n",
      "|398164|     330914|   S|  null|  null|     2|     1|      1|1232582400000|        null|        null|          null|     null|          null|         null|              null|    null|       null|       null|  null|            null|       null|1232614440000|            null|            null|              0|         X|           C|           null|       null|           null|       null|      null|      null|        null|          null|            null|         null|             null|       null|      null|       null|       null|         null|1232614560000|1285165069000|1533513600000|        ALASCE|          3|         null|   968|1517788800000|        null|        null|        null|        null|        null|        null|  null|          null|      null|             null|      null|              null|      null|              null|     null|        null|     null|   null|          111|                    1|            null|         null|             null|                null|      null|               X|           null|          null|        null|          null|     111|             null|                     null|              null|         null|     null|      null|       1542381003000|\n",
      "|398165|     307430|   S|  null|  null|     2|     1|      1|1186444800000|        null|        null|          null|     null|          null|         null|              null|    null|       null|       null|  null|            null|       null|1186480500000|            null|            null|              0|         X|           C|           null|       null|           null|       null|      null|      null|        null|          null|            null|         null|             null|       null|      null|       null|       null|         null|1186480620000|1285165100000|1322697600000|        DMASSA|          3|         null|   462|1306886400000|        null|        null|        null|        null|        null|        null|  null|          null|      null|             null|      null|              null|      null|              null|     null|        null|     null|   null|          111|                    1|            null|         null|             null|                null|      null|               X|           null|          null|        null|          null|     111|             null|                     null|              null|         null|     null|      null|       1542381003000|\n",
      "|398166|     336759|   S|  null|  null|     2|     1|      1|1255564800000|        null|        null|          null|     null|          null|         null|              null|    null|       null|       null|  null|            null|       null|1255605000000|               X|            null|              0|         X|           C|           null|       null|           null|       null|      null|      null|        null|          null|            null|         null|             null|       null|      null|       null|       null|         null|1255605120000|1285165226000|1285165276000|      ANNGRECH|          1|         null|   356|1275350400000|        null|        null|        null|        null|        null|        null|  null|          null|      null|             null|      null|              null|      null|              null|     null|        null|     null|   null|          111|                    1|            null|         null|             null|                null|      null|            null|           null|          null|        null|          null|     111|             null|                     null|              null|         null|     null|      null|       1542381003000|\n",
      "|398167|     343137|   S|  null|  null|     2|     1|      1|1255564800000|        null|        null|          null|     null|          null|         null|              null|    null|       null|       null|  null|            null|       null|1255605000000|               X|            null|              0|         X|           C|           null|       null|           null|       null|      null|      null|        null|          null|            null|         null|             null|       null|      null|       null|       null|         null|1255605120000|1285165271000|1305158400000|      ANNGRECH|          2|         null|   461|1301616000000|        null|        null|        null|        null|        null|        null|  null|          null|      null|             null|      null|              null|      null|              null|     null|        null|     null|   null|          111|                    1|            null|         null|             null|                null|      null|               X|           null|          null|        null|          null|     111|             null|                     null|              null|         null|     null|      null|       1542381003000|\n",
      "|398168|     336759|   S|  null|  null|     2|     1|      1|1186444800000|        null|        null|          null|     null|          null|         null|              null|    null|       null|       null|  null|            null|       null|1186480080000|               X|            null|              0|         X|           C|              X|          X|           null|       null|      null|      null|        null|          null|            null|         null|             null|       null|      null|       null|       null|         null|1186480200000|1285165412000|1285165459000|        DMASSA|          1|         null|   352|1275350400000|        null|        null|        null|        null|        null|        null|  null|          null|      null|             null|      null|              null|      null|              null|     null|        null|     null|   null|          111|                    1|            null|         null|             null|                null|      null|            null|           null|          null|        null|          null|     111|             null|                     null|              null|         null|     null|      null|       1542381003000|\n",
      "|398169|     307429|   S|  null|  null|     2|     1|      1|1186444800000|        null|        null|          null|     null|          null|         null|              null|    null|       null|       null|  null|            null|       null|1186480080000|               X|            null|              0|         X|           C|              X|          X|           null|       null|      null|      null|        null|          null|            null|         null|             null|       null|      null|       null|       null|         null|1186480200000|1285165448000|1339545600000|        DMASSA|          3|         null|   549|1309478400000|        null|        null|        null|        null|        null|        null|  null|          null|      null|             null|      null|              null|      null|              null|     null|        null|     null|   null|          111|                    1|            null|         null|             null|                null|      null|               X|           null|          null|        null|          null|     111|             null|                     null|              null|         null|     null|      null|       1542381003000|\n",
      "|398171|     336759|   S|  null|  null|     2|     1|      1|1268006400000|        null|        null|          null|     null|          null|         null|              null|    null|       null|       null|  null|            null|       null|1268049900000|               X|            null|              0|         X|           C|           null|       null|           null|       null|      null|      null|        null|          null|            null|         null|             null|       null|      null|       null|       null|         null|1268050080000|1285165719000|1285165754000|        DMASSA|          1|         null|   352|1275350400000|        null|        null|        null|        null|        null|        null|  null|          null|      null|             null|      null|              null|      null|              null|     null|        null|     null|   null|          111|                    1|            null|         null|             null|                null|      null|            null|           null|          null|        null|          null|     111|             null|                     null|              null|         null|     null|      null|       1542381003000|\n",
      "|398172|     351156|   S|  null|  null|     2|     1|      1|1268006400000|        null|        null|          null|     null|          null|         null|              null|    null|       null|       null|  null|            null|       null|1268049900000|               X|            null|              0|         X|           C|           null|       null|           null|       null|      null|      null|        null|          null|            null|         null|             null|       null|      null|       null|       null|         null|1268050080000|1285165748000|1483488000000|        CCALLE|          5|         null|   911|1480550400000|        null|        null|        null|        null|        null|        null|  null|          null|      null|             null|      null|              null|      null|              null|     null|        null|     null|   null|          111|                    1|            null|         null|             null|                null|      null|               X|           null|          null|        null|          null|     111|             null|                     null|              null|         null|     null|      null|       1542381003000|\n",
      "|398173|     336759|   S|  null|  null|     2|     1|      1|1189555200000|        null|        null|          null|     null|          null|         null|              null|    null|       null|       null|  null|            null|       null|1189611120000|               X|            null|              0|         X|           C|              X|          X|           null|       null|      null|      null|        null|          null|            null|         null|             null|       null|      null|       null|       null|         null|1189611420000|1285165838000|1285165904000|      ANNGRECH|          1|         null|   363|1275350400000|        null|        null|        null|        null|        null|        null|  null|          null|      null|             null|      null|              null|      null|              null|     null|        null|     null|   null|          111|                    1|            null|         null|             null|                null|      null|            null|           null|          null|        null|          null|     111|             null|                     null|              null|         null|     null|      null|       1542381003000|\n",
      "|398174|     337922|   S|  null|  null|     2|     1|      1|1189555200000|        null|        null|          null|     null|          null|         null|              null|    null|       null|       null|  null|            null|       null|1189611120000|               X|            null|              0|         X|           C|              X|          X|           null|       null|      null|      null|        null|          null|            null|         null|             null|       null|      null|       null|       null|         null|1189611420000|1285165891000|1464220800000|        ALASCE|         38|         null|   905|1459468800000|        null|        null|        null|        null|        null|        null|  null|          null|      null|             null|      null|              null|      null|              null|     null|        null|     null|   null|          111|                    1|            null|         null|             null|                null|      null|               X|           null|          null|        null|          null|     111|             null|                     null|              null|         null|     null|      null|       1542381003000|\n",
      "|398177|     336759|   S|  null|  null|     2|     1|      1|1274140800000|        null|        null|          null|     null|          null|         null|              null|    null|       null|       null|  null|            null|       null|1274188920000|            null|            null|              0|         X|           C|           null|       null|           null|       null|      null|      null|        null|          null|            null|         null|             null|       null|      null|       null|       null|         null|1274188980000|1285166033000|1285166066000|        DMASSA|          1|         null|   357|1275350400000|        null|        null|        null|        null|        null|        null|  null|          null|      null|             null|      null|              null|      null|              null|     null|        null|     null|   null|          111|                    1|            null|         null|             null|                null|      null|            null|           null|          null|        null|          null|     111|             null|                     null|              null|         null|     null|      null|       1542381003000|\n",
      "|398178|     354892|   S|  null|  null|     2|     1|      1|1274140800000|        null|        null|          null|     null|          null|         null|              null|    null|       null|       null|  null|            null|       null|1274188920000|            null|            null|              0|         X|           C|           null|       null|           null|       null|      null|      null|        null|          null|            null|         null|             null|       null|      null|       null|       null|         null|1274188980000|1285166063000|1285113600000|        DMASSA|          1|         null|   468|1284595200000|        null|        null|        null|        null|        null|        null|  null|          null|      null|             null|      null|              null|      null|              null|     null|        null|     null|   null|          111|                    1|            null|         null|             null|                null|      null|               X|           null|          null|        null|          null|     111|             null|                     null|              null|         null|     null|      null|       1542381003000|\n",
      "|398179|     336759|   S|  null|  null|     2|     1|      1|1284681600000|        null|        null|          null|     null|          null|         null|              null|    null|       null|       null|  null|            null|       null|1284730080000|               X|            null|              0|         X|           C|           null|       null|           null|       null|      null|      null|        null|          null|            null|         null|             null|       null|      null|       null|       null|         null|1284730320000|1285166382000|1285166423000|        DMASSA|          1|         null|   350|1275350400000|        null|        null|        null|        null|        null|        null|  null|          null|      null|             null|      null|              null|      null|              null|     null|        null|     null|   null|          111|                    1|            null|         null|             null|                null|      null|            null|           null|          null|        null|          null|     111|             null|                     null|              null|         null|     null|      null|       1542381003000|\n",
      "|398180|     360795|   S|  null|  null|     2|     1|      1|1284681600000|        null|        null|          null|     null|          null|         null|              null|    null|       null|       null|  null|            null|       null|1284730080000|               X|            null|              0|         X|           C|           null|       null|           null|       null|      null|      null|        null|          null|            null|         null|             null|       null|      null|       null|       null|         null|1284730320000|1285166416000|1285166454000|        DMASSA|          1|         null|   350|1275350400000|        null|        null|        null|        null|        null|        null|  null|          null|      null|             null|      null|              null|      null|              null|     null|        null|     null|   null|          111|                    1|            null|         null|             null|                null|      null|            null|           null|          null|        null|          null|     111|             null|                     null|              null|         null|     null|      null|       1542381003000|\n",
      "|398181|     336759|   S|  null|  null|     2|     1|      1|1189555200000|        null|        null|          null|     null|          null|         null|              null|    null|       null|       null|  null|            null|       null|1189611480000|               X|            null|              0|         X|           C|           null|       null|           null|       null|      null|      null|        null|          null|            null|         null|             null|       null|      null|       null|       null|         null|1189611720000|1285166424000|1285166494000|      ANNGRECH|          1|         null|   363|1275350400000|        null|        null|        null|        null|        null|        null|  null|          null|      null|             null|      null|              null|      null|              null|     null|        null|     null|   null|          111|                    1|            null|         null|             null|                null|      null|            null|           null|          null|        null|          null|     111|             null|                     null|              null|         null|     null|      null|       1542381003000|\n",
      "|572910|     464457|   S|  null|  null|     2|     1|      1|1502282703000|        null|        null|          null|     null|          null|         null|              null|    null|       null|       null|  null|            null|       null|1502282703000|            null|           32767|           null|         X|        null|              X|          X|           null|       null|      null|      null|        null|          null|            null|         null|             null|       null|      null|       null|       null|         null|1502282700000|1505127861000|1505088000000|        RUTCAR|          1|         null|   878|1464739200000|        null|        null|        null|        null|        null|        null|  null|          null|      null|             null|      null|              null|      null|              null|     null|        null|     null|   null|          111|                    1|            null|         null|             null|                null|      null|               X|           null|          null|        null|          null|     111|             null|                     null|              null|         null|     null|      null|       1542381003000|\n",
      "|572911|     464458|   S|  null|  null|     2|     1|      1|1502356762000|        null|        null|          null|     null|          null|         null|              null|    null|       null|       null|  null|            null|       null|1502356762000|            null|           32767|           null|         X|        null|              X|          X|           null|       null|      null|      null|        null|          null|            null|         null|             null|       null|      null|       null|       null|         null|1502356740000|1505128220000|1505128220000|        RUTCAR|          1|         null|   871|1464739200000|        null|        null|        null|        null|        null|        null|  null|          null|      null|             null|      null|              null|      null|              null|     null|        null|     null|   null|          111|                    1|            null|         null|             null|                null|      null|               X|           null|          null|        null|          null|     111|             null|                     null|              null|         null|     null|      null|       1542381003000|\n",
      "|572912|     464458|   S|  null|  null|     2|     1|      1|1502356811000|        null|        null|          null|     null|          null|         null|              null|    null|       null|       null|  null|            null|       null|1502356811000|            null|           32767|           null|         X|        null|              X|          X|           null|       null|      null|      null|        null|          null|            null|         null|             null|       null|      null|       null|       null|         null|1502356800000|1505128247000|1505128247000|        RUTCAR|          0|         null|   874|1464739200000|        null|        null|        null|        null|        null|        null|  null|          null|      null|             null|      null|              null|      null|              null|     null|        null|     null|   null|          111|                    1|            null|         null|             null|                null|      null|            null|           null|          null|        null|          null|     111|             null|                     null|              null|         null|     null|      null|       1542381003000|\n",
      "|572917|     464462|   S|  null|  null|     2|     1|      1|1502297293000|        null|        null|          null|     null|          null|         null|              null|    null|       null|       null|  null|            null|       null|1502297293000|            null|           32767|           null|         X|        null|              X|          X|           null|       null|      null|      null|        null|          null|            null|         null|             null|       null|      null|       null|       null|         null|1502297280000|1505128837000|1505128837000|        RUTCAR|          0|         null|   871|1464739200000|        null|        null|        null|        null|        null|        null|  null|          null|      null|             null|      null|              null|      null|              null|     null|        null|     null|   null|          111|                    1|            null|         null|             null|                null|      null|               X|           null|          null|        null|          null|     111|             null|                     null|              null|         null|     null|      null|       1542381003000|\n",
      "|572919|     464462|   S|  null|  null|     2|     1|      1|1502297339000|        null|        null|          null|     null|          null|         null|              null|    null|       null|       null|  null|            null|       null|1502297339000|            null|           32767|           null|         X|        null|              X|          X|           null|       null|      null|      null|        null|          null|            null|         null|             null|       null|      null|       null|       null|         null|1502297340000|1505128855000|1505128855000|        RUTCAR|          0|         null|   874|1464739200000|        null|        null|        null|        null|        null|        null|  null|          null|      null|             null|      null|              null|      null|              null|     null|        null|     null|   null|          111|                    1|            null|         null|             null|                null|      null|               X|           null|          null|        null|          null|     111|             null|                     null|              null|         null|     null|      null|       1542381003000|\n",
      "|572927|     464467|   S|  null|  null|     2|     1|      1|1500996339000|        null|        null|          null|     null|          null|         null|              null|    null|       null|       null|  null|            null|       null|1500996339000|            null|           32767|           null|         X|        null|              X|          X|           null|       null|      null|      null|        null|          null|            null|         null|             null|       null|      null|       null|       null|         null|1500996300000|1505129748000|1505129748000|        RUTCAR|          1|         null|   871|1464739200000|        null|        null|        null|        null|        null|        null|  null|          null|      null|             null|      null|              null|      null|              null|     null|        null|     null|   null|          111|                    1|            null|         null|             null|                null|      null|               X|           null|          null|        null|          null|     111|             null|                     null|              null|         null|     null|      null|       1542381003000|\n",
      "|572928|     464467|   S|  null|  null|     2|     1|      1|1500996376000|        null|        null|          null|     null|          null|         null|              null|    null|       null|       null|  null|            null|       null|1500996376000|            null|           32767|           null|         X|        null|              X|          X|           null|       null|      null|      null|        null|          null|            null|         null|             null|       null|      null|       null|       null|         null|1500996300000|1505129769000|1505129769000|        RUTCAR|          0|         null|   874|1464739200000|        null|        null|        null|        null|        null|        null|  null|          null|      null|             null|      null|              null|      null|              null|     null|        null|     null|   null|          111|                    1|            null|         null|             null|                null|      null|            null|           null|          null|        null|          null|     111|             null|                     null|              null|         null|     null|      null|       1542381003000|\n",
      "|572935|     464470|   S|  null|  null|     2|     1|      1|1502357493000|        null|        null|          null|     null|          null|         null|              null|    null|       null|       null|  null|            null|       null|1502357493000|            null|           32767|           null|         X|        null|              X|          X|           null|       null|      null|      null|        null|          null|            null|         null|             null|       null|      null|       null|       null|         null|1502357460000|1505131130000|1505131130000|        RUTCAR|          1|         null|   871|1464739200000|        null|        null|        null|        null|        null|        null|  null|          null|      null|             null|      null|              null|      null|              null|     null|        null|     null|   null|          111|                    1|            null|         null|             null|                null|      null|               X|           null|          null|        null|          null|     111|             null|                     null|              null|         null|     null|      null|       1542381003000|\n",
      "|572936|     464470|   S|  null|  null|     2|     1|      1|1502357699000|        null|        null|          null|     null|          null|         null|              null|    null|       null|       null|  null|            null|       null|1502357699000|            null|           32767|           null|         X|        null|              X|          X|           null|       null|      null|      null|        null|          null|            null|         null|             null|       null|      null|       null|       null|         null|1502357640000|1505131207000|1505131207000|        RUTCAR|          0|         null|   874|1464739200000|        null|        null|        null|        null|        null|        null|  null|          null|      null|             null|      null|              null|      null|              null|     null|        null|     null|   null|          111|                    1|            null|         null|             null|                null|      null|               X|           null|          null|        null|          null|     111|             null|                     null|              null|         null|     null|      null|       1542381003000|\n",
      "|572946|     464472|   S|  null|  null|     2|     1|      1|1501000981000|        null|        null|          null|     null|          null|         null|              null|    null|       null|       null|  null|            null|       null|1501000981000|            null|           32767|           null|         X|        null|              X|          X|           null|       null|      null|      null|        null|          null|            null|         null|             null|       null|      null|       null|       null|         null|1501000920000|1505131975000|1505131975000|        RUTCAR|          1|         null|   871|1464739200000|        null|        null|        null|        null|        null|        null|  null|          null|      null|             null|      null|              null|      null|              null|     null|        null|     null|   null|          111|                    1|            null|         null|             null|                null|      null|               X|           null|          null|        null|          null|     111|             null|                     null|              null|         null|     null|      null|       1542381003000|\n",
      "|572947|     464472|   S|  null|  null|     2|     1|      1|1501001017000|        null|        null|          null|     null|          null|         null|              null|    null|       null|       null|  null|            null|       null|1501001017000|            null|           32767|           null|         X|        null|              X|          X|           null|       null|      null|      null|        null|          null|            null|         null|             null|       null|      null|       null|       null|         null|1501000980000|1505132004000|1505132004000|        RUTCAR|          0|         null|   874|1464739200000|        null|        null|        null|        null|        null|        null|  null|          null|      null|             null|      null|              null|      null|              null|     null|        null|     null|   null|          111|                    1|            null|         null|             null|                null|      null|            null|           null|          null|        null|          null|     111|             null|                     null|              null|         null|     null|      null|       1542381003000|\n",
      "|572965|     450219|   S|  null|  null|     2|     1|      1|1502121999000|        null|        null|          null|     null|          null|         null|              null|    null|       null|       null|  null|            null|       null|1502121999000|            null|           32767|           null|         X|        null|              X|          X|           null|       null|      null|      null|        null|          null|            null|         null|             null|       null|      null|       null|       null|         null|1502121960000|1505133012000|1505133012000|        RUTCAR|          0|         null|   871|1464739200000|        null|        null|        null|        null|        null|        null|  null|          null|      null|             null|      null|              null|      null|              null|     null|        null|     null|   null|          111|                    1|            null|         null|             null|                null|      null|               X|           null|          null|        null|          null|     111|             null|                     null|              null|         null|     null|      null|       1542381003000|\n",
      "|572967|     450219|   S|  null|  null|     2|     1|      1|1502122048000|        null|        null|          null|     null|          null|         null|              null|    null|       null|       null|  null|            null|       null|1502122048000|            null|           32767|           null|         X|        null|              X|          X|           null|       null|      null|      null|        null|          null|            null|         null|             null|       null|      null|       null|       null|         null|1502122020000|1505133033000|1505133033000|        RUTCAR|          0|         null|   874|1464739200000|        null|        null|        null|        null|        null|        null|  null|          null|      null|             null|      null|              null|      null|              null|     null|        null|     null|   null|          111|                    1|            null|         null|             null|                null|      null|               X|           null|          null|        null|          null|     111|             null|                     null|              null|         null|     null|      null|       1542381003000|\n",
      "|572987|     464476|   S|  null|  null|     2|     1|      1|1499778879000|        null|        null|          null|     null|          null|         null|              null|    null|       null|       null|  null|            null|       null|1499778879000|            null|           32767|           null|         X|        null|              X|          X|           null|       null|      null|      null|        null|          null|            null|         null|             null|       null|      null|       null|       null|         null|1499778840000|1505134550000|1505134550000|        RUTCAR|          1|         null|   871|1464739200000|        null|        null|        null|        null|        null|        null|  null|          null|      null|             null|      null|              null|      null|              null|     null|        null|     null|   null|          111|                    1|            null|         null|             null|                null|      null|               X|           null|          null|        null|          null|     111|             null|                     null|              null|         null|     null|      null|       1542381003000|\n",
      "|572988|     464476|   S|  null|  null|     2|     1|      1|1499778937000|        null|        null|          null|     null|          null|         null|              null|    null|       null|       null|  null|            null|       null|1499778937000|            null|           32767|           null|         X|        null|              X|          X|           null|       null|      null|      null|        null|          null|            null|         null|             null|       null|      null|       null|       null|         null|1499778900000|1505134580000|1505134580000|        RUTCAR|          0|         null|   874|1464739200000|        null|        null|        null|        null|        null|        null|  null|          null|      null|             null|      null|              null|      null|              null|     null|        null|     null|   null|          111|                    1|            null|         null|             null|                null|      null|            null|           null|          null|        null|          null|     111|             null|                     null|              null|         null|     null|      null|       1542381003000|\n",
      "|575823|     465635|   S|  null|  null|     2|     1|      1|1506643200000|        null|        null|          null|     null|          null|         null|              null|    null|       null|       null|  null|            null|       null|1506698580000|            null|            null|              0|         X|           C|           null|       null|           null|       null|      null|      null|        null|          null|            null|         null|             null|       null|      null|       null|       null|         null|1506698760000|1506698734000|1506698734000|        DARGRI|          1|         null|   910|1501545600000|        null|        null|        null|        null|        null|        null|  null|          null|      null|             null|      null|              null|      null|              null|     null|        null|     null|   null|          111|                    1|            null|         null|             null|                null|      null|               X|           null|          null|        null|          null|     111|             null|                     null|              null|         null|     null|      null|       1542381003000|\n",
      "|575913|     465717|   S|  null|  null|     2|     1|      1|1500996462000|        null|        null|          null|     null|          null|         null|              null|    null|       null|       null|  null|            null|       null|1500996462000|            null|           32767|           null|         X|        null|              X|          X|           null|       null|      null|      null|        null|          null|            null|         null|             null|       null|      null|       null|       null|         null|1500996420000|1506937807000|1506937807000|        RUTCAR|          1|         null|   871|1506816000000|        null|        null|        null|        null|        null|        null|  null|          null|      null|             null|      null|              null|      null|              null|     null|        null|     null|   null|          111|                    1|            null|         null|             null|                null|      null|               X|           null|          null|        null|          null|     111|             null|                     null|              null|         null|     null|      null|       1542381003000|\n",
      "|575914|     465717|   S|  null|  null|     2|     1|      1|1500996508000|        null|        null|          null|     null|          null|         null|              null|    null|       null|       null|  null|            null|       null|1500996508000|            null|           32767|           null|         X|        null|              X|          X|           null|       null|      null|      null|        null|          null|            null|         null|             null|       null|      null|       null|       null|         null|1500996480000|1506937832000|1506937832000|        RUTCAR|          0|         null|   874|1464739200000|        null|        null|        null|        null|        null|        null|  null|          null|      null|             null|      null|              null|      null|              null|     null|        null|     null|   null|          111|                    1|            null|         null|             null|                null|      null|               X|           null|          null|        null|          null|     111|             null|                     null|              null|         null|     null|      null|       1542381003000|\n",
      "|575931|     465719|   S|  null|  null|     2|     1|      1|1502905329000|        null|        null|          null|     null|          null|         null|              null|    null|       null|       null|  null|            null|       null|1502905329000|            null|           32767|           null|         X|        null|              X|          X|           null|       null|      null|      null|        null|          null|            null|         null|             null|       null|      null|       null|       null|         null|1502905320000|1506939293000|1506939293000|        RUTCAR|          1|         null|   871|1506816000000|        null|        null|        null|        null|        null|        null|  null|          null|      null|             null|      null|              null|      null|              null|     null|        null|     null|   null|          111|                    1|            null|         null|             null|                null|      null|               X|           null|          null|        null|          null|     111|             null|                     null|              null|         null|     null|      null|       1542381003000|\n",
      "|575932|     465719|   S|  null|  null|     2|     1|      1|1502905366000|        null|        null|          null|     null|          null|         null|              null|    null|       null|       null|  null|            null|       null|1502905366000|            null|           32767|           null|         X|        null|              X|          X|           null|       null|      null|      null|        null|          null|            null|         null|             null|       null|      null|       null|       null|         null|1502905320000|1506939320000|1506939320000|        RUTCAR|          0|         null|   874|1464739200000|        null|        null|        null|        null|        null|        null|  null|          null|      null|             null|      null|              null|      null|              null|     null|        null|     null|   null|          111|                    1|            null|         null|             null|                null|      null|            null|           null|          null|        null|          null|     111|             null|                     null|              null|         null|     null|      null|       1542381003000|\n",
      "|575943|     465720|   S|  null|  null|     2|     1|      1|1502189601000|        null|        null|          null|     null|          null|         null|              null|    null|       null|       null|  null|            null|       null|1502189601000|            null|           32767|           null|         X|        null|              X|          X|           null|       null|      null|      null|        null|          null|            null|         null|             null|       null|      null|       null|       null|         null|1502189580000|1506939918000|1506939918000|        RUTCAR|          1|         null|   871|1506816000000|        null|        null|        null|        null|        null|        null|  null|          null|      null|             null|      null|              null|      null|              null|     null|        null|     null|   null|          111|                    1|            null|         null|             null|                null|      null|               X|           null|          null|        null|          null|     111|             null|                     null|              null|         null|     null|      null|       1542381003000|\n",
      "|575944|     465720|   S|  null|  null|     2|     1|      1|1502189638000|        null|        null|          null|     null|          null|         null|              null|    null|       null|       null|  null|            null|       null|1502189638000|            null|           32767|           null|         X|        null|              X|          X|           null|       null|      null|      null|        null|          null|            null|         null|             null|       null|      null|       null|       null|         null|1502189580000|1506939939000|1506939939000|        RUTCAR|          0|         null|   874|1464739200000|        null|        null|        null|        null|        null|        null|  null|          null|      null|             null|      null|              null|      null|              null|     null|        null|     null|   null|          111|                    1|            null|         null|             null|                null|      null|               X|           null|          null|        null|          null|     111|             null|                     null|              null|         null|     null|      null|       1542381003000|\n",
      "|575945|     465722|   S|  null|  null|     2|     1|      1|1499771086000|        null|        null|          null|     null|          null|         null|              null|    null|       null|       null|  null|            null|       null|1499771086000|            null|           32767|           null|         X|        null|              X|          X|           null|       null|      null|      null|        null|          null|            null|         null|             null|       null|      null|       null|       null|         null|1499771040000|1506940763000|1506940763000|        RUTCAR|          0|         null|   871|1506816000000|        null|        null|        null|        null|        null|        null|  null|          null|      null|             null|      null|              null|      null|              null|     null|        null|     null|   null|          111|                    1|            null|         null|             null|                null|      null|               X|           null|          null|        null|          null|     111|             null|                     null|              null|         null|     null|      null|       1542381003000|\n",
      "|575946|     465722|   S|  null|  null|     2|     1|      1|1499771123000|        null|        null|          null|     null|          null|         null|              null|    null|       null|       null|  null|            null|       null|1499771123000|            null|           32767|           null|         X|        null|              X|          X|           null|       null|      null|      null|        null|          null|            null|         null|             null|       null|      null|       null|       null|         null|1499771100000|1506940783000|1506940783000|        RUTCAR|          0|         null|   874|1464739200000|        null|        null|        null|        null|        null|        null|  null|          null|      null|             null|      null|              null|      null|              null|     null|        null|     null|   null|          111|                    1|            null|         null|             null|                null|      null|               X|           null|          null|        null|          null|     111|             null|                     null|              null|         null|     null|      null|       1542381003000|\n",
      "|575950|     465726|   S|  null|  null|     2|     1|      1|1502190160000|        null|        null|          null|     null|          null|         null|              null|    null|       null|       null|  null|            null|       null|1502190160000|            null|           32767|           null|         X|        null|              X|          X|           null|       null|      null|      null|        null|          null|            null|         null|             null|       null|      null|       null|       null|         null|1502190120000|1506941955000|1506941955000|        RUTCAR|          1|         null|   871|1506816000000|        null|        null|        null|        null|        null|        null|  null|          null|      null|             null|      null|              null|      null|              null|     null|        null|     null|   null|          111|                    1|            null|         null|             null|                null|      null|               X|           null|          null|        null|          null|     111|             null|                     null|              null|         null|     null|      null|       1542381003000|\n",
      "|575951|     465726|   S|  null|  null|     2|     1|      1|1502190197000|        null|        null|          null|     null|          null|         null|              null|    null|       null|       null|  null|            null|       null|1502190197000|            null|           32767|           null|         X|        null|              X|          X|           null|       null|      null|      null|        null|          null|            null|         null|             null|       null|      null|       null|       null|         null|1502190180000|1506942013000|1506942013000|        RUTCAR|          0|         null|   874|1464739200000|        null|        null|        null|        null|        null|        null|  null|          null|      null|             null|      null|              null|      null|              null|     null|        null|     null|   null|          111|                    1|            null|         null|             null|                null|      null|               X|           null|          null|        null|          null|     111|             null|                     null|              null|         null|     null|      null|       1542381003000|\n",
      "|575953|     465728|   S|  null|  null|     2|     1|      1|1503055525000|        null|        null|          null|     null|          null|         null|              null|    null|       null|       null|  null|            null|       null|1503055525000|            null|           32767|           null|         X|        null|              X|          X|           null|       null|      null|      null|        null|          null|            null|         null|             null|       null|      null|       null|       null|         null|1503055500000|1506942832000|1506942832000|        RUTCAR|          1|         null|   871|1506816000000|        null|        null|        null|        null|        null|        null|  null|          null|      null|             null|      null|              null|      null|              null|     null|        null|     null|   null|          111|                    1|            null|         null|             null|                null|      null|               X|           null|          null|        null|          null|     111|             null|                     null|              null|         null|     null|      null|       1542381003000|\n",
      "|575954|     465728|   S|  null|  null|     2|     1|      1|1503055571000|        null|        null|          null|     null|          null|         null|              null|    null|       null|       null|  null|            null|       null|1503055571000|            null|           32767|           null|         X|        null|              X|          X|           null|       null|      null|      null|        null|          null|            null|         null|             null|       null|      null|       null|       null|         null|1503055500000|1506943154000|1506943154000|        RUTCAR|          0|         null|   874|1464739200000|        null|        null|        null|        null|        null|        null|  null|          null|      null|             null|      null|              null|      null|              null|     null|        null|     null|   null|          111|                    1|            null|         null|             null|                null|      null|            null|           null|          null|        null|          null|     111|             null|                     null|              null|         null|     null|      null|       1542381003000|\n",
      "|575957|     465731|   S|  null|  null|     2|     1|      1|1502874740000|        null|        null|          null|     null|          null|         null|              null|    null|       null|       null|  null|            null|       null|1502874740000|            null|           32767|           null|         X|        null|              X|          X|           null|       null|      null|      null|        null|          null|            null|         null|             null|       null|      null|       null|       null|         null|1502874720000|1506943586000|1506943586000|        RUTCAR|          1|         null|   871|1506816000000|        null|        null|        null|        null|        null|        null|  null|          null|      null|             null|      null|              null|      null|              null|     null|        null|     null|   null|          111|                    1|            null|         null|             null|                null|      null|               X|           null|          null|        null|          null|     111|             null|                     null|              null|         null|     null|      null|       1542381003000|\n",
      "|575958|     465731|   S|  null|  null|     2|     1|      1|1502874907000|        null|        null|          null|     null|          null|         null|              null|    null|       null|       null|  null|            null|       null|1502874907000|            null|           32767|           null|         X|        null|              X|          X|           null|       null|      null|      null|        null|          null|            null|         null|             null|       null|      null|       null|       null|         null|1502874840000|1506943612000|1506943612000|        RUTCAR|          0|         null|   874|1464739200000|        null|        null|        null|        null|        null|        null|  null|          null|      null|             null|      null|              null|      null|              null|     null|        null|     null|   null|          111|                    1|            null|         null|             null|                null|      null|            null|           null|          null|        null|          null|     111|             null|                     null|              null|         null|     null|      null|       1542381003000|\n",
      "|575966|     465734|   S|  null|  null|     2|     1|      1|1503053632000|        null|        null|          null|     null|          null|         null|              null|    null|       null|       null|  null|            null|       null|1503053632000|            null|           32767|           null|         X|        null|              X|          X|           null|       null|      null|      null|        null|          null|            null|         null|             null|       null|      null|       null|       null|         null|1503053580000|1506944921000|1506944921000|        RUTCAR|          1|         null|   871|1506816000000|        null|        null|        null|        null|        null|        null|  null|          null|      null|             null|      null|              null|      null|              null|     null|        null|     null|   null|          111|                    1|            null|         null|             null|                null|      null|               X|           null|          null|        null|          null|     111|             null|                     null|              null|         null|     null|      null|       1542381003000|\n",
      "|575967|     465734|   S|  null|  null|     2|     1|      1|1503053839000|        null|        null|          null|     null|          null|         null|              null|    null|       null|       null|  null|            null|       null|1503053839000|            null|           32767|           null|         X|        null|              X|          X|           null|       null|      null|      null|        null|          null|            null|         null|             null|       null|      null|       null|       null|         null|1503053820000|1506944941000|1506944941000|        RUTCAR|          0|         null|   874|1464739200000|        null|        null|        null|        null|        null|        null|  null|          null|      null|             null|      null|              null|      null|              null|     null|        null|     null|   null|          111|                    1|            null|         null|             null|                null|      null|               X|           null|          null|        null|          null|     111|             null|                     null|              null|         null|     null|      null|       1542381003000|\n",
      "|575975|     465735|   S|  null|  null|     2|     1|      1|1503055924000|        null|        null|          null|     null|          null|         null|              null|    null|       null|       null|  null|            null|       null|1503055924000|            null|           32767|           null|         X|        null|              X|          X|           null|       null|      null|      null|        null|          null|            null|         null|             null|       null|      null|       null|       null|         null|1503055920000|1506945303000|1506945303000|        RUTCAR|          1|         null|   871|1506816000000|        null|        null|        null|        null|        null|        null|  null|          null|      null|             null|      null|              null|      null|              null|     null|        null|     null|   null|          111|                    1|            null|         null|             null|                null|      null|               X|           null|          null|        null|          null|     111|             null|                     null|              null|         null|     null|      null|       1542381003000|\n",
      "|575976|     465735|   S|  null|  null|     2|     1|      1|1503055972000|        null|        null|          null|     null|          null|         null|              null|    null|       null|       null|  null|            null|       null|1503055972000|            null|           32767|           null|         X|        null|              X|          X|           null|       null|      null|      null|        null|          null|            null|         null|             null|       null|      null|       null|       null|         null|1503055920000|1506945334000|1506945334000|        RUTCAR|          0|         null|   874|1464739200000|        null|        null|        null|        null|        null|        null|  null|          null|      null|             null|      null|              null|      null|              null|     null|        null|     null|   null|          111|                    1|            null|         null|             null|                null|      null|            null|           null|          null|        null|          null|     111|             null|                     null|              null|         null|     null|      null|       1542381003000|\n",
      "|575983|     465737|   S|  null|  null|     2|     1|      1|1503055403000|        null|        null|          null|     null|          null|         null|              null|    null|       null|       null|  null|            null|       null|1503055403000|            null|           32767|           null|         X|        null|              X|          X|           null|       null|      null|      null|        null|          null|            null|         null|             null|       null|      null|       null|       null|         null|1503055380000|1506945736000|1506945736000|        RUTCAR|          1|         null|   871|1506816000000|        null|        null|        null|        null|        null|        null|  null|          null|      null|             null|      null|              null|      null|              null|     null|        null|     null|   null|          111|                    1|            null|         null|             null|                null|      null|               X|           null|          null|        null|          null|     111|             null|                     null|              null|         null|     null|      null|       1542381003000|\n",
      "|573095|     421184|   S|  null|  null|     2|     1|      1|1438128000000|        null|        null|          null|     null|          null|         null|              null|    null|       null|       null|  null|            null|       null|1438173300000|               X|            null|              0|         X|           C|           null|       null|           null|       null|      null|      null|        null|          null|            null|         null|             null|       null|      null|       null|       null|         null|1438173471000|1505211726000|1523318400000|       ANCARUA|          2|         null|   723|1480550400000|        null|        null|        null|        null|        null|        null|  null|          null|      null|             null|      null|              null|      null|              null|     null|        null|     null|   null|          111|                    1|            null|         null|             null|                null|      null|               X|           null|          null|        null|          null|     111|             null|                     null|              null|         null|     null|      null|       1542381003000|\n",
      "|573123|     421184|   S|  null|  null|     2|     1|      1|1464998400000|        null|        null|          null|     null|          null|         null|              null|    null|       null|       null|  null|            null|       null|1465038780000|               X|            null|              0|         X|           C|           null|       null|           null|       null|      null|      null|        null|          null|            null|         null|             null|       null|      null|       null|       null|         null|1465038922000|1505215051000|1534118400000|       ANCARUA|          1|         null|   723|1480550400000|        null|        null|        null|        null|        null|        null|  null|          null|      null|             null|      null|              null|      null|              null|     null|        null|     null|   null|          111|                    1|            null|         null|             null|                null|      null|            null|           null|          null|        null|          null|     111|             null|                     null|              null|         null|     null|      null|       1542381003000|\n",
      "|573132|     290544|   S|  null|  null|     2|     1|      1|1505174400000|        null|        null|          null|     null|          null|         null|              null|    null|       null|       null|  null|            null|       null|1505216040000|            null|            null|              0|         X|           C|           null|       null|           null|       null|      null|      null|        null|          null|            null|         null|             null|       null|      null|       null|       null|         null|1505216400000|1505216384000|1505433600000|        ALASCE|          2|         null|   904|1467331200000|        null|        null|        null|        null|        null|        null|  null|          null|      null|             null|      null|              null|      null|              null|     null|        null|     null|   null|          111|                    1|            null|         null|             null|                null|      null|               X|           null|          null|        null|          null|     111|             null|                     null|              null|         null|     null|      null|       1542381003000|\n",
      "|573169|     420029|   S|  null|  null|     2|     1|      1|1414713600000|        null|        null|          null|     null|          null|         null|              null|    null|       null|       null|  null|            null|       null|1414768380000|               X|            null|              0|         X|           C|           null|       null|           null|       null|      null|      null|        null|          null|            null|         null|             null|       null|      null|       null|       null|         null|1414768620000|1505221078000|1508426691000|        ALASCE|          1|         null|   904|1467331200000|        null|        null|        null|        null|        null|        null|  null|          null|      null|             null|      null|              null|      null|              null|     null|        null|     null|   null|          111|                    1|            null|         null|             null|                null|      null|            null|           null|          null|        null|          null|     111|             null|                     null|              null|         null|     null|      null|       1542381003000|\n",
      "|573172|     420029|   S|  null|  null|     2|     1|      1|1414713600000|        null|        null|          null|     null|          null|         null|              null|    null|       null|       null|  null|            null|       null|1414769040000|               X|            null|              0|         X|           C|           null|       null|           null|       null|      null|      null|        null|          null|            null|         null|             null|       null|      null|       null|       null|         null|1414769280000|1505221149000|1508426680000|        ALASCE|          1|         null|   904|1467331200000|        null|        null|        null|        null|        null|        null|  null|          null|      null|             null|      null|              null|      null|              null|     null|        null|     null|   null|          111|                    1|            null|         null|             null|                null|      null|            null|           null|          null|        null|          null|     111|             null|                     null|              null|         null|     null|      null|       1542381003000|\n",
      "|573173|     420029|   S|  null|  null|     2|     1|      1|1414713600000|        null|        null|          null|     null|          null|         null|              null|    null|       null|       null|  null|            null|       null|1414769280000|               X|            null|              0|         X|           C|           null|       null|           null|       null|      null|      null|        null|          null|            null|         null|             null|       null|      null|       null|       null|         null|1414769460000|1505221168000|1508426664000|        ALASCE|          1|         null|   700|1480550400000|        null|        null|        null|        null|        null|        null|  null|          null|      null|             null|      null|              null|      null|              null|     null|        null|     null|   null|          111|                    1|            null|         null|             null|                null|      null|            null|           null|          null|        null|          null|     111|             null|                     null|              null|         null|     null|      null|       1542381003000|\n",
      "+------+-----------+----+------+------+------+------+-------+-------------+------------+------------+--------------+---------+--------------+-------------+------------------+--------+-----------+-----------+------+----------------+-----------+-------------+----------------+----------------+---------------+----------+------------+---------------+-----------+---------------+-----------+----------+----------+------------+--------------+----------------+-------------+-----------------+-----------+----------+-----------+-----------+-------------+-------------+-------------+-------------+--------------+-----------+-------------+------+-------------+------------+------------+------------+------------+------------+------------+------+--------------+----------+-----------------+----------+------------------+----------+------------------+---------+------------+---------+-------+-------------+---------------------+----------------+-------------+-----------------+--------------------+----------+----------------+---------------+--------------+------------+--------------+--------+-----------------+-------------------------+------------------+-------------+---------+----------+--------------------+\n",
      "only showing top 100 rows\n",
      "\n"
     ]
    }
   ],
   "source": [
    "# print(\"No of lines to load: \", len(df_source_data))\n",
    "df_source_data.show(100)"
   ]
  },
  {
   "cell_type": "code",
   "execution_count": 72,
   "id": "7748abd0",
   "metadata": {},
   "outputs": [],
   "source": [
    ""
   ]
  },
  {
   "cell_type": "markdown",
   "id": "2c00649b",
   "metadata": {},
   "source": [
    "### DDL on lakehouse"
   ]
  },
  {
   "cell_type": "markdown",
   "id": "e8657e62",
   "metadata": {},
   "source": [
    "#### Data base"
   ]
  },
  {
   "cell_type": "code",
   "execution_count": 73,
   "id": "e772c9bc",
   "metadata": {},
   "outputs": [
    {
     "name": "stdout",
     "output_type": "stream",
     "text": [
      "\n",
      "CREATE DATABASE IF NOT EXISTS iceberg.bronze COMMENT '' LOCATION 's3a://prd-lakehouse/iceberg/bronze/'\n",
      "\n"
     ]
    },
    {
     "data": {
      "text/plain": [
       "DataFrame[]"
      ]
     },
     "execution_count": 73,
     "metadata": {},
     "output_type": "execute_result"
    }
   ],
   "source": [
    "##creating db\n",
    "sql_db_create = f\"\"\"\n",
    "CREATE DATABASE IF NOT EXISTS {dest_final_db} COMMENT '' LOCATION 's3a://{environment}-{lakehouse_bucket}/{dest_db_catalog}/{dest_db_schema}/'\n",
    "\"\"\"\n",
    "print(sql_db_create)\n",
    "spark.sql(sql_db_create)"
   ]
  },
  {
   "cell_type": "markdown",
   "id": "def1834a",
   "metadata": {},
   "source": [
    "#### Dest table"
   ]
  },
  {
   "cell_type": "code",
   "execution_count": 74,
   "id": "81dfd591",
   "metadata": {},
   "outputs": [],
   "source": [
    "sql_ddl_drop_table = f\"\"\"\n",
    "    DROP TABLE IF EXISTS {dest_final_table}\n",
    "\"\"\""
   ]
  },
  {
   "cell_type": "code",
   "execution_count": 75,
   "id": "732e1be7-f60b-4798-8f78-6b43937dfe05",
   "metadata": {},
   "outputs": [],
   "source": [
    "sql_ddl_create_table = f\"\"\"\n",
    "        create table if not exists {dest_final_table}\n",
    "        (\n",
    "\t\t\tco_id string,\n",
    "\t\t\tcustomer_id string,\n",
    "\t\t\ttype string,\n",
    "\t\t\tohxact string,\n",
    "\t\t\thrcode string,\n",
    "\t\t\tplcode string,\n",
    "\t\t\tsccode string,\n",
    "\t\t\tsubm_id string,\n",
    "\t\t\tco_signed string,\n",
    "\t\t\tco_cancelled string,\n",
    "\t\t\tco_suspended string,\n",
    "\t\t\tco_reactivated string,\n",
    "\t\t\tco_status string,\n",
    "\t\t\tco_status_date string,\n",
    "\t\t\tco_requstatus string,\n",
    "\t\t\tco_requstatus_date string,\n",
    "\t\t\tco_rs_id string,\n",
    "\t\t\tco_equ_type string,\n",
    "\t\t\tco_rep_bill string,\n",
    "\t\t\tco_rep string,\n",
    "\t\t\tco_rep_bill_idno string,\n",
    "\t\t\tco_rep_idno string,\n",
    "\t\t\tco_installed string,\n",
    "\t\t\tco_itemized_bill string,\n",
    "\t\t\tco_ib_categories string,\n",
    "\t\t\tco_ib_threshold string,\n",
    "\t\t\tco_archive string,\n",
    "\t\t\tco_dir_entry string,\n",
    "\t\t\tco_operator_dir string,\n",
    "\t\t\tco_pstn_dir string,\n",
    "\t\t\tco_calls_anonym string,\n",
    "\t\t\tco_ass_serv string,\n",
    "\t\t\tco_ass_equ string,\n",
    "\t\t\tco_ass_cbb string,\n",
    "\t\t\tco_crd_check string,\n",
    "\t\t\tco_crd_chk_end string,\n",
    "\t\t\tco_crd_chk_start string,\n",
    "\t\t\tco_crd_clicks string,\n",
    "\t\t\tco_crd_clicks_day string,\n",
    "\t\t\tco_crd_days string,\n",
    "\t\t\tco_comment string,\n",
    "\t\t\tco_duration string,\n",
    "\t\t\tco_reserved string,\n",
    "\t\t\tco_expir_date string,\n",
    "\t\t\tco_activated string,\n",
    "\t\t\tco_entdate string,\n",
    "\t\t\tco_moddate string,\n",
    "\t\t\tco_userlastmod string,\n",
    "\t\t\trec_version string,\n",
    "\t\t\tco_tollrating string,\n",
    "\t\t\ttmcode string,\n",
    "\t\t\ttmcode_date string,\n",
    "\t\t\tco_crd_d_tr1 string,\n",
    "\t\t\tco_crd_d_tr2 string,\n",
    "\t\t\tco_crd_d_tr3 string,\n",
    "\t\t\tco_crd_p_tr1 string,\n",
    "\t\t\tco_crd_p_tr2 string,\n",
    "\t\t\tco_crd_p_tr3 string,\n",
    "\t\t\tixcode string,\n",
    "\t\t\tpending_ixcode string,\n",
    "\t\t\tco_request string,\n",
    "\t\t\tco_multinumbering string,\n",
    "\t\t\teccode_ldc string,\n",
    "\t\t\tpending_eccode_ldc string,\n",
    "\t\t\teccode_lec string,\n",
    "\t\t\tpending_eccode_lec string,\n",
    "\t\t\tdealer_id string,\n",
    "\t\t\tsvp_contract string,\n",
    "\t\t\tnot_valid string,\n",
    "\t\t\tarpcode string,\n",
    "\t\t\tcontr_curr_id string,\n",
    "\t\t\tconvratetype_contract string,\n",
    "\t\t\tco_addr_on_ibill string,\n",
    "\t\t\tco_crd_amount string,\n",
    "\t\t\tco_crd_amount_day string,\n",
    "\t\t\tproduct_history_date string,\n",
    "\t\t\tco_confirm string,\n",
    "\t\t\tco_timm_modified string,\n",
    "\t\t\tco_ib_mass_flag string,\n",
    "\t\t\ttrial_end_date string,\n",
    "\t\t\tco_ext_csuin string,\n",
    "\t\t\tco_ib_cdr_flag string,\n",
    "\t\t\tcurrency string,\n",
    "\t\t\tsec_contr_curr_id string,\n",
    "\t\t\tsec_convratetype_contract string,\n",
    "\t\t\tdwh_etl_history_fk string,\n",
    "\t\t\tflg_processed string,\n",
    "\t\t\tflg_error string,\n",
    "\t\t\terror_desc string,\n",
    "\t\t\tstg_record_load_date string\n",
    "        )\n",
    "        using iceberg\n",
    "        \"\"\"        "
   ]
  },
  {
   "cell_type": "markdown",
   "id": "ed2ac78d",
   "metadata": {},
   "source": [
    "#### SQL DDL Execution"
   ]
  },
  {
   "cell_type": "code",
   "execution_count": 76,
   "id": "0ea4fbd0",
   "metadata": {},
   "outputs": [
    {
     "data": {
      "text/plain": [
       "DataFrame[]"
      ]
     },
     "execution_count": 76,
     "metadata": {},
     "output_type": "execute_result"
    }
   ],
   "source": [
    "## drop table\n",
    "spark.sql(sql_ddl_drop_table)\n",
    "\n",
    "## create table\n",
    "spark.sql(sql_ddl_create_table)"
   ]
  },
  {
   "cell_type": "markdown",
   "id": "4bb3c147",
   "metadata": {},
   "source": [
    "### Small transformation"
   ]
  },
  {
   "cell_type": "code",
   "execution_count": 77,
   "id": "b84283a6-aa02-4dee-8c09-f4be99877e02",
   "metadata": {},
   "outputs": [],
   "source": [
    "# # some transformations\n",
    "#     df = df.withColumn(\"duration\", df[\"duration\"].cast(\"double\"))\n",
    "#     # df = df.withColumn(\"event_date\", to_date(df[\"record_opening_time\"], \"yyyyMMddHHmmss\"))\n",
    "#     # to_date(df[\"record_opening_time\"], \"yyyyMMddHHmmss\")\n",
    "\n",
    "#     df.withColumn(\"event_date\", from_unixtime(unix_timestamp(\"record_opening_time\", \"yyyyMMddHHmmss\")))\n",
    "\n",
    "#     df.select('event_date').show()"
   ]
  },
  {
   "cell_type": "markdown",
   "id": "1fdfc847",
   "metadata": {},
   "source": [
    "### Write table"
   ]
  },
  {
   "cell_type": "code",
   "execution_count": 78,
   "id": "26862bbf-ce47-4d31-88ac-c1dc2f81a483",
   "metadata": {},
   "outputs": [
    {
     "name": "stderr",
     "output_type": "stream",
     "text": [
      "                                                                                \r"
     ]
    }
   ],
   "source": [
    "# wrintint the data on lakehouse\n",
    "df_send_to_bronze.writeTo(f'{dest_final_table}').append()"
   ]
  },
  {
   "cell_type": "code",
   "execution_count": 79,
   "id": "cc13221e-980b-4948-9ea3-c4f928e87de8",
   "metadata": {},
   "outputs": [
    {
     "name": "stdout",
     "output_type": "stream",
     "text": [
      "root\n",
      " |-- co_id: string (nullable = true)\n",
      " |-- customer_id: string (nullable = true)\n",
      " |-- type: string (nullable = true)\n",
      " |-- ohxact: string (nullable = true)\n",
      " |-- hrcode: string (nullable = true)\n",
      " |-- plcode: string (nullable = true)\n",
      " |-- sccode: string (nullable = true)\n",
      " |-- subm_id: string (nullable = true)\n",
      " |-- co_signed: string (nullable = true)\n",
      " |-- co_cancelled: string (nullable = true)\n",
      " |-- co_suspended: string (nullable = true)\n",
      " |-- co_reactivated: string (nullable = true)\n",
      " |-- co_status: string (nullable = true)\n",
      " |-- co_status_date: string (nullable = true)\n",
      " |-- co_requstatus: string (nullable = true)\n",
      " |-- co_requstatus_date: string (nullable = true)\n",
      " |-- co_rs_id: string (nullable = true)\n",
      " |-- co_equ_type: string (nullable = true)\n",
      " |-- co_rep_bill: string (nullable = true)\n",
      " |-- co_rep: string (nullable = true)\n",
      " |-- co_rep_bill_idno: string (nullable = true)\n",
      " |-- co_rep_idno: string (nullable = true)\n",
      " |-- co_installed: string (nullable = true)\n",
      " |-- co_itemized_bill: string (nullable = true)\n",
      " |-- co_ib_categories: string (nullable = true)\n",
      " |-- co_ib_threshold: string (nullable = true)\n",
      " |-- co_archive: string (nullable = true)\n",
      " |-- co_dir_entry: string (nullable = true)\n",
      " |-- co_operator_dir: string (nullable = true)\n",
      " |-- co_pstn_dir: string (nullable = true)\n",
      " |-- co_calls_anonym: string (nullable = true)\n",
      " |-- co_ass_serv: string (nullable = true)\n",
      " |-- co_ass_equ: string (nullable = true)\n",
      " |-- co_ass_cbb: string (nullable = true)\n",
      " |-- co_crd_check: string (nullable = true)\n",
      " |-- co_crd_chk_end: string (nullable = true)\n",
      " |-- co_crd_chk_start: string (nullable = true)\n",
      " |-- co_crd_clicks: string (nullable = true)\n",
      " |-- co_crd_clicks_day: string (nullable = true)\n",
      " |-- co_crd_days: string (nullable = true)\n",
      " |-- co_comment: string (nullable = true)\n",
      " |-- co_duration: string (nullable = true)\n",
      " |-- co_reserved: string (nullable = true)\n",
      " |-- co_expir_date: string (nullable = true)\n",
      " |-- co_activated: string (nullable = true)\n",
      " |-- co_entdate: string (nullable = true)\n",
      " |-- co_moddate: string (nullable = true)\n",
      " |-- co_userlastmod: string (nullable = true)\n",
      " |-- rec_version: string (nullable = true)\n",
      " |-- co_tollrating: string (nullable = true)\n",
      " |-- tmcode: string (nullable = true)\n",
      " |-- tmcode_date: string (nullable = true)\n",
      " |-- co_crd_d_tr1: string (nullable = true)\n",
      " |-- co_crd_d_tr2: string (nullable = true)\n",
      " |-- co_crd_d_tr3: string (nullable = true)\n",
      " |-- co_crd_p_tr1: string (nullable = true)\n",
      " |-- co_crd_p_tr2: string (nullable = true)\n",
      " |-- co_crd_p_tr3: string (nullable = true)\n",
      " |-- ixcode: string (nullable = true)\n",
      " |-- pending_ixcode: string (nullable = true)\n",
      " |-- co_request: string (nullable = true)\n",
      " |-- co_multinumbering: string (nullable = true)\n",
      " |-- eccode_ldc: string (nullable = true)\n",
      " |-- pending_eccode_ldc: string (nullable = true)\n",
      " |-- eccode_lec: string (nullable = true)\n",
      " |-- pending_eccode_lec: string (nullable = true)\n",
      " |-- dealer_id: string (nullable = true)\n",
      " |-- svp_contract: string (nullable = true)\n",
      " |-- not_valid: string (nullable = true)\n",
      " |-- arpcode: string (nullable = true)\n",
      " |-- contr_curr_id: string (nullable = true)\n",
      " |-- convratetype_contract: string (nullable = true)\n",
      " |-- co_addr_on_ibill: string (nullable = true)\n",
      " |-- co_crd_amount: string (nullable = true)\n",
      " |-- co_crd_amount_day: string (nullable = true)\n",
      " |-- product_history_date: string (nullable = true)\n",
      " |-- co_confirm: string (nullable = true)\n",
      " |-- co_timm_modified: string (nullable = true)\n",
      " |-- co_ib_mass_flag: string (nullable = true)\n",
      " |-- trial_end_date: string (nullable = true)\n",
      " |-- co_ext_csuin: string (nullable = true)\n",
      " |-- co_ib_cdr_flag: string (nullable = true)\n",
      " |-- currency: string (nullable = true)\n",
      " |-- sec_contr_curr_id: string (nullable = true)\n",
      " |-- sec_convratetype_contract: string (nullable = true)\n",
      " |-- dwh_etl_history_fk: string (nullable = true)\n",
      " |-- flg_processed: string (nullable = true)\n",
      " |-- flg_error: string (nullable = true)\n",
      " |-- error_desc: string (nullable = true)\n",
      " |-- stg_record_load_date: string (nullable = true)\n",
      "\n",
      "None\n",
      "No of Records: 806902\n"
     ]
    }
   ],
   "source": [
    "table = spark.table(f'{dest_final_table}')\n",
    "print(table.printSchema())\n",
    "print(f\"No of Records: {table.count()}\")"
   ]
  }
 ],
 "metadata": {
  "kernelspec": {
   "display_name": "Python 3 (ipykernel)",
   "language": "python",
   "name": "python3"
  },
  "language_info": {
   "codemirror_mode": {
    "name": "ipython",
    "version": 3
   },
   "file_extension": ".py",
   "mimetype": "text/x-python",
   "name": "python",
   "nbconvert_exporter": "python",
   "pygments_lexer": "ipython3",
   "version": "3.8.10"
  }
 },
 "nbformat": 4,
 "nbformat_minor": 5
}
