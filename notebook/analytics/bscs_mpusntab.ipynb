{
 "cells": [
  {
   "cell_type": "markdown",
   "id": "971a3450",
   "metadata": {},
   "source": [
    "### Libraries and session"
   ]
  },
  {
   "cell_type": "code",
   "execution_count": 24,
   "id": "8cdacd29-30c7-4986-b0f0-36f46289114e",
   "metadata": {},
   "outputs": [],
   "source": [
    "import pyspark\n",
    "import boto3\n",
    "from pyspark.sql import SparkSession\n",
    "from pyspark.sql.types import StructType, StructField, StringType, TimestampType, IntegerType, DateType, DecimalType\n",
    "from pyspark.sql.functions import year, to_date, month, dayofmonth,  from_unixtime, unix_timestamp"
   ]
  },
  {
   "cell_type": "code",
   "execution_count": 23,
   "id": "02e77c0b",
   "metadata": {},
   "outputs": [],
   "source": [
    "# ip and environments\n",
    "environment = 'prd'\n",
    "\n",
    "# Source\n",
    "system_source = \"bscs\"\n",
    "system_table =\"bscs_mpusntab\"\n",
    "\n",
    "# Set the bucket and folder paths\n",
    "source_bucket = 'landing-zone'\n",
    "source_folder = f'database/{system_source}/{system_table}'\n",
    "\n",
    "lakehouse_bucket = 'lakehouse'\n",
    "lakehouse_folder = 'iceberg'\n",
    "\n",
    "# table destination settings\n",
    "dest_db_catalog = 'iceberg'\n",
    "dest_db_schema = 'bronze'\n",
    "dest_db_table = system_table\n",
    "dest_final_db = f'{dest_db_catalog}.{dest_db_schema}'\n",
    "dest_final_table = f'{dest_final_db}.{dest_db_table}'\n",
    "\n",
    "# Spark identification and settings\n",
    "appname = f'BRONZE_{dest_final_db}.{dest_final_table}'\n",
    "log_level = 'WARN' # Valid log levels include: ALL, DEBUG, ERROR, FATAL, INFO, OFF, TRACE, WARN\n",
    "\n",
    "# Set your MinIO credentials\n",
    "s3_endpoint = 'http://minio:9000'\n",
    "s3_access_key = 'minio'\n",
    "s3_secret_key = 'minio123'"
   ]
  },
  {
   "cell_type": "code",
   "execution_count": 27,
   "id": "094ec688-91d3-4648-a78c-1131a892caaf",
   "metadata": {},
   "outputs": [
    {
     "name": "stderr",
     "output_type": "stream",
     "text": [
      "24/03/18 10:56:17 WARN SparkSession: Using an existing Spark session; only runtime SQL configurations will take effect.\n"
     ]
    }
   ],
   "source": [
    "spark = SparkSession.builder\\\n",
    "    .appName(appname)\\\n",
    "    .getOrCreate()"
   ]
  },
  {
   "cell_type": "code",
   "execution_count": 25,
   "id": "d06374f1-31e1-4eff-b369-75c9cd30ea81",
   "metadata": {},
   "outputs": [
    {
     "name": "stdout",
     "output_type": "stream",
     "text": [
      "=================================================\n",
      "[('spark.hadoop.hive.cli.print.header', 'true'), ('spark.hadoop.fs.s3a.connection.ssl.enabled', 'false'), ('spark.hadoop.fs.s3a.path.style.access', 'true'), ('spark.app.submitTime', '1710759026296'), ('spark.sql.catalog.spark_catalog', 'org.apache.iceberg.spark.SparkSessionCatalog'), ('spark.hadoop.fs.s3.endpoint', 'http://minio:9000'), ('spark.hadoop.fs.s3.access.key', 'minio'), ('spark.hadoop.fs.s3.impl', 'org.apache.hadoop.fs.s3a.S3AFileSystem'), ('spark.sql.catalog.iceberg.uri', 'thrift://hive-metastore:9083'), ('spark.sql.catalog.iceberg.s3.endpoint', 'http://minio:9000'), ('spark.sql.catalog.iceberg.s3.path-style-access', 'true'), ('spark.hadoop.fs.s3.path.style.access', 'true'), ('spark.hive.metastore.uris', 'thrift://hive-metastore:9083'), ('spark.master', 'local[*]'), ('spark.submit.deployMode', 'client'), ('spark.hadoop.fs.s3a.access.key', 'minio'), ('spark.sql.catalog.iceberg.io-impl', 'org.apache.iceberg.aws.s3.S3FileIO'), ('spark.app.name', 'BRONZE_iceberg.bronze.iceberg.bronze.bscs_mpusptab'), ('spark.hadoop.fs.s3.secret.key', 'minio123'), ('spark.sql.extensions', 'org.apache.iceberg.spark.extensions.IcebergSparkSessionExtensions'), ('spark.hadoop.fs.s3a.impl', 'org.apache.hadoop.fs.s3a.S3AFileSystem'), ('spark.sql.catalog.iceberg', 'org.apache.iceberg.spark.SparkCatalog'), ('spark.sql.catalogImplementation', 'hive'), ('spark.hadoop.fs.s3.connection.ssl.enabled', 'false'), ('spark.submit.pyFiles', ''), ('spark.sql.catalog.iceberg.warehouse', 's3a://prd-lakehouse/iceberg'), ('spark.hadoop.fs.s3a.endpoint', 'http://minio:9000'), ('spark.hadoop.fs.s3a.secret.key', 'minio123'), ('spark.sql.catalog.iceberg.type', 'hive'), ('spark.ui.showConsoleProgress', 'true'), ('spark.sql.catalog.spark_catalog.type', 'hive')]\n"
     ]
    }
   ],
   "source": [
    "print(\"=================================================\")\n",
    "spark.sparkContext.setLogLevel(log_level)\n",
    "print(pyspark.SparkConf().getAll())"
   ]
  },
  {
   "cell_type": "markdown",
   "id": "cbcf1ffe",
   "metadata": {},
   "source": [
    "### Read from the source"
   ]
  },
  {
   "cell_type": "code",
   "execution_count": 26,
   "id": "6463e5df",
   "metadata": {},
   "outputs": [],
   "source": [
    "s3 = boto3.client('s3', endpoint_url=s3_endpoint, aws_access_key_id=s3_access_key, aws_secret_access_key=s3_secret_key)"
   ]
  },
  {
   "cell_type": "code",
   "execution_count": 28,
   "id": "520e9151",
   "metadata": {},
   "outputs": [],
   "source": [
    "# List all files in the source directory\n",
    "file_list = []\n",
    "paginator = s3.get_paginator('list_objects_v2')\n",
    "\n",
    "for result in paginator.paginate(Bucket=f\"{environment}-{source_bucket}\", Prefix=source_folder):\n",
    "    \n",
    "    if 'Contents' in result:\n",
    "        for item in result['Contents']:\n",
    "            file_list.append(item['Key'])\n"
   ]
  },
  {
   "cell_type": "markdown",
   "id": "519cd0a9",
   "metadata": {},
   "source": [
    "#### Data Contract"
   ]
  },
  {
   "cell_type": "code",
   "execution_count": 29,
   "id": "86b57cf8-fbc5-4f4e-ab70-c317048e2273",
   "metadata": {
    "scrolled": true
   },
   "outputs": [],
   "source": [
    "df_source_schema = StructType([\n",
    "                        StructField(\"sncode\", StringType()),\n",
    "                        StructField(\"des\", StringType()),\n",
    "                        StructField(\"shdes\", StringType()),\n",
    "                        StructField(\"snind\", StringType()),\n",
    "                        StructField(\"rec_version\", StringType()),\n",
    "                        StructField(\"dwh_etl_history_fk\", StringType()),\n",
    "                        StructField(\"flg_processed\", StringType()),\n",
    "                        StructField(\"flg_error\", StringType()),\n",
    "                        StructField(\"error_desc\", StringType()),\n",
    "                        StructField(\"stg_record_load_date\", StringType())\n",
    "                ])"
   ]
  },
  {
   "cell_type": "code",
   "execution_count": 30,
   "id": "a4e290a7",
   "metadata": {},
   "outputs": [
    {
     "name": "stdout",
     "output_type": "stream",
     "text": [
      "Number of columns of contract: 10\n"
     ]
    }
   ],
   "source": [
    "num_columns_contract = len(df_source_schema.fields)\n",
    "print(\"Number of columns of contract:\", num_columns_contract)"
   ]
  },
  {
   "cell_type": "code",
   "execution_count": 31,
   "id": "de2b2547",
   "metadata": {},
   "outputs": [],
   "source": [
    "df_source_data = spark.createDataFrame([], schema=df_source_schema)"
   ]
  },
  {
   "cell_type": "code",
   "execution_count": 32,
   "id": "ac649937",
   "metadata": {},
   "outputs": [
    {
     "name": "stdout",
     "output_type": "stream",
     "text": [
      "File in processing: database/bscs/bscs_mpusntab/20240315/00615c07-c7f0-45d1-b740-352e7bd6f6cd.csv\n",
      "No of columns matched\n",
      "File in processing: database/bscs/bscs_mpusntab/20240315/02b7687a-f53f-4636-bee6-d592ce950bde.csv\n",
      "No of columns matched\n",
      "File in processing: database/bscs/bscs_mpusntab/20240315/02f8c896-27b4-44ee-ae07-09f087b61a2b.csv\n",
      "No of columns matched\n",
      "File in processing: database/bscs/bscs_mpusntab/20240315/0334be5a-98f6-4596-a518-773d644cbc9a.csv\n",
      "No of columns matched\n",
      "File in processing: database/bscs/bscs_mpusntab/20240315/03367321-ebde-4de3-8d4e-c208187e40e8.csv\n",
      "No of columns matched\n",
      "File in processing: database/bscs/bscs_mpusntab/20240315/03c6eafc-27b9-494a-8993-aacc95c6c415.csv\n",
      "No of columns matched\n",
      "File in processing: database/bscs/bscs_mpusntab/20240315/03ca5dc9-5373-492e-a332-b28958a71fc4.csv\n",
      "No of columns matched\n",
      "File in processing: database/bscs/bscs_mpusntab/20240315/069cd2fe-8bac-4750-83d4-5d68f50b9b84.csv\n",
      "No of columns matched\n",
      "File in processing: database/bscs/bscs_mpusntab/20240315/080f7a7d-5699-440b-b824-5252f975ff0e.csv\n",
      "No of columns matched\n",
      "File in processing: database/bscs/bscs_mpusntab/20240315/081c0b61-27c6-466c-85e3-69cdd00be811.csv\n",
      "No of columns matched\n",
      "File in processing: database/bscs/bscs_mpusntab/20240315/08319444-8a1f-4107-8f7d-f5befa64a309.csv\n",
      "No of columns matched\n",
      "File in processing: database/bscs/bscs_mpusntab/20240315/09909302-2ca5-4bcf-9a7b-260f0131fb80.csv\n",
      "No of columns matched\n",
      "File in processing: database/bscs/bscs_mpusntab/20240315/0a06709b-baf2-4f31-9267-680a7f1a0ac0.csv\n",
      "No of columns matched\n",
      "File in processing: database/bscs/bscs_mpusntab/20240315/0ad56625-f081-4b5b-98bc-e4e1b2b23660.csv\n",
      "No of columns matched\n",
      "File in processing: database/bscs/bscs_mpusntab/20240315/0d393c52-5cac-4e14-97fe-8182ed2196ab.csv\n",
      "No of columns matched\n",
      "File in processing: database/bscs/bscs_mpusntab/20240315/0f05b43e-fdc5-42e1-a347-9c164d51f89d.csv\n",
      "No of columns matched\n",
      "File in processing: database/bscs/bscs_mpusntab/20240315/1117f132-94a5-45a4-b885-6f0378fe9dd9.csv\n",
      "No of columns matched\n",
      "File in processing: database/bscs/bscs_mpusntab/20240315/12cac3a8-548b-4a1d-9d4a-fe3488a4cb3b.csv\n",
      "No of columns matched\n",
      "File in processing: database/bscs/bscs_mpusntab/20240315/149dc7d9-66f8-44e1-a4e0-f9d741c48eed.csv\n",
      "No of columns matched\n",
      "File in processing: database/bscs/bscs_mpusntab/20240315/150b4bdd-74cb-4401-bfab-f91286b46c79.csv\n",
      "No of columns matched\n",
      "File in processing: database/bscs/bscs_mpusntab/20240315/16df101e-290a-4a6c-9e75-49bc8999fa26.csv\n",
      "No of columns matched\n",
      "File in processing: database/bscs/bscs_mpusntab/20240315/19305ec6-07ce-4dd0-95ac-aa09c41ed873.csv\n",
      "No of columns matched\n",
      "File in processing: database/bscs/bscs_mpusntab/20240315/1a4f8d05-fa7d-4f5f-8f8d-ced327f74596.csv\n",
      "No of columns matched\n",
      "File in processing: database/bscs/bscs_mpusntab/20240315/1ab3f60d-00e3-4d2b-b908-ce8df34b91ec.csv\n",
      "No of columns matched\n",
      "File in processing: database/bscs/bscs_mpusntab/20240315/1fcdd10d-ef08-4b87-a0fa-69ffd7a4b28f.csv\n",
      "No of columns matched\n",
      "File in processing: database/bscs/bscs_mpusntab/20240315/2111140e-c910-4be6-8693-3f668ab409f9.csv\n",
      "No of columns matched\n",
      "File in processing: database/bscs/bscs_mpusntab/20240315/235faa9a-8fce-4903-91f8-e2f825bf24cd.csv\n",
      "No of columns matched\n",
      "File in processing: database/bscs/bscs_mpusntab/20240315/2403bd7b-ad3d-4951-941e-1eeae379d2fc.csv\n",
      "No of columns matched\n",
      "File in processing: database/bscs/bscs_mpusntab/20240315/25bc98eb-82b7-4b86-a42d-732d7098bc44.csv\n",
      "No of columns matched\n",
      "File in processing: database/bscs/bscs_mpusntab/20240315/27a7b230-1c0f-47fb-912a-dcf292e8aca9.csv\n",
      "No of columns matched\n",
      "File in processing: database/bscs/bscs_mpusntab/20240315/289f4b2e-46fc-4b0e-b3da-90cf9a39a6e2.csv\n",
      "No of columns matched\n",
      "File in processing: database/bscs/bscs_mpusntab/20240315/290f2d38-a831-45cd-86ef-e6debf7ae4e7.csv\n",
      "No of columns matched\n",
      "File in processing: database/bscs/bscs_mpusntab/20240315/29f3819a-277c-4abb-a29a-8ccb8ed053cd.csv\n",
      "No of columns matched\n",
      "File in processing: database/bscs/bscs_mpusntab/20240315/2c157867-0902-4019-8d96-7519f5e71040.csv\n",
      "No of columns matched\n",
      "File in processing: database/bscs/bscs_mpusntab/20240315/2e634ceb-4c2a-41f7-a7fa-12cad654d637.csv\n",
      "No of columns matched\n",
      "File in processing: database/bscs/bscs_mpusntab/20240315/30cd1633-efcc-4dd7-baf3-b049839c8d20.csv\n",
      "No of columns matched\n",
      "File in processing: database/bscs/bscs_mpusntab/20240315/36afa2c0-727b-46a3-a900-851752a23e98.csv\n",
      "No of columns matched\n",
      "File in processing: database/bscs/bscs_mpusntab/20240315/3707f725-e2c6-4ddf-a228-1b65983d863c.csv\n",
      "No of columns matched\n",
      "File in processing: database/bscs/bscs_mpusntab/20240315/382ac25a-000f-4d06-bb26-ef379db437a4.csv\n",
      "No of columns matched\n",
      "File in processing: database/bscs/bscs_mpusntab/20240315/3834b169-20be-4d4f-a6a3-dcc3b6946ba8.csv\n",
      "No of columns matched\n",
      "File in processing: database/bscs/bscs_mpusntab/20240315/39d8f229-49b4-4fd6-854a-3e0238e10dd9.csv\n",
      "No of columns matched\n",
      "File in processing: database/bscs/bscs_mpusntab/20240315/3b84ecaf-ba2f-48ce-a489-9d86f384c4bd.csv\n",
      "No of columns matched\n",
      "File in processing: database/bscs/bscs_mpusntab/20240315/3be80b93-7c00-4731-a4cc-480312af8db6.csv\n",
      "No of columns matched\n",
      "File in processing: database/bscs/bscs_mpusntab/20240315/41b99ec3-8d7f-4fa7-a6ec-fd51dc498c9d.csv\n",
      "No of columns matched\n",
      "File in processing: database/bscs/bscs_mpusntab/20240315/428e8e49-18c3-4a73-9014-0f018fea8e99.csv\n",
      "No of columns matched\n",
      "File in processing: database/bscs/bscs_mpusntab/20240315/4299faef-1bef-4cc9-9c7c-ceca7a76ab84.csv\n",
      "No of columns matched\n",
      "File in processing: database/bscs/bscs_mpusntab/20240315/430542bc-a0a9-476f-9a2e-f9571f2d6168.csv\n",
      "No of columns matched\n",
      "File in processing: database/bscs/bscs_mpusntab/20240315/437b03bb-4f60-45f8-818a-da186601c827.csv\n",
      "No of columns matched\n",
      "File in processing: database/bscs/bscs_mpusntab/20240315/470ec210-71da-4f7e-8cef-90717e6c66cc.csv\n",
      "No of columns matched\n",
      "File in processing: database/bscs/bscs_mpusntab/20240315/47ffb563-63bc-4af0-befa-90faf91ced67.csv\n",
      "No of columns matched\n",
      "File in processing: database/bscs/bscs_mpusntab/20240315/48235d3f-9297-4775-9d13-31f7f915be96.csv\n",
      "No of columns matched\n",
      "File in processing: database/bscs/bscs_mpusntab/20240315/495c67d7-a17e-467a-b7eb-11c39b2b7647.csv\n",
      "No of columns matched\n",
      "File in processing: database/bscs/bscs_mpusntab/20240315/49687870-d595-4b66-bab2-eb1ea9e81b6a.csv\n",
      "No of columns matched\n",
      "File in processing: database/bscs/bscs_mpusntab/20240315/496bf96a-4906-4157-949d-be3f2ab06b29.csv\n",
      "No of columns matched\n",
      "File in processing: database/bscs/bscs_mpusntab/20240315/4a582922-b3e0-43cc-a14c-d3ac3fac81ac.csv\n",
      "No of columns matched\n",
      "File in processing: database/bscs/bscs_mpusntab/20240315/4ea7264a-c495-446b-8a2e-374a1e9735a9.csv\n",
      "No of columns matched\n",
      "File in processing: database/bscs/bscs_mpusntab/20240315/4ebb2c36-5f56-4afa-bc46-a80669ba0ed0.csv\n",
      "No of columns matched\n",
      "File in processing: database/bscs/bscs_mpusntab/20240315/4f740910-a3ba-4b2a-9ac3-bed9f63635d7.csv\n",
      "No of columns matched\n",
      "File in processing: database/bscs/bscs_mpusntab/20240315/5187c78e-9ff6-4bee-87f4-a2265640342b.csv\n",
      "No of columns matched\n",
      "File in processing: database/bscs/bscs_mpusntab/20240315/521cc95b-cd22-4d65-83e6-8e07fb7ab920.csv\n",
      "No of columns matched\n",
      "File in processing: database/bscs/bscs_mpusntab/20240315/522faf33-cf7e-4f5a-a544-41e5fc57c9e8.csv\n",
      "No of columns matched\n",
      "File in processing: database/bscs/bscs_mpusntab/20240315/54420ee8-fc1d-4dbc-a43a-769294c62eb1.csv\n",
      "No of columns matched\n",
      "File in processing: database/bscs/bscs_mpusntab/20240315/545e35cb-854f-4c72-a467-e1d0671938eb.csv\n",
      "No of columns matched\n",
      "File in processing: database/bscs/bscs_mpusntab/20240315/553e5c97-87b5-44ab-9323-c3e960f442d1.csv\n",
      "No of columns matched\n",
      "File in processing: database/bscs/bscs_mpusntab/20240315/5cc4cdb9-c995-4945-a16a-32b6b5559f91.csv\n",
      "No of columns matched\n",
      "File in processing: database/bscs/bscs_mpusntab/20240315/5d6df2b8-8b6d-4697-b702-9e0624cf8c7e.csv\n",
      "No of columns matched\n",
      "File in processing: database/bscs/bscs_mpusntab/20240315/62eb45dc-67a1-4d07-a93b-5c3bed76f1d5.csv\n",
      "No of columns matched\n",
      "File in processing: database/bscs/bscs_mpusntab/20240315/66dc56cd-d1b1-4dba-97ab-9fbe4082a9a2.csv\n",
      "No of columns matched\n",
      "File in processing: database/bscs/bscs_mpusntab/20240315/6742bc23-670c-4cc6-b49e-369d19a2708d.csv\n",
      "No of columns matched\n",
      "File in processing: database/bscs/bscs_mpusntab/20240315/68996f88-9bda-4b44-aca7-5e446862190c.csv\n",
      "No of columns matched\n",
      "File in processing: database/bscs/bscs_mpusntab/20240315/6a736c82-3b2c-4e3e-af36-5f58d7743343.csv\n",
      "No of columns matched\n",
      "File in processing: database/bscs/bscs_mpusntab/20240315/6a893cc0-5b80-4b74-9d3a-f5683fa44ea1.csv\n",
      "No of columns matched\n",
      "File in processing: database/bscs/bscs_mpusntab/20240315/6b07dbb7-dacf-40db-8446-3bc4d147d37b.csv\n",
      "No of columns matched\n",
      "File in processing: database/bscs/bscs_mpusntab/20240315/6c058bdb-aa58-45c1-95ab-f3d1d8c13f80.csv\n",
      "No of columns matched\n",
      "File in processing: database/bscs/bscs_mpusntab/20240315/6f80bc6c-ceb7-4fce-bff8-aa9232d5ee3c.csv\n",
      "No of columns matched\n",
      "File in processing: database/bscs/bscs_mpusntab/20240315/72ef3c16-f54c-4cd4-b382-881d599edb74.csv\n",
      "No of columns matched\n",
      "File in processing: database/bscs/bscs_mpusntab/20240315/751fd37e-ae36-4b02-8fad-381cb7167385.csv\n",
      "No of columns matched\n",
      "File in processing: database/bscs/bscs_mpusntab/20240315/755d971f-2dea-4fcf-b53e-3b92c17adac1.csv\n",
      "No of columns matched\n",
      "File in processing: database/bscs/bscs_mpusntab/20240315/7870fec3-e7b5-44c3-9ed8-5c9b9baffd99.csv\n",
      "No of columns matched\n",
      "File in processing: database/bscs/bscs_mpusntab/20240315/787a0962-7b37-4537-aefc-54de64d184b2.csv\n",
      "No of columns matched\n",
      "File in processing: database/bscs/bscs_mpusntab/20240315/79af3467-8735-4136-b61c-9cc425cc1b99.csv\n",
      "No of columns matched\n",
      "File in processing: database/bscs/bscs_mpusntab/20240315/7c17d519-f626-4c73-b7a3-669b781325d0.csv\n",
      "No of columns matched\n",
      "File in processing: database/bscs/bscs_mpusntab/20240315/80ba6b47-3f99-4da4-b4e8-4e06cbc75282.csv\n",
      "No of columns matched\n",
      "File in processing: database/bscs/bscs_mpusntab/20240315/813e3439-10fb-4bfa-afb9-238e55fbdf63.csv\n",
      "No of columns matched\n",
      "File in processing: database/bscs/bscs_mpusntab/20240315/820f4979-935d-43ef-8c53-05c0efc37d7f.csv\n",
      "No of columns matched\n",
      "File in processing: database/bscs/bscs_mpusntab/20240315/82d200b3-59ba-4836-aaeb-1cf7121c5c84.csv\n",
      "No of columns matched\n",
      "File in processing: database/bscs/bscs_mpusntab/20240315/82ede2ea-fa61-485c-8aea-c38703f61656.csv\n",
      "No of columns matched\n",
      "File in processing: database/bscs/bscs_mpusntab/20240315/83e22d01-0906-4d08-87d3-752146c7e8f1.csv\n",
      "No of columns matched\n",
      "File in processing: database/bscs/bscs_mpusntab/20240315/85da1cf5-6426-4384-b964-64e718258bb8.csv\n",
      "No of columns matched\n",
      "File in processing: database/bscs/bscs_mpusntab/20240315/8770cb87-f23d-4e9a-9955-010fd706bfd8.csv\n",
      "No of columns matched\n",
      "File in processing: database/bscs/bscs_mpusntab/20240315/8acea5d8-005c-4545-ba03-6b65866b0238.csv\n",
      "No of columns matched\n",
      "File in processing: database/bscs/bscs_mpusntab/20240315/8c5abadd-1fee-4b6e-b209-f12cdacb9f24.csv\n",
      "No of columns matched\n",
      "File in processing: database/bscs/bscs_mpusntab/20240315/8f454dbc-1d7d-475c-ba6d-805ce257dc02.csv\n",
      "No of columns matched\n",
      "File in processing: database/bscs/bscs_mpusntab/20240315/90409c73-ad21-4c0d-b7ba-fef9068f734f.csv\n",
      "No of columns matched\n",
      "File in processing: database/bscs/bscs_mpusntab/20240315/913e6e88-7ced-47d6-8d96-e748ea34f325.csv\n",
      "No of columns matched\n",
      "File in processing: database/bscs/bscs_mpusntab/20240315/98ad3390-186d-409f-9526-2cd45f40239e.csv\n",
      "No of columns matched\n",
      "File in processing: database/bscs/bscs_mpusntab/20240315/98de134a-9294-46fe-b480-5fd9fdd626a6.csv\n",
      "No of columns matched\n",
      "File in processing: database/bscs/bscs_mpusntab/20240315/9b167a94-548e-4f77-8134-436ed1aa79af.csv\n",
      "No of columns matched\n",
      "File in processing: database/bscs/bscs_mpusntab/20240315/9bf3657c-4777-4958-9683-3d4df303e1fb.csv\n",
      "No of columns matched\n",
      "File in processing: database/bscs/bscs_mpusntab/20240315/9dded8af-8236-405b-b5db-a1b8c619479c.csv\n",
      "No of columns matched\n",
      "File in processing: database/bscs/bscs_mpusntab/20240315/9e2d65a1-c276-4938-824f-0dfd5e81eb26.csv\n",
      "No of columns matched\n",
      "File in processing: database/bscs/bscs_mpusntab/20240315/a4a0daec-8ee7-43a9-9002-0fc8ff88b7ce.csv\n",
      "No of columns matched\n",
      "File in processing: database/bscs/bscs_mpusntab/20240315/a60b8f5d-c927-467c-bfb9-865da8ae8ccf.csv\n",
      "No of columns matched\n",
      "File in processing: database/bscs/bscs_mpusntab/20240315/a6a6fbe8-ad97-463d-bace-64811ebb61e2.csv\n",
      "No of columns matched\n",
      "File in processing: database/bscs/bscs_mpusntab/20240315/a81728a1-14dd-44b2-ae35-6c57b07377ac.csv\n",
      "No of columns matched\n",
      "File in processing: database/bscs/bscs_mpusntab/20240315/aa2541c7-a42c-44b3-a1d9-a3a384694817.csv\n",
      "No of columns matched\n",
      "File in processing: database/bscs/bscs_mpusntab/20240315/ad7c4566-665e-45dc-ac01-9ccd5678d60a.csv\n",
      "No of columns matched\n",
      "File in processing: database/bscs/bscs_mpusntab/20240315/ae49762f-4279-447f-a6ef-7eabfdc6ad69.csv\n",
      "No of columns matched\n",
      "File in processing: database/bscs/bscs_mpusntab/20240315/aebdff5d-043d-4f1f-81c0-532f56a2a9cb.csv\n",
      "No of columns matched\n",
      "File in processing: database/bscs/bscs_mpusntab/20240315/b00b3c86-6989-4c83-83a8-b46aa146bce0.csv\n",
      "No of columns matched\n",
      "File in processing: database/bscs/bscs_mpusntab/20240315/b2bf647c-3484-42ba-be99-15a17946db94.csv\n",
      "No of columns matched\n",
      "File in processing: database/bscs/bscs_mpusntab/20240315/b387e895-878d-47e1-84c9-b31b760f0358.csv\n",
      "No of columns matched\n",
      "File in processing: database/bscs/bscs_mpusntab/20240315/b396e64c-5b9b-4857-9cc2-59af291b8170.csv\n",
      "No of columns matched\n",
      "File in processing: database/bscs/bscs_mpusntab/20240315/b5fcd5f6-f06c-4bee-a882-a2e41b28f378.csv\n",
      "No of columns matched\n",
      "File in processing: database/bscs/bscs_mpusntab/20240315/b6172370-4e68-4058-819a-122b7617e2f0.csv\n",
      "No of columns matched\n",
      "File in processing: database/bscs/bscs_mpusntab/20240315/b7dc365d-d1c9-4a6a-bd97-0dcc38ef8862.csv\n",
      "No of columns matched\n",
      "File in processing: database/bscs/bscs_mpusntab/20240315/b8681f4d-7741-4c7e-9bcf-cb07c61134d6.csv\n",
      "No of columns matched\n",
      "File in processing: database/bscs/bscs_mpusntab/20240315/b93c4a49-5484-41e8-badf-56ed25205c13.csv\n",
      "No of columns matched\n",
      "File in processing: database/bscs/bscs_mpusntab/20240315/b985cf9a-0ed1-4026-b3be-fac0b0a07e56.csv\n",
      "No of columns matched\n",
      "File in processing: database/bscs/bscs_mpusntab/20240315/bb221a58-869a-41db-92c9-ec056428adb2.csv\n",
      "No of columns matched\n",
      "File in processing: database/bscs/bscs_mpusntab/20240315/c12c7b91-d324-4e3e-b36b-b69da201ee32.csv\n",
      "No of columns matched\n",
      "File in processing: database/bscs/bscs_mpusntab/20240315/c257211f-2771-4885-8ad4-56895269604f.csv\n",
      "No of columns matched\n",
      "File in processing: database/bscs/bscs_mpusntab/20240315/c28dbb10-a311-4464-8fd3-2caad5c5d065.csv\n",
      "No of columns matched\n",
      "File in processing: database/bscs/bscs_mpusntab/20240315/c2d129e4-f6ce-4a57-8da5-63468712c654.csv\n",
      "No of columns matched\n",
      "File in processing: database/bscs/bscs_mpusntab/20240315/c4ced13a-ee0d-4450-a4b9-8a9d456f60b7.csv\n",
      "No of columns matched\n",
      "File in processing: database/bscs/bscs_mpusntab/20240315/c5dd935a-47d2-4fb1-bf41-bbbf79badc3f.csv\n",
      "No of columns matched\n",
      "File in processing: database/bscs/bscs_mpusntab/20240315/c7c7e537-7c82-42f8-aaf6-d894e2fd8db5.csv\n",
      "No of columns matched\n",
      "File in processing: database/bscs/bscs_mpusntab/20240315/c8e1c473-9f40-4087-aa94-db78def89858.csv\n",
      "No of columns matched\n",
      "File in processing: database/bscs/bscs_mpusntab/20240315/cc33ebc8-3451-4c7b-95d3-262c3b767613.csv\n",
      "No of columns matched\n",
      "File in processing: database/bscs/bscs_mpusntab/20240315/d0c8442f-61ad-46d9-9a16-e5f7c0a86e1d.csv\n",
      "No of columns matched\n",
      "File in processing: database/bscs/bscs_mpusntab/20240315/d36a6da4-d888-4365-9fdb-6261eb9180b6.csv\n",
      "No of columns matched\n",
      "File in processing: database/bscs/bscs_mpusntab/20240315/d3b9227a-ef90-429f-9742-356cf0f84664.csv\n",
      "No of columns matched\n",
      "File in processing: database/bscs/bscs_mpusntab/20240315/d48a9cee-6cb6-4bc3-b762-1016063b3a1c.csv\n",
      "No of columns matched\n",
      "File in processing: database/bscs/bscs_mpusntab/20240315/d4a1d1e5-d698-4870-b490-a84e4c5b868f.csv\n",
      "No of columns matched\n",
      "File in processing: database/bscs/bscs_mpusntab/20240315/d52b5d4d-8e00-4ad9-b4bc-2c1db4030560.csv\n",
      "No of columns matched\n",
      "File in processing: database/bscs/bscs_mpusntab/20240315/d73c4cfc-c9a8-4369-ad9e-3a3f6855483e.csv\n",
      "No of columns matched\n",
      "File in processing: database/bscs/bscs_mpusntab/20240315/d7d9910e-4d57-45a2-88c5-01960b69d649.csv\n",
      "No of columns matched\n",
      "File in processing: database/bscs/bscs_mpusntab/20240315/d82b84c0-f5c4-43c6-9d7f-145cdd520a75.csv\n",
      "No of columns matched\n",
      "File in processing: database/bscs/bscs_mpusntab/20240315/da08d5f3-bcc4-4239-bd69-4f8a79e34b9b.csv\n",
      "No of columns matched\n",
      "File in processing: database/bscs/bscs_mpusntab/20240315/de47634f-d052-461e-a9e4-f571eb34b073.csv\n",
      "No of columns matched\n",
      "File in processing: database/bscs/bscs_mpusntab/20240315/e06f10f8-c147-44d9-8d8a-0e692f6d556b.csv\n",
      "No of columns matched\n",
      "File in processing: database/bscs/bscs_mpusntab/20240315/e1097318-5ae2-460c-a7e4-ad11274dc42f.csv\n",
      "No of columns matched\n",
      "File in processing: database/bscs/bscs_mpusntab/20240315/e264b1ca-864d-4503-8084-79c3327b41e8.csv\n",
      "No of columns matched\n",
      "File in processing: database/bscs/bscs_mpusntab/20240315/e36f8761-b0c9-4f6a-b3a1-54e006aaaa71.csv\n",
      "No of columns matched\n",
      "File in processing: database/bscs/bscs_mpusntab/20240315/e9691c82-7987-4d5d-86c0-701c0008464e.csv\n",
      "No of columns matched\n",
      "File in processing: database/bscs/bscs_mpusntab/20240315/eb9f0611-3c6f-4fc6-b59c-f3a96e02b884.csv\n",
      "No of columns matched\n",
      "File in processing: database/bscs/bscs_mpusntab/20240315/ee6526d0-fbb1-49ef-a9c3-c1cd6e7f627e.csv\n",
      "No of columns matched\n",
      "File in processing: database/bscs/bscs_mpusntab/20240315/f2df7f23-eab7-4b44-9ddb-05c320bf0ae7.csv\n",
      "No of columns matched\n",
      "File in processing: database/bscs/bscs_mpusntab/20240315/f48d6806-6c94-4045-b77f-a250491396c9.csv\n",
      "No of columns matched\n",
      "File in processing: database/bscs/bscs_mpusntab/20240315/f63a49e0-9b91-4848-8d3f-8f8e798e3019.csv\n",
      "No of columns matched\n",
      "File in processing: database/bscs/bscs_mpusntab/20240315/f7143bc4-2320-45e0-ba91-bb938f536761.csv\n",
      "No of columns matched\n",
      "File in processing: database/bscs/bscs_mpusntab/20240315/f8cccdcb-caee-4442-b725-efcf8bff70bc.csv\n",
      "No of columns matched\n",
      "File in processing: database/bscs/bscs_mpusntab/20240315/fba7a476-f381-441d-b97e-d94d5aea3b90.csv\n",
      "No of columns matched\n",
      "File in processing: database/bscs/bscs_mpusntab/20240315/fc17e2ad-5cfb-4bbd-b15f-83852b9eec3b.csv\n",
      "No of columns matched\n",
      "File in processing: database/bscs/bscs_mpusntab/20240315/fdae5e17-f08f-427b-9ecc-6bdba8a72548.csv\n",
      "No of columns matched\n",
      "File in processing: database/bscs/bscs_mpusntab/20240315/fe0a1d49-38e8-40a5-a5a4-878d68a479e7.csv\n",
      "No of columns matched\n",
      "File in processing: database/bscs/bscs_mpusntab/20240315/fe1c1cd2-7304-4896-97c8-dd7d9e8814db.csv\n",
      "No of columns matched\n"
     ]
    }
   ],
   "source": [
    "# reading files in the source\n",
    "for file_name in file_list:\n",
    "\n",
    "    print(f'File in processing: {file_name}')\n",
    "    \n",
    "    df = spark.read.format(\"csv\") \\\n",
    "                    .option(\"header\", \"true\") \\\n",
    "                    .option(\"delimiter\", \",\") \\\n",
    "                    .schema(df_source_schema) \\\n",
    "                    .load(f\"s3a://{environment}-{source_bucket}/{file_name}\")\n",
    "    \n",
    "    # df.show(5)\n",
    "    \n",
    "    if len(df.columns) == num_columns_contract:\n",
    "        print('No of columns matched')\n",
    "        df_source_data = df_source_data.union(df)"
   ]
  },
  {
   "cell_type": "code",
   "execution_count": 33,
   "id": "7c57cda2",
   "metadata": {},
   "outputs": [
    {
     "name": "stderr",
     "output_type": "stream",
     "text": [
      "24/03/18 10:56:39 WARN DAGScheduler: Broadcasting large task binary with size 1104.1 KiB\n",
      "24/03/18 10:56:40 WARN DAGScheduler: Broadcasting large task binary with size 1104.1 KiB\n",
      "                                                                                \r"
     ]
    },
    {
     "name": "stdout",
     "output_type": "stream",
     "text": [
      "+------+--------------------+-----+-----+-----------+------------------+-------------+---------+----------+--------------------+\n",
      "|sncode|                 des|shdes|snind|rec_version|dwh_etl_history_fk|flg_processed|flg_error|error_desc|stg_record_load_date|\n",
      "+------+--------------------+-----+-----+-----------+------------------+-------------+---------+----------+--------------------+\n",
      "|   814|V5P50-240 any+fre...|V5P52|    Y|          2|              null|         null|     null|      null|                null|\n",
      "|   815|V5P50-240 any+fre...|V5P53|    Y|          2|              null|         null|     null|      null|                null|\n",
      "|   816|V5P50-800 V&F+fre...|V5P58|    Y|          2|              null|         null|     null|      null|                null|\n",
      "|   817|V5P50-800 V&F+fre...|V5P59|    Y|          2|              null|         null|     null|      null|                null|\n",
      "|   818|V5100any-P20-200V...|V5122|    Y|          2|              null|         null|     null|      null|                null|\n",
      "|   819|V5100any-P20-200V...|V5123|    Y|          2|              null|         null|     null|      null|                null|\n",
      "|   820|V5100any-P20-60an...|V5126|    Y|          2|              null|         null|     null|      null|                null|\n",
      "|   821|V5100any-P20-60an...|V5127|    Y|          2|              null|         null|     null|      null|                null|\n",
      "|  1023|                UN55|UN501|    Y|          2|              null|         null|     null|      null|                null|\n",
      "|  1024|  SM30 NON-EU; Fixed|SM30F|    Y|          5|              null|         null|     null|      null|                null|\n",
      "+------+--------------------+-----+-----+-----------+------------------+-------------+---------+----------+--------------------+\n",
      "only showing top 10 rows\n",
      "\n"
     ]
    }
   ],
   "source": [
    "# print(\"No of lines to load: \", len(df_source_data))\n",
    "df_source_data.show(10)"
   ]
  },
  {
   "cell_type": "code",
   "execution_count": 34,
   "id": "7748abd0",
   "metadata": {},
   "outputs": [
    {
     "data": {
      "text/plain": [
       "DataFrame[summary: string, sncode: string, des: string, shdes: string, snind: string, rec_version: string, dwh_etl_history_fk: string, flg_processed: string, flg_error: string, error_desc: string, stg_record_load_date: string]"
      ]
     },
     "execution_count": 34,
     "metadata": {},
     "output_type": "execute_result"
    }
   ],
   "source": [
    "df_source_data.describe()"
   ]
  },
  {
   "cell_type": "markdown",
   "id": "2c00649b",
   "metadata": {},
   "source": [
    "### DDL on lakehouse"
   ]
  },
  {
   "cell_type": "markdown",
   "id": "e8657e62",
   "metadata": {},
   "source": [
    "#### Data base"
   ]
  },
  {
   "cell_type": "code",
   "execution_count": 35,
   "id": "e772c9bc",
   "metadata": {},
   "outputs": [
    {
     "name": "stdout",
     "output_type": "stream",
     "text": [
      "\n",
      "CREATE DATABASE IF NOT EXISTS iceberg.bronze COMMENT '' LOCATION 's3a://prd-lakehouse/iceberg/bronze/'\n",
      "\n"
     ]
    },
    {
     "data": {
      "text/plain": [
       "DataFrame[]"
      ]
     },
     "execution_count": 35,
     "metadata": {},
     "output_type": "execute_result"
    }
   ],
   "source": [
    "##creating db\n",
    "sql_db_create = f\"\"\"\n",
    "CREATE DATABASE IF NOT EXISTS {dest_final_db} COMMENT '' LOCATION 's3a://{environment}-{lakehouse_bucket}/{dest_db_catalog}/{dest_db_schema}/'\n",
    "\"\"\"\n",
    "print(sql_db_create)\n",
    "spark.sql(sql_db_create)"
   ]
  },
  {
   "cell_type": "markdown",
   "id": "def1834a",
   "metadata": {},
   "source": [
    "#### Dest table"
   ]
  },
  {
   "cell_type": "code",
   "execution_count": 36,
   "id": "81dfd591",
   "metadata": {},
   "outputs": [],
   "source": [
    "sql_ddl_drop_table = f\"\"\"\n",
    "    DROP TABLE IF EXISTS {dest_final_table}\n",
    "\"\"\""
   ]
  },
  {
   "cell_type": "code",
   "execution_count": 37,
   "id": "732e1be7-f60b-4798-8f78-6b43937dfe05",
   "metadata": {},
   "outputs": [],
   "source": [
    "sql_ddl_create_table = f\"\"\"\n",
    "        create table if not exists {dest_final_table}\n",
    "        (\n",
    "\t\t\tsncode string,\n",
    "\t\t\tdes string,\n",
    "\t\t\tshdes string,\n",
    "\t\t\tsnind string,\n",
    "\t\t\trec_version string,\n",
    "\t\t\tdwh_etl_history_fk string,\n",
    "\t\t\tflg_processed string,\n",
    "\t\t\tflg_error string,\n",
    "\t\t\terror_desc string,\n",
    "\t\t\tstg_record_load_date string\n",
    "        ) \n",
    "        using iceberg\n",
    "        \"\"\"        "
   ]
  },
  {
   "cell_type": "markdown",
   "id": "ed2ac78d",
   "metadata": {},
   "source": [
    "#### SQL DDL Execution"
   ]
  },
  {
   "cell_type": "code",
   "execution_count": 38,
   "id": "0ea4fbd0",
   "metadata": {},
   "outputs": [
    {
     "data": {
      "text/plain": [
       "DataFrame[]"
      ]
     },
     "execution_count": 38,
     "metadata": {},
     "output_type": "execute_result"
    }
   ],
   "source": [
    "## drop table\n",
    "spark.sql(sql_ddl_drop_table)\n",
    "\n",
    "## create table\n",
    "spark.sql(sql_ddl_create_table)"
   ]
  },
  {
   "cell_type": "markdown",
   "id": "4bb3c147",
   "metadata": {},
   "source": [
    "### Small transformation"
   ]
  },
  {
   "cell_type": "code",
   "execution_count": 39,
   "id": "b84283a6-aa02-4dee-8c09-f4be99877e02",
   "metadata": {},
   "outputs": [],
   "source": [
    "# # some transformations\n",
    "#     df = df.withColumn(\"duration\", df[\"duration\"].cast(\"double\"))\n",
    "#     # df = df.withColumn(\"event_date\", to_date(df[\"record_opening_time\"], \"yyyyMMddHHmmss\"))\n",
    "#     # to_date(df[\"record_opening_time\"], \"yyyyMMddHHmmss\")\n",
    "\n",
    "#     df.withColumn(\"event_date\", from_unixtime(unix_timestamp(\"record_opening_time\", \"yyyyMMddHHmmss\")))\n",
    "\n",
    "#     df.select('event_date').show()"
   ]
  },
  {
   "cell_type": "markdown",
   "id": "1fdfc847",
   "metadata": {},
   "source": [
    "### Write table"
   ]
  },
  {
   "cell_type": "code",
   "execution_count": 40,
   "id": "26862bbf-ce47-4d31-88ac-c1dc2f81a483",
   "metadata": {},
   "outputs": [
    {
     "name": "stderr",
     "output_type": "stream",
     "text": [
      "                                                                                \r"
     ]
    }
   ],
   "source": [
    "# wrintint the data on lakehouse\n",
    "df_source_data.writeTo(f'{dest_final_table}').append()"
   ]
  },
  {
   "cell_type": "code",
   "execution_count": 41,
   "id": "cc13221e-980b-4948-9ea3-c4f928e87de8",
   "metadata": {},
   "outputs": [
    {
     "name": "stdout",
     "output_type": "stream",
     "text": [
      "root\n",
      " |-- sncode: string (nullable = true)\n",
      " |-- des: string (nullable = true)\n",
      " |-- shdes: string (nullable = true)\n",
      " |-- snind: string (nullable = true)\n",
      " |-- rec_version: string (nullable = true)\n",
      " |-- dwh_etl_history_fk: string (nullable = true)\n",
      " |-- flg_processed: string (nullable = true)\n",
      " |-- flg_error: string (nullable = true)\n",
      " |-- error_desc: string (nullable = true)\n",
      " |-- stg_record_load_date: string (nullable = true)\n",
      "\n",
      "None\n",
      "No of Records: 245705\n"
     ]
    }
   ],
   "source": [
    "table = spark.table(f'{dest_final_table}')\n",
    "print(table.printSchema())\n",
    "print(f\"No of Records: {table.count()}\")"
   ]
  }
 ],
 "metadata": {
  "kernelspec": {
   "display_name": "Python 3 (ipykernel)",
   "language": "python",
   "name": "python3"
  },
  "language_info": {
   "codemirror_mode": {
    "name": "ipython",
    "version": 3
   },
   "file_extension": ".py",
   "mimetype": "text/x-python",
   "name": "python",
   "nbconvert_exporter": "python",
   "pygments_lexer": "ipython3",
   "version": "3.8.10"
  }
 },
 "nbformat": 4,
 "nbformat_minor": 5
}
