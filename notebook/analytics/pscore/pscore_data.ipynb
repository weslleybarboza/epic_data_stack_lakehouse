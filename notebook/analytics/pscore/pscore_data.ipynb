{
 "cells": [
  {
   "cell_type": "markdown",
   "id": "971a3450",
   "metadata": {},
   "source": [
    "### Libraries and session"
   ]
  },
  {
   "cell_type": "code",
   "execution_count": 42,
   "id": "8cdacd29-30c7-4986-b0f0-36f46289114e",
   "metadata": {},
   "outputs": [],
   "source": [
    "import pyspark\n",
    "import boto3\n",
    "from pyspark.sql import SparkSession\n",
    "from pyspark.sql.types import StructType, StructField, StringType, TimestampType, IntegerType, DateType, DecimalType\n",
    "from pyspark.sql.functions import year, to_date, month, dayofmonth,  from_unixtime, unix_timestamp"
   ]
  },
  {
   "cell_type": "code",
   "execution_count": 43,
   "id": "02e77c0b",
   "metadata": {},
   "outputs": [],
   "source": [
    "# ip and environments\n",
    "environment = 'prd'\n",
    "\n",
    "# Source\n",
    "system_source = \"pscore\"\n",
    "system_table =\"pscore_sgw\"\n",
    "\n",
    "# Set the bucket and folder paths\n",
    "source_bucket = 'landing-zone'\n",
    "source_folder = f'files/{system_source}/ascll'\n",
    "\n",
    "lakehouse_bucket = 'lakehouse'\n",
    "lakehouse_folder = 'iceberg'\n",
    "\n",
    "# table destination settings\n",
    "dest_db_catalog = 'iceberg'\n",
    "dest_db_schema = 'bronze'\n",
    "dest_db_table = system_table\n",
    "dest_final_db = f'{dest_db_catalog}.{dest_db_schema}'\n",
    "dest_final_table = f'{dest_final_db}.{dest_db_table}'\n",
    "\n",
    "# Spark identification and settings\n",
    "appname = f'BRONZE_{dest_final_db}.{dest_final_table}'\n",
    "log_level = 'WARN' # Valid log levels include: ALL, DEBUG, ERROR, FATAL, INFO, OFF, TRACE, WARN\n",
    "\n",
    "# Set your MinIO credentials\n",
    "s3_endpoint = 'http://minio:9000'\n",
    "s3_access_key = 'minio'\n",
    "s3_secret_key = 'minio123'"
   ]
  },
  {
   "cell_type": "code",
   "execution_count": 44,
   "id": "094ec688-91d3-4648-a78c-1131a892caaf",
   "metadata": {},
   "outputs": [
    {
     "name": "stderr",
     "output_type": "stream",
     "text": [
      "24/03/18 11:01:03 WARN SparkSession: Using an existing Spark session; only runtime SQL configurations will take effect.\n"
     ]
    }
   ],
   "source": [
    "spark = SparkSession.builder\\\n",
    "    .appName(appname)\\\n",
    "    .getOrCreate()"
   ]
  },
  {
   "cell_type": "code",
   "execution_count": 45,
   "id": "d06374f1-31e1-4eff-b369-75c9cd30ea81",
   "metadata": {},
   "outputs": [
    {
     "name": "stdout",
     "output_type": "stream",
     "text": [
      "=================================================\n",
      "[('spark.hadoop.hive.cli.print.header', 'true'), ('spark.hadoop.fs.s3a.connection.ssl.enabled', 'false'), ('spark.hadoop.fs.s3a.path.style.access', 'true'), ('spark.app.submitTime', '1710759026296'), ('spark.sql.catalog.spark_catalog', 'org.apache.iceberg.spark.SparkSessionCatalog'), ('spark.hadoop.fs.s3.endpoint', 'http://minio:9000'), ('spark.hadoop.fs.s3.access.key', 'minio'), ('spark.hadoop.fs.s3.impl', 'org.apache.hadoop.fs.s3a.S3AFileSystem'), ('spark.sql.catalog.iceberg.uri', 'thrift://hive-metastore:9083'), ('spark.sql.catalog.iceberg.s3.endpoint', 'http://minio:9000'), ('spark.sql.catalog.iceberg.s3.path-style-access', 'true'), ('spark.hadoop.fs.s3.path.style.access', 'true'), ('spark.hive.metastore.uris', 'thrift://hive-metastore:9083'), ('spark.master', 'local[*]'), ('spark.submit.deployMode', 'client'), ('spark.hadoop.fs.s3a.access.key', 'minio'), ('spark.sql.catalog.iceberg.io-impl', 'org.apache.iceberg.aws.s3.S3FileIO'), ('spark.app.name', 'BRONZE_iceberg.bronze.iceberg.bronze.bscs_mpusptab'), ('spark.hadoop.fs.s3.secret.key', 'minio123'), ('spark.sql.extensions', 'org.apache.iceberg.spark.extensions.IcebergSparkSessionExtensions'), ('spark.hadoop.fs.s3a.impl', 'org.apache.hadoop.fs.s3a.S3AFileSystem'), ('spark.sql.catalog.iceberg', 'org.apache.iceberg.spark.SparkCatalog'), ('spark.sql.catalogImplementation', 'hive'), ('spark.hadoop.fs.s3.connection.ssl.enabled', 'false'), ('spark.submit.pyFiles', ''), ('spark.sql.catalog.iceberg.warehouse', 's3a://prd-lakehouse/iceberg'), ('spark.hadoop.fs.s3a.endpoint', 'http://minio:9000'), ('spark.hadoop.fs.s3a.secret.key', 'minio123'), ('spark.sql.catalog.iceberg.type', 'hive'), ('spark.ui.showConsoleProgress', 'true'), ('spark.sql.catalog.spark_catalog.type', 'hive')]\n"
     ]
    }
   ],
   "source": [
    "print(\"=================================================\")\n",
    "spark.sparkContext.setLogLevel(log_level)\n",
    "print(pyspark.SparkConf().getAll())"
   ]
  },
  {
   "cell_type": "markdown",
   "id": "cbcf1ffe",
   "metadata": {},
   "source": [
    "### Read from the source"
   ]
  },
  {
   "cell_type": "code",
   "execution_count": 46,
   "id": "6463e5df",
   "metadata": {},
   "outputs": [],
   "source": [
    "s3 = boto3.client('s3', endpoint_url=s3_endpoint, aws_access_key_id=s3_access_key, aws_secret_access_key=s3_secret_key)"
   ]
  },
  {
   "cell_type": "code",
   "execution_count": 47,
   "id": "520e9151",
   "metadata": {},
   "outputs": [],
   "source": [
    "# List all files in the source directory\n",
    "file_list = []\n",
    "paginator = s3.get_paginator('list_objects_v2')\n",
    "\n",
    "for result in paginator.paginate(Bucket=f\"{environment}-{source_bucket}\", Prefix=source_folder):\n",
    "    \n",
    "    if 'Contents' in result:\n",
    "        for item in result['Contents']:\n",
    "            file_list.append(item['Key'])\n"
   ]
  },
  {
   "cell_type": "markdown",
   "id": "519cd0a9",
   "metadata": {},
   "source": [
    "#### Data Contract"
   ]
  },
  {
   "cell_type": "code",
   "execution_count": 58,
   "id": "86b57cf8-fbc5-4f4e-ab70-c317048e2273",
   "metadata": {
    "scrolled": true
   },
   "outputs": [],
   "source": [
    "df_source_schema = StructType([\n",
    "                        StructField(\"record_type\", StringType()),\n",
    "                        StructField(\"network_initiated_pdp_context\", StringType()),\n",
    "                        StructField(\"imsi\", StringType()),\n",
    "                        StructField(\"msisdn\", StringType()),\n",
    "                        StructField(\"imei\", StringType()),\n",
    "                        StructField(\"charging_id\", StringType()),\n",
    "                        StructField(\"ggsn_pgw_address\", StringType()),\n",
    "                        StructField(\"sgsn_sgw_address\", StringType()),\n",
    "                        StructField(\"ms_nw_capability\", StringType()),\n",
    "                        StructField(\"pdp_pdn_type\", StringType()),\n",
    "                        StructField(\"served_pdp_address\", StringType()),\n",
    "                        StructField(\"dynamic_address_flag\", StringType()),\n",
    "                        StructField(\"access_point_name_ni\", StringType()),\n",
    "                        StructField(\"record_sequence_number\", StringType()),\n",
    "                        StructField(\"record_sequence_number_meg\", StringType()),\n",
    "                        StructField(\"node_id\", StringType()),\n",
    "                        StructField(\"local_sequence_number\", StringType()),\n",
    "                        StructField(\"charging_characteristics\", StringType()),\n",
    "                        StructField(\"record_opening_time\", StringType()),\n",
    "                        StructField(\"duration\", StringType()),\n",
    "                        StructField(\"rat_type\", StringType()),\n",
    "                        StructField(\"cause_for_record_closing\", StringType()),\n",
    "                        StructField(\"diagnostic\", StringType()),\n",
    "                        StructField(\"volume_uplink\", StringType()),\n",
    "                        StructField(\"volume_downlink\", StringType()),\n",
    "                        StructField(\"total_volume\", StringType()),\n",
    "                        StructField(\"lac_or_tac\", StringType()),\n",
    "                        StructField(\"ci_or_eci\", StringType()),\n",
    "                        StructField(\"rac\", StringType()),\n",
    "                        StructField(\"rnc_unsent_data_volume\", StringType()),\n",
    "                        StructField(\"req_alloc_ret_priority\", StringType()),\n",
    "                        StructField(\"neg_alloc_ret_priority\", StringType()),\n",
    "                        StructField(\"req_traffic_class\", StringType()),\n",
    "                        StructField(\"neg_traffic_class\", StringType()),\n",
    "                        StructField(\"qci\", StringType()),\n",
    "                        StructField(\"req_max_bitrate_uplink\", StringType()),\n",
    "                        StructField(\"req_max_bitrate_downlink\", StringType()),\n",
    "                        StructField(\"req_guar_bitrate_uplink\", StringType()),\n",
    "                        StructField(\"req_guar_bitrate_downlink\", StringType()),\n",
    "                        StructField(\"neg_max_bitrate_uplink\", StringType()),\n",
    "                        StructField(\"neg_max_bitrate_downlink\", StringType()),\n",
    "                        StructField(\"neg_guar_bitrate_uplink\", StringType()),\n",
    "                        StructField(\"neg_guar_bitrate_downlink\", StringType()),\n",
    "                        StructField(\"mccmnc\", StringType()),\n",
    "                        StructField(\"country_name\", StringType()),\n",
    "                        StructField(\"input_filename\", StringType()),\n",
    "                        StructField(\"output_filename\", StringType()),\n",
    "                        StructField(\"event_date\", TimestampType())                    \n",
    "                ])"
   ]
  },
  {
   "cell_type": "code",
   "execution_count": 59,
   "id": "a4e290a7",
   "metadata": {},
   "outputs": [
    {
     "name": "stdout",
     "output_type": "stream",
     "text": [
      "Number of columns of contract: 48\n"
     ]
    }
   ],
   "source": [
    "num_columns_contract = len(df_source_schema.fields)\n",
    "print(\"Number of columns of contract:\", num_columns_contract)"
   ]
  },
  {
   "cell_type": "code",
   "execution_count": 65,
   "id": "de2b2547",
   "metadata": {},
   "outputs": [],
   "source": [
    "df_source_data = spark.createDataFrame([], schema=df_source_schema)"
   ]
  },
  {
   "cell_type": "code",
   "execution_count": 66,
   "id": "ac649937",
   "metadata": {},
   "outputs": [
    {
     "name": "stdout",
     "output_type": "stream",
     "text": [
      "File in processing: files/pscore/ascll/DATA_TRAFFIC_85994_99022_20240312201006.cdr\n",
      "No of columns matched\n",
      "File in processing: files/pscore/ascll/DATA_TRAFFIC_86084_86352_20240313111006.cdr\n",
      "No of columns matched\n",
      "File in processing: files/pscore/ascll/DATA_TRAFFIC_86085_32451_20240313113000.cdr\n",
      "No of columns matched\n",
      "File in processing: files/pscore/ascll/DATA_TRAFFIC_86086_90254_20240313113005.cdr\n",
      "No of columns matched\n",
      "File in processing: files/pscore/ascll/DATA_TRAFFIC_86087_56086_20240313115000.cdr\n",
      "No of columns matched\n"
     ]
    }
   ],
   "source": [
    "# reading files in the source\n",
    "for file_name in file_list:\n",
    "\n",
    "    print(f'File in processing: {file_name}')\n",
    "    \n",
    "    df = spark.read.format(\"csv\") \\\n",
    "                    .option(\"header\", \"true\") \\\n",
    "                    .option(\"delimiter\", \";\") \\\n",
    "                    .schema(df_source_schema) \\\n",
    "                    .load(f\"s3a://{environment}-{source_bucket}/{file_name}\")\n",
    "    \n",
    "\n",
    "    \n",
    "    if len(df.columns) == num_columns_contract:\n",
    "        print('No of columns matched')\n",
    "        df_source_data = df_source_data.union(df)


### Small transformation
df_send_to_bronze = audit_add_column(df_source_data)"
   ]
  },
  {
   "cell_type": "code",
   "execution_count": 69,
   "id": "7c57cda2",
   "metadata": {},
   "outputs": [],
   "source": [
    "# print(\"No of lines to load: \", len(df_source_data))\n",
    "# len(df_source_data.columns)"
   ]
  },
  {
   "cell_type": "code",
   "execution_count": 70,
   "id": "7748abd0",
   "metadata": {},
   "outputs": [],
   "source": [
    ""
   ]
  },
  {
   "cell_type": "markdown",
   "id": "2c00649b",
   "metadata": {},
   "source": [
    "### DDL on lakehouse"
   ]
  },
  {
   "cell_type": "markdown",
   "id": "e8657e62",
   "metadata": {},
   "source": [
    "#### Data base"
   ]
  },
  {
   "cell_type": "code",
   "execution_count": 71,
   "id": "e772c9bc",
   "metadata": {},
   "outputs": [
    {
     "name": "stdout",
     "output_type": "stream",
     "text": [
      "\n",
      "CREATE DATABASE IF NOT EXISTS iceberg.bronze COMMENT '' LOCATION 's3a://prd-lakehouse/iceberg/bronze/'\n",
      "\n"
     ]
    },
    {
     "data": {
      "text/plain": [
       "DataFrame[]"
      ]
     },
     "execution_count": 71,
     "metadata": {},
     "output_type": "execute_result"
    }
   ],
   "source": [
    "##creating db\n",
    "sql_db_create = f\"\"\"\n",
    "CREATE DATABASE IF NOT EXISTS {dest_final_db} COMMENT '' LOCATION 's3a://{environment}-{lakehouse_bucket}/{dest_db_catalog}/{dest_db_schema}/'\n",
    "\"\"\"\n",
    "print(sql_db_create)\n",
    "spark.sql(sql_db_create)"
   ]
  },
  {
   "cell_type": "markdown",
   "id": "def1834a",
   "metadata": {},
   "source": [
    "#### Dest table"
   ]
  },
  {
   "cell_type": "code",
   "execution_count": 72,
   "id": "81dfd591",
   "metadata": {},
   "outputs": [],
   "source": [
    "sql_ddl_drop_table = f\"\"\"\n",
    "    DROP TABLE IF EXISTS {dest_final_table}\n",
    "\"\"\""
   ]
  },
  {
   "cell_type": "code",
   "execution_count": 73,
   "id": "732e1be7-f60b-4798-8f78-6b43937dfe05",
   "metadata": {},
   "outputs": [],
   "source": [
    "sql_ddl_create_table = f\"\"\"\n",
    "        create table if not exists {dest_final_table}\n",
    "        (\n",
    "            record_type STRING,\n",
    "            network_initiated_pdp_context STRING,\n",
    "            imsi STRING,\n",
    "            msisdn STRING,\n",
    "            imei STRING,\n",
    "            charging_id STRING,\n",
    "            ggsn_pgw_address STRING,\n",
    "            sgsn_sgw_address STRING,\n",
    "            ms_nw_capability STRING,\n",
    "            pdp_pdn_type STRING,\n",
    "            served_pdp_address STRING,\n",
    "            dynamic_address_flag STRING,\n",
    "            access_point_name_ni STRING,\n",
    "            record_sequence_number STRING,\n",
    "            record_sequence_number_meg STRING,\n",
    "            node_id STRING,\n",
    "            local_sequence_number STRING,\n",
    "            charging_characteristics STRING,\n",
    "            record_opening_time STRING,\n",
    "            duration STRING,\n",
    "            rat_type STRING,\n",
    "            cause_for_record_closing STRING,\n",
    "            diagnostic STRING,\n",
    "            volume_uplink STRING,\n",
    "            volume_downlink STRING,\n",
    "            total_volume STRING,\n",
    "            lac_or_tac STRING,\n",
    "            ci_or_eci STRING,\n",
    "            rac STRING,\n",
    "            rnc_unsent_data_volume STRING,\n",
    "            req_alloc_ret_priority STRING,\n",
    "            neg_alloc_ret_priority STRING,\n",
    "            req_traffic_class STRING,\n",
    "            neg_traffic_class STRING,\n",
    "            qci STRING,\n",
    "            req_max_bitrate_uplink STRING,\n",
    "            req_max_bitrate_downlink STRING,\n",
    "            req_guar_bitrate_uplink STRING,\n",
    "            req_guar_bitrate_downlink STRING,\n",
    "            neg_max_bitrate_uplink STRING,\n",
    "            neg_max_bitrate_downlink STRING,\n",
    "            neg_guar_bitrate_uplink STRING,\n",
    "            neg_guar_bitrate_downlink STRING,\n",
    "            mccmnc STRING,\n",
    "            country_name STRING,\n",
    "            input_filename STRING,\n",
    "            output_filename STRING,\n",
    "            event_date Timestamp\n",
    "        ) \n",
    "        using iceberg\n",
    "        \"\"\"        "
   ]
  },
  {
   "cell_type": "markdown",
   "id": "ed2ac78d",
   "metadata": {},
   "source": [
    "#### SQL DDL Execution"
   ]
  },
  {
   "cell_type": "code",
   "execution_count": 74,
   "id": "0ea4fbd0",
   "metadata": {},
   "outputs": [
    {
     "data": {
      "text/plain": [
       "DataFrame[]"
      ]
     },
     "execution_count": 74,
     "metadata": {},
     "output_type": "execute_result"
    }
   ],
   "source": [
    "## drop table\n",
    "spark.sql(sql_ddl_drop_table)\n",
    "\n",
    "## create table\n",
    "spark.sql(sql_ddl_create_table)"
   ]
  },
  {
   "cell_type": "markdown",
   "id": "4bb3c147",
   "metadata": {},
   "source": [
    "### Small transformation"
   ]
  },
  {
   "cell_type": "code",
   "execution_count": 75,
   "id": "b84283a6-aa02-4dee-8c09-f4be99877e02",
   "metadata": {},
   "outputs": [],
   "source": [
    "# # some transformations\n",
    "#     df = df.withColumn(\"duration\", df[\"duration\"].cast(\"double\"))\n",
    "#     # df = df.withColumn(\"event_date\", to_date(df[\"record_opening_time\"], \"yyyyMMddHHmmss\"))\n",
    "#     # to_date(df[\"record_opening_time\"], \"yyyyMMddHHmmss\")\n",
    "\n",
    "#     df.withColumn(\"event_date\", from_unixtime(unix_timestamp(\"record_opening_time\", \"yyyyMMddHHmmss\")))\n",
    "\n",
    "#     df.select('event_date').show()"
   ]
  },
  {
   "cell_type": "markdown",
   "id": "1fdfc847",
   "metadata": {},
   "source": [
    "### Write table"
   ]
  },
  {
   "cell_type": "code",
   "execution_count": 76,
   "id": "26862bbf-ce47-4d31-88ac-c1dc2f81a483",
   "metadata": {},
   "outputs": [
    {
     "name": "stderr",
     "output_type": "stream",
     "text": [
      "24/03/18 11:07:39 WARN CSVHeaderChecker: Number of column in CSV header is not equal to number of fields in the schema:\n",
      " Header length: 53, schema size: 48\n",
      "CSV file: s3a://prd-landing-zone/files/pscore/ascll/DATA_TRAFFIC_85994_99022_20240312201006.cdr\n",
      "24/03/18 11:07:47 WARN CSVHeaderChecker: Number of column in CSV header is not equal to number of fields in the schema:\n",
      " Header length: 53, schema size: 48\n",
      "CSV file: s3a://prd-landing-zone/files/pscore/ascll/DATA_TRAFFIC_86084_86352_20240313111006.cdr\n",
      "24/03/18 11:07:51 WARN CSVHeaderChecker: Number of column in CSV header is not equal to number of fields in the schema:\n",
      " Header length: 53, schema size: 48\n",
      "CSV file: s3a://prd-landing-zone/files/pscore/ascll/DATA_TRAFFIC_86085_32451_20240313113000.cdr\n",
      "24/03/18 11:07:52 WARN CSVHeaderChecker: Number of column in CSV header is not equal to number of fields in the schema:\n",
      " Header length: 53, schema size: 48\n",
      "CSV file: s3a://prd-landing-zone/files/pscore/ascll/DATA_TRAFFIC_86086_90254_20240313113005.cdr\n",
      "24/03/18 11:07:54 WARN CSVHeaderChecker: Number of column in CSV header is not equal to number of fields in the schema:\n",
      " Header length: 53, schema size: 48\n",
      "CSV file: s3a://prd-landing-zone/files/pscore/ascll/DATA_TRAFFIC_86087_56086_20240313115000.cdr\n",
      "                                                                                \r"
     ]
    }
   ],
   "source": [
    "# wrintint the data on lakehouse\n",
    "df_send_to_bronze.writeTo(f'{dest_final_table}').append()"
   ]
  },
  {
   "cell_type": "code",
   "execution_count": 77,
   "id": "cc13221e-980b-4948-9ea3-c4f928e87de8",
   "metadata": {},
   "outputs": [
    {
     "name": "stdout",
     "output_type": "stream",
     "text": [
      "root\n",
      " |-- record_type: string (nullable = true)\n",
      " |-- network_initiated_pdp_context: string (nullable = true)\n",
      " |-- imsi: string (nullable = true)\n",
      " |-- msisdn: string (nullable = true)\n",
      " |-- imei: string (nullable = true)\n",
      " |-- charging_id: string (nullable = true)\n",
      " |-- ggsn_pgw_address: string (nullable = true)\n",
      " |-- sgsn_sgw_address: string (nullable = true)\n",
      " |-- ms_nw_capability: string (nullable = true)\n",
      " |-- pdp_pdn_type: string (nullable = true)\n",
      " |-- served_pdp_address: string (nullable = true)\n",
      " |-- dynamic_address_flag: string (nullable = true)\n",
      " |-- access_point_name_ni: string (nullable = true)\n",
      " |-- record_sequence_number: string (nullable = true)\n",
      " |-- record_sequence_number_meg: string (nullable = true)\n",
      " |-- node_id: string (nullable = true)\n",
      " |-- local_sequence_number: string (nullable = true)\n",
      " |-- charging_characteristics: string (nullable = true)\n",
      " |-- record_opening_time: string (nullable = true)\n",
      " |-- duration: string (nullable = true)\n",
      " |-- rat_type: string (nullable = true)\n",
      " |-- cause_for_record_closing: string (nullable = true)\n",
      " |-- diagnostic: string (nullable = true)\n",
      " |-- volume_uplink: string (nullable = true)\n",
      " |-- volume_downlink: string (nullable = true)\n",
      " |-- total_volume: string (nullable = true)\n",
      " |-- lac_or_tac: string (nullable = true)\n",
      " |-- ci_or_eci: string (nullable = true)\n",
      " |-- rac: string (nullable = true)\n",
      " |-- rnc_unsent_data_volume: string (nullable = true)\n",
      " |-- req_alloc_ret_priority: string (nullable = true)\n",
      " |-- neg_alloc_ret_priority: string (nullable = true)\n",
      " |-- req_traffic_class: string (nullable = true)\n",
      " |-- neg_traffic_class: string (nullable = true)\n",
      " |-- qci: string (nullable = true)\n",
      " |-- req_max_bitrate_uplink: string (nullable = true)\n",
      " |-- req_max_bitrate_downlink: string (nullable = true)\n",
      " |-- req_guar_bitrate_uplink: string (nullable = true)\n",
      " |-- req_guar_bitrate_downlink: string (nullable = true)\n",
      " |-- neg_max_bitrate_uplink: string (nullable = true)\n",
      " |-- neg_max_bitrate_downlink: string (nullable = true)\n",
      " |-- neg_guar_bitrate_uplink: string (nullable = true)\n",
      " |-- neg_guar_bitrate_downlink: string (nullable = true)\n",
      " |-- mccmnc: string (nullable = true)\n",
      " |-- country_name: string (nullable = true)\n",
      " |-- input_filename: string (nullable = true)\n",
      " |-- output_filename: string (nullable = true)\n",
      " |-- event_date: timestamp (nullable = true)\n",
      "\n",
      "None\n",
      "No of Records: 364160\n"
     ]
    }
   ],
   "source": [
    "table = spark.table(f'{dest_final_table}')\n",
    "print(table.printSchema())\n",
    "print(f\"No of Records: {table.count()}\")"
   ]
  }
 ],
 "metadata": {
  "kernelspec": {
   "display_name": "Python 3 (ipykernel)",
   "language": "python",
   "name": "python3"
  },
  "language_info": {
   "codemirror_mode": {
    "name": "ipython",
    "version": 3
   },
   "file_extension": ".py",
   "mimetype": "text/x-python",
   "name": "python",
   "nbconvert_exporter": "python",
   "pygments_lexer": "ipython3",
   "version": "3.8.10"
  }
 },
 "nbformat": 4,
 "nbformat_minor": 5
}
