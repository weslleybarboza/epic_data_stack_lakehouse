{
 "cells": [
  {
   "cell_type": "code",
   "execution_count": null,
   "id": "8cdacd29-30c7-4986-b0f0-36f46289114e",
   "metadata": {},
   "outputs": [],
   "source": [
    "import pyspark\n",
    "from pyspark.sql import SparkSession\n",
    "from pyspark.sql.types import StructType, StructField, StringType\n",
    "from pyspark.sql.functions import year, to_date, month, dayofmonth\n"
   ]
  },
  {
   "cell_type": "code",
   "execution_count": null,
   "id": "34ed6fa2-80cc-4ad4-9503-81903548cd8b",
   "metadata": {},
   "outputs": [],
   "source": [
    "# ip and environments\n",
    "environment = 'dev'\n",
    "\n",
    "# Set the bucket and folder paths\n",
    "source_bucket = 'bronze'\n",
    "source_folder = 'files/pscore/ascll/20231218'\n",
    "\n",
    "lakehouse_bucket = 'bronze'\n",
    "lakehouse_folder = 'datalake/iceberg'\n",
    "\n",
    "# table destination settings\n",
    "dest_db_catalog = 'iceberg'\n",
    "dest_db_schema = 'pscore'\n",
    "dest_db_table = 'sgw'\n",
    "dest_final_db = f'{dest_db_catalog}.{dest_db_schema}'\n",
    "dest_final_table = f'{dest_final_db}.{dest_db_table}'\n",
    "\n",
    "# Spark identification and settings\n",
    "appname = 'SGW_from_raw_to_raw_refined'\n",
    "log_level = 'WARN' # Valid log levels include: ALL, DEBUG, ERROR, FATAL, INFO, OFF, TRACE, WARN\n",
    "    "
   ]
  },
  {
   "cell_type": "code",
   "execution_count": null,
   "id": "094ec688-91d3-4648-a78c-1131a892caaf",
   "metadata": {},
   "outputs": [],
   "source": [
    "spark = SparkSession.builder\\\n",
    "    .appName(appname)\\\n",
    "    .getOrCreate()"
   ]
  },
  {
   "cell_type": "code",
   "execution_count": null,
   "id": "d06374f1-31e1-4eff-b369-75c9cd30ea81",
   "metadata": {},
   "outputs": [],
   "source": [
    "spark.sparkContext.setLogLevel(log_level)\n",
    "print(pyspark.SparkConf().getAll())"
   ]
  },
  {
   "cell_type": "code",
   "execution_count": null,
   "id": "86b57cf8-fbc5-4f4e-ab70-c317048e2273",
   "metadata": {},
   "outputs": [],
   "source": [
    "schema = StructType([\n",
    "                    StructField(\"record_type\", StringType()),\n",
    "                    StructField(\"network_initiated_pdp_context\", StringType()),\n",
    "                    StructField(\"imsi\", StringType()),\n",
    "                    StructField(\"msisdn\", StringType()),\n",
    "                    StructField(\"imei\", StringType()),\n",
    "                    StructField(\"charging_id\", StringType()),\n",
    "                    StructField(\"ggsn_pgw_address\", StringType()),\n",
    "                    StructField(\"sgsn_sgw_address\", StringType()),\n",
    "                    StructField(\"ms_nw_capability\", StringType()),\n",
    "                    StructField(\"pdp_pdn_type\", StringType()),\n",
    "                    StructField(\"served_pdp_address\", StringType()),\n",
    "                    StructField(\"dynamic_address_flag\", StringType()),\n",
    "                    StructField(\"access_point_name_ni\", StringType()),\n",
    "                    StructField(\"record_sequence_number\", StringType()),\n",
    "                    StructField(\"record_sequence_number_meg\", StringType()),\n",
    "                    StructField(\"node_id\", StringType()),\n",
    "                    StructField(\"local_sequence_number\", StringType()),\n",
    "                    StructField(\"charging_characteristics\", StringType()),\n",
    "                    StructField(\"record_opening_time\", StringType()),\n",
    "                    StructField(\"duration\", StringType()),\n",
    "                    StructField(\"rat_type\", StringType()),\n",
    "                    StructField(\"cause_for_record_closing\", StringType()),\n",
    "                    StructField(\"diagnostic\", StringType()),\n",
    "                    StructField(\"volume_uplink\", StringType()),\n",
    "                    StructField(\"volume_downlink\", StringType()),\n",
    "                    StructField(\"total_volume\", StringType()),\n",
    "                    StructField(\"lac_or_tac\", StringType()),\n",
    "                    StructField(\"ci_or_eci\", StringType()),\n",
    "                    StructField(\"rac\", StringType()),\n",
    "                    StructField(\"rnc_unsent_data_volume\", StringType()),\n",
    "                    StructField(\"req_alloc_ret_priority\", StringType()),\n",
    "                    StructField(\"neg_alloc_ret_priority\", StringType()),\n",
    "                    StructField(\"req_traffic_class\", StringType()),\n",
    "                    StructField(\"neg_traffic_class\", StringType()),\n",
    "                    StructField(\"qci\", StringType()),\n",
    "                    StructField(\"req_max_bitrate_uplink\", StringType()),\n",
    "                    StructField(\"req_max_bitrate_downlink\", StringType()),\n",
    "                    StructField(\"req_guar_bitrate_uplink\", StringType()),\n",
    "                    StructField(\"req_guar_bitrate_downlink\", StringType()),\n",
    "                    StructField(\"neg_max_bitrate_uplink\", StringType()),\n",
    "                    StructField(\"neg_max_bitrate_downlink\", StringType()),\n",
    "                    StructField(\"neg_guar_bitrate_uplink\", StringType()),\n",
    "                    StructField(\"neg_guar_bitrate_downlink\", StringType()),\n",
    "                    StructField(\"mccmnc\", StringType()),\n",
    "                    StructField(\"country_name\", StringType()),\n",
    "                    StructField(\"input_filename\", StringType()),\n",
    "                    StructField(\"output_filename\", StringType()),\n",
    "                    StructField(\"year\", StringType()),\n",
    "                    StructField(\"month\", StringType()),\n",
    "                    StructField(\"day\", StringType())\n",
    "                ])"
   ]
  },
  {
   "cell_type": "code",
   "execution_count": null,
   "id": "859bee35-4687-4959-bb35-1dc3ff06b446",
   "metadata": {},
   "outputs": [],
   "source": [
    "spark.sql(f\"\"\"\n",
    "CREATE DATABASE IF NOT EXISTS iceberg.raw COMMENT '' LOCATION 's3a://datalake/iceberg/raw/'\n",
    "\"\"\")"
   ]
  },
  {
   "cell_type": "code",
   "execution_count": null,
   "id": "732e1be7-f60b-4798-8f78-6b43937dfe05",
   "metadata": {},
   "outputs": [],
   "source": [
    "table = spark.sql(f\"\"\"\n",
    "        CREATE TABLE IF NOT EXISTS iceberg.raw.sgw\n",
    "        (\n",
    "            record_type STRING,\n",
    "            network_initiated_pdp_context STRING,\n",
    "            imsi STRING,\n",
    "            msisdn STRING,\n",
    "            imei STRING,\n",
    "            charging_id STRING,\n",
    "            ggsn_pgw_address STRING,\n",
    "            sgsn_sgw_address STRING,\n",
    "            ms_nw_capability STRING,\n",
    "            pdp_pdn_type STRING,\n",
    "            served_pdp_address STRING,\n",
    "            dynamic_address_flag STRING,\n",
    "            access_point_name_ni STRING,\n",
    "            record_sequence_number STRING,\n",
    "            record_sequence_number_meg STRING,\n",
    "            node_id STRING,\n",
    "            local_sequence_number STRING,\n",
    "            charging_characteristics STRING,\n",
    "            record_opening_time STRING,\n",
    "            duration STRING,\n",
    "            rat_type STRING,\n",
    "            cause_for_record_closing STRING,\n",
    "            diagnostic STRING,\n",
    "            volume_uplink STRING,\n",
    "            volume_downlink STRING,\n",
    "            total_volume STRING,\n",
    "            lac_or_tac STRING,\n",
    "            ci_or_eci STRING,\n",
    "            rac STRING,\n",
    "            rnc_unsent_data_volume STRING,\n",
    "            req_alloc_ret_priority STRING,\n",
    "            neg_alloc_ret_priority STRING,\n",
    "            req_traffic_class STRING,\n",
    "            neg_traffic_class STRING,\n",
    "            qci STRING,\n",
    "            req_max_bitrate_uplink STRING,\n",
    "            req_max_bitrate_downlink STRING,\n",
    "            req_guar_bitrate_uplink STRING,\n",
    "            req_guar_bitrate_downlink STRING,\n",
    "            neg_max_bitrate_uplink STRING,\n",
    "            neg_max_bitrate_downlink STRING,\n",
    "            neg_guar_bitrate_uplink STRING,\n",
    "            neg_guar_bitrate_downlink STRING,\n",
    "            mccmnc STRING,\n",
    "            country_name STRING,\n",
    "            input_filename STRING,\n",
    "            output_filename STRING,\n",
    "            year STRING,\n",
    "            month STRING,\n",
    "            day STRING\n",
    "        ) \n",
    "        USING iceberg\n",
    "        PARTITIONED BY (year, month, day)\n",
    "        \"\"\")\n",
    "        "
   ]
  },
  {
   "cell_type": "code",
   "execution_count": null,
   "id": "712b5085-26a9-4e82-83ad-f74c0ab30fe2",
   "metadata": {},
   "outputs": [],
   "source": [
    "# reading files in the source\n",
    "df = spark.read.format(\"csv\") \\\n",
    "                .option(\"header\", \"false\") \\\n",
    "                .option(\"delimiter\", \";\") \\\n",
    "                .schema(schema) \\\n",
    "                .load(f\"s3a://{environment}-{source_bucket}/{source_folder}/*.cdr\")"
   ]
  },
  {
   "cell_type": "code",
   "execution_count": null,
   "id": "c2c54eb5-6e10-4889-ab42-76e2e4a81137",
   "metadata": {},
   "outputs": [],
   "source": [
    "# some transformations\n",
    "df = df.withColumn(\"duration\", df[\"duration\"].cast(\"double\"))\n",
    "df = df.withColumn(\"year\", year(to_date(df[\"record_opening_time\"], \"yyyyMMddHHmmss\")))\n",
    "df = df.withColumn(\"month\", month(to_date(df[\"record_opening_time\"], \"yyyyMMddHHmmss\")))\n",
    "df = df.withColumn(\"day\", dayofmonth(to_date(df[\"record_opening_time\"], \"yyyyMMddHHmmss\")))"
   ]
  },
  {
   "cell_type": "code",
   "execution_count": null,
   "id": "6df132f7-4b91-4b30-b0fa-dddd7a38ce95",
   "metadata": {},
   "outputs": [],
   "source": [
    "# df_repartitioned = df.repartition(20)"
   ]
  },
  {
   "cell_type": "code",
   "execution_count": null,
   "id": "ae801200-601b-40c4-be3b-3b65fb1340da",
   "metadata": {},
   "outputs": [],
   "source": [
    "# wrintint the data on lakehouse\n",
    "df.writeTo('iceberg.raw.sgw').append() "
   ]
  },
  {
   "cell_type": "code",
   "execution_count": null,
   "id": "cc13221e-980b-4948-9ea3-c4f928e87de8",
   "metadata": {},
   "outputs": [],
   "source": [
    "tb = spark.table('iceberg.raw.sgw')\n",
    "print(tb.printSchema())\n",
    "print(f\"No of Records: {tb.count()}\")"
   ]
  },
  {
   "cell_type": "code",
   "execution_count": null,
   "id": "b84283a6-aa02-4dee-8c09-f4be99877e02",
   "metadata": {},
   "outputs": [],
   "source": []
  }
 ],
 "metadata": {
  "kernelspec": {
   "display_name": "Python 3 (ipykernel)",
   "language": "python",
   "name": "python3"
  },
  "language_info": {
   "codemirror_mode": {
    "name": "ipython",
    "version": 3
   },
   "file_extension": ".py",
   "mimetype": "text/x-python",
   "name": "python",
   "nbconvert_exporter": "python",
   "pygments_lexer": "ipython3",
   "version": "3.8.10"
  }
 },
 "nbformat": 4,
 "nbformat_minor": 5
}
