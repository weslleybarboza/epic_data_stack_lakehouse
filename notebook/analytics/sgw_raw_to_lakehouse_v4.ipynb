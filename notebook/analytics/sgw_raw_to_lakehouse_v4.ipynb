{
 "cells": [
  {
   "cell_type": "code",
   "execution_count": 1,
   "id": "fdbe497d-64a6-47c4-a907-400920eab9d1",
   "metadata": {
    "editable": true,
    "slideshow": {
     "slide_type": ""
    },
    "tags": []
   },
   "outputs": [],
   "source": [
    "#partition by datetime"
   ]
  },
  {
   "cell_type": "code",
   "execution_count": 1,
   "id": "8cdacd29-30c7-4986-b0f0-36f46289114e",
   "metadata": {},
   "outputs": [],
   "source": [
    "import pyspark\n",
    "import boto3\n",
    "from pyspark.sql import SparkSession\n",
    "from pyspark.sql.types import StructType, StructField, StringType, TimestampType\n",
    "from pyspark.sql.functions import year, to_date, month, dayofmonth,  from_unixtime, unix_timestamp\n"
   ]
  },
  {
   "cell_type": "code",
   "execution_count": 2,
   "id": "34ed6fa2-80cc-4ad4-9503-81903548cd8b",
   "metadata": {},
   "outputs": [],
   "source": [
    "# ip and environments\n",
    "environment = 'prd'\n",
    "\n",
    "# Set the bucket and folder paths\n",
    "source_bucket = environment + '-landing-zone'\n",
    "source_folder = 'files/pscore/ascll'\n",
    "\n",
    "lakehouse_bucket = environment + '-lakehouse'\n",
    "lakehouse_folder = 'iceberg'\n",
    "\n",
    "# table destination settings\n",
    "dest_db_catalog = 'iceberg'\n",
    "dest_db_schema = 'pscore'\n",
    "dest_db_table = 'sgw_3'\n",
    "dest_final_db = f'{dest_db_catalog}.{dest_db_schema}'\n",
    "dest_final_table = f'{dest_final_db}.{dest_db_table}'\n",
    "\n",
    "# Spark identification and settings\n",
    "appname = 'SGW_from_raw_to_raw_refined'\n",
    "log_level = 'WARN' # Valid log levels include: ALL, DEBUG, ERROR, FATAL, INFO, OFF, TRACE, WARN\n",
    "\n",
    "# Set your MinIO credentials\n",
    "s3_endpoint = 'http://minio:9000'\n",
    "s3_access_key = 'minio'\n",
    "s3_secret_key = 'minio123'"
   ]
  },
  {
   "cell_type": "code",
   "execution_count": 3,
   "id": "094ec688-91d3-4648-a78c-1131a892caaf",
   "metadata": {},
   "outputs": [
    {
     "name": "stderr",
     "output_type": "stream",
     "text": [
      "Setting default log level to \"WARN\".\n",
      "To adjust logging level use sc.setLogLevel(newLevel). For SparkR, use setLogLevel(newLevel).\n",
      "24/03/14 10:33:13 WARN NativeCodeLoader: Unable to load native-hadoop library for your platform... using builtin-java classes where applicable\n"
     ]
    }
   ],
   "source": [
    "spark = SparkSession.builder\\\n",
    "    .appName(appname)\\\n",
    "    .getOrCreate()"
   ]
  },
  {
   "cell_type": "code",
   "execution_count": 4,
   "id": "d06374f1-31e1-4eff-b369-75c9cd30ea81",
   "metadata": {},
   "outputs": [
    {
     "name": "stdout",
     "output_type": "stream",
     "text": [
      "[('spark.hadoop.hive.cli.print.header', 'true'), ('spark.hadoop.fs.s3a.connection.ssl.enabled', 'false'), ('spark.hadoop.fs.s3a.path.style.access', 'true'), ('spark.sql.catalog.spark_catalog', 'org.apache.iceberg.spark.SparkSessionCatalog'), ('spark.hadoop.fs.s3.endpoint', 'http://minio:9000'), ('spark.app.name', 'SGW_from_raw_to_raw_refined'), ('spark.hadoop.fs.s3.access.key', 'minio'), ('spark.hadoop.fs.s3.impl', 'org.apache.hadoop.fs.s3a.S3AFileSystem'), ('spark.sql.catalog.iceberg.uri', 'thrift://hive-metastore:9083'), ('spark.sql.catalog.iceberg.s3.endpoint', 'http://minio:9000'), ('spark.sql.catalog.iceberg.s3.path-style-access', 'true'), ('spark.hadoop.fs.s3.path.style.access', 'true'), ('spark.hive.metastore.uris', 'thrift://hive-metastore:9083'), ('spark.master', 'local[*]'), ('spark.submit.deployMode', 'client'), ('spark.hadoop.fs.s3a.access.key', 'minio'), ('spark.sql.catalog.iceberg.io-impl', 'org.apache.iceberg.aws.s3.S3FileIO'), ('spark.hadoop.fs.s3.secret.key', 'minio123'), ('spark.sql.extensions', 'org.apache.iceberg.spark.extensions.IcebergSparkSessionExtensions'), ('spark.hadoop.fs.s3a.impl', 'org.apache.hadoop.fs.s3a.S3AFileSystem'), ('spark.sql.catalog.iceberg', 'org.apache.iceberg.spark.SparkCatalog'), ('spark.sql.catalogImplementation', 'hive'), ('spark.app.submitTime', '1710412392888'), ('spark.hadoop.fs.s3.connection.ssl.enabled', 'false'), ('spark.submit.pyFiles', ''), ('spark.sql.catalog.iceberg.warehouse', 's3a://prd-lakehouse/iceberg'), ('spark.hadoop.fs.s3a.endpoint', 'http://minio:9000'), ('spark.hadoop.fs.s3a.secret.key', 'minio123'), ('spark.sql.catalog.iceberg.type', 'hive'), ('spark.ui.showConsoleProgress', 'true'), ('spark.sql.catalog.spark_catalog.type', 'hive')]\n"
     ]
    }
   ],
   "source": [
    "spark.sparkContext.setLogLevel(log_level)\n",
    "print(pyspark.SparkConf().getAll())"
   ]
  },
  {
   "cell_type": "code",
   "execution_count": 5,
   "id": "86b57cf8-fbc5-4f4e-ab70-c317048e2273",
   "metadata": {},
   "outputs": [],
   "source": [
    "schema = StructType([\n",
    "                    StructField(\"record_type\", StringType()),\n",
    "                    StructField(\"network_initiated_pdp_context\", StringType()),\n",
    "                    StructField(\"imsi\", StringType()),\n",
    "                    StructField(\"msisdn\", StringType()),\n",
    "                    StructField(\"imei\", StringType()),\n",
    "                    StructField(\"charging_id\", StringType()),\n",
    "                    StructField(\"ggsn_pgw_address\", StringType()),\n",
    "                    StructField(\"sgsn_sgw_address\", StringType()),\n",
    "                    StructField(\"ms_nw_capability\", StringType()),\n",
    "                    StructField(\"pdp_pdn_type\", StringType()),\n",
    "                    StructField(\"served_pdp_address\", StringType()),\n",
    "                    StructField(\"dynamic_address_flag\", StringType()),\n",
    "                    StructField(\"access_point_name_ni\", StringType()),\n",
    "                    StructField(\"record_sequence_number\", StringType()),\n",
    "                    StructField(\"record_sequence_number_meg\", StringType()),\n",
    "                    StructField(\"node_id\", StringType()),\n",
    "                    StructField(\"local_sequence_number\", StringType()),\n",
    "                    StructField(\"charging_characteristics\", StringType()),\n",
    "                    StructField(\"record_opening_time\", StringType()),\n",
    "                    StructField(\"duration\", StringType()),\n",
    "                    StructField(\"rat_type\", StringType()),\n",
    "                    StructField(\"cause_for_record_closing\", StringType()),\n",
    "                    StructField(\"diagnostic\", StringType()),\n",
    "                    StructField(\"volume_uplink\", StringType()),\n",
    "                    StructField(\"volume_downlink\", StringType()),\n",
    "                    StructField(\"total_volume\", StringType()),\n",
    "                    StructField(\"lac_or_tac\", StringType()),\n",
    "                    StructField(\"ci_or_eci\", StringType()),\n",
    "                    StructField(\"rac\", StringType()),\n",
    "                    StructField(\"rnc_unsent_data_volume\", StringType()),\n",
    "                    StructField(\"req_alloc_ret_priority\", StringType()),\n",
    "                    StructField(\"neg_alloc_ret_priority\", StringType()),\n",
    "                    StructField(\"req_traffic_class\", StringType()),\n",
    "                    StructField(\"neg_traffic_class\", StringType()),\n",
    "                    StructField(\"qci\", StringType()),\n",
    "                    StructField(\"req_max_bitrate_uplink\", StringType()),\n",
    "                    StructField(\"req_max_bitrate_downlink\", StringType()),\n",
    "                    StructField(\"req_guar_bitrate_uplink\", StringType()),\n",
    "                    StructField(\"req_guar_bitrate_downlink\", StringType()),\n",
    "                    StructField(\"neg_max_bitrate_uplink\", StringType()),\n",
    "                    StructField(\"neg_max_bitrate_downlink\", StringType()),\n",
    "                    StructField(\"neg_guar_bitrate_uplink\", StringType()),\n",
    "                    StructField(\"neg_guar_bitrate_downlink\", StringType()),\n",
    "                    StructField(\"mccmnc\", StringType()),\n",
    "                    StructField(\"country_name\", StringType()),\n",
    "                    StructField(\"input_filename\", StringType()),\n",
    "                    StructField(\"output_filename\", StringType()),\n",
    "                    StructField(\"event_date\", TimestampType())\n",
    "                ])"
   ]
  },
  {
   "cell_type": "code",
   "execution_count": 6,
   "id": "859bee35-4687-4959-bb35-1dc3ff06b446",
   "metadata": {},
   "outputs": [
    {
     "data": {
      "text/plain": [
       "DataFrame[]"
      ]
     },
     "execution_count": 6,
     "metadata": {},
     "output_type": "execute_result"
    }
   ],
   "source": [
    "spark.sql(f\"\"\"\n",
    "CREATE DATABASE IF NOT EXISTS iceberg.raw COMMENT '' LOCATION 's3a://prd-lakehouse/iceberg/raw/'\n",
    "\"\"\")"
   ]
  },
  {
   "cell_type": "code",
   "execution_count": 8,
   "id": "bf7c3813-8e9b-4853-ab4d-abe6898fe75d",
   "metadata": {},
   "outputs": [
    {
     "name": "stderr",
     "output_type": "stream",
     "text": [
      "SLF4J: Failed to load class \"org.slf4j.impl.StaticLoggerBinder\".\n",
      "SLF4J: Defaulting to no-operation (NOP) logger implementation\n",
      "SLF4J: See http://www.slf4j.org/codes.html#StaticLoggerBinder for further details.\n"
     ]
    },
    {
     "data": {
      "text/plain": [
       "DataFrame[]"
      ]
     },
     "execution_count": 8,
     "metadata": {},
     "output_type": "execute_result"
    }
   ],
   "source": [
    "spark.sql(f\"\"\"\n",
    "DROP TABLE IF EXISTS iceberg.raw.{dest_db_table}\n",
    "\"\"\")"
   ]
  },
  {
   "cell_type": "code",
   "execution_count": 9,
   "id": "732e1be7-f60b-4798-8f78-6b43937dfe05",
   "metadata": {},
   "outputs": [
    {
     "name": "stderr",
     "output_type": "stream",
     "text": [
      "24/03/14 10:36:04 WARN package: Truncated the string representation of a plan since it was too large. This behavior can be adjusted by setting 'spark.sql.debug.maxToStringFields'.\n"
     ]
    }
   ],
   "source": [
    "table = spark.sql(f\"\"\"\n",
    "        CREATE TABLE IF NOT EXISTS iceberg.raw.{dest_db_table}\n",
    "        (\n",
    "            record_type STRING,\n",
    "            network_initiated_pdp_context STRING,\n",
    "            imsi STRING,\n",
    "            msisdn STRING,\n",
    "            imei STRING,\n",
    "            charging_id STRING,\n",
    "            ggsn_pgw_address STRING,\n",
    "            sgsn_sgw_address STRING,\n",
    "            ms_nw_capability STRING,\n",
    "            pdp_pdn_type STRING,\n",
    "            served_pdp_address STRING,\n",
    "            dynamic_address_flag STRING,\n",
    "            access_point_name_ni STRING,\n",
    "            record_sequence_number STRING,\n",
    "            record_sequence_number_meg STRING,\n",
    "            node_id STRING,\n",
    "            local_sequence_number STRING,\n",
    "            charging_characteristics STRING,\n",
    "            record_opening_time STRING,\n",
    "            duration STRING,\n",
    "            rat_type STRING,\n",
    "            cause_for_record_closing STRING,\n",
    "            diagnostic STRING,\n",
    "            volume_uplink STRING,\n",
    "            volume_downlink STRING,\n",
    "            total_volume STRING,\n",
    "            lac_or_tac STRING,\n",
    "            ci_or_eci STRING,\n",
    "            rac STRING,\n",
    "            rnc_unsent_data_volume STRING,\n",
    "            req_alloc_ret_priority STRING,\n",
    "            neg_alloc_ret_priority STRING,\n",
    "            req_traffic_class STRING,\n",
    "            neg_traffic_class STRING,\n",
    "            qci STRING,\n",
    "            req_max_bitrate_uplink STRING,\n",
    "            req_max_bitrate_downlink STRING,\n",
    "            req_guar_bitrate_uplink STRING,\n",
    "            req_guar_bitrate_downlink STRING,\n",
    "            neg_max_bitrate_uplink STRING,\n",
    "            neg_max_bitrate_downlink STRING,\n",
    "            neg_guar_bitrate_uplink STRING,\n",
    "            neg_guar_bitrate_downlink STRING,\n",
    "            mccmnc STRING,\n",
    "            country_name STRING,\n",
    "            input_filename STRING,\n",
    "            output_filename STRING,\n",
    "            event_date Timestamp\n",
    "        ) \n",
    "        USING iceberg\n",
    "        PARTITIONED BY (event_date)\n",
    "        \"\"\")\n",
    "        "
   ]
  },
  {
   "cell_type": "code",
   "execution_count": 10,
   "id": "b37337b5-8e72-4d78-a175-465a3208e0a8",
   "metadata": {},
   "outputs": [],
   "source": [
    "s3 = boto3.client('s3', endpoint_url=s3_endpoint, aws_access_key_id=s3_access_key, aws_secret_access_key=s3_secret_key)"
   ]
  },
  {
   "cell_type": "code",
   "execution_count": 12,
   "id": "b3ec0e47-1537-4c4a-97bd-b7115f4b2b7e",
   "metadata": {},
   "outputs": [],
   "source": [
    "# List all files in the source directory\n",
    "file_list = []\n",
    "paginator = s3.get_paginator('list_objects_v2')\n",
    "\n",
    "for result in paginator.paginate(Bucket=f\"{source_bucket}\", Prefix=source_folder):\n",
    "    \n",
    "    if 'Contents' in result:\n",
    "        for item in result['Contents']:\n",
    "            file_list.append(item['Key'])\n"
   ]
  },
  {
   "cell_type": "code",
   "execution_count": 19,
   "id": "712b5085-26a9-4e82-83ad-f74c0ab30fe2",
   "metadata": {},
   "outputs": [
    {
     "name": "stdout",
     "output_type": "stream",
     "text": [
      "File in processing: files/pscore/ascll/DATA_TRAFFIC_85994_99022_20240312201006.cdr\n",
      "+--------------------+\n",
      "|      input_filename|\n",
      "+--------------------+\n",
      "|qor-mme21_-_41157...|\n",
      "|qor-mme21_-_41157...|\n",
      "|qor-mme21_-_41157...|\n",
      "|qor-mme21_-_41157...|\n",
      "|qor-mme21_-_41157...|\n",
      "|qor-mme21_-_41157...|\n",
      "|qor-mme21_-_41157...|\n",
      "|qor-mme21_-_41157...|\n",
      "|qor-mme21_-_41157...|\n",
      "|qor-mme21_-_41157...|\n",
      "|qor-mme21_-_41157...|\n",
      "|qor-mme21_-_41157...|\n",
      "|qor-mme21_-_41157...|\n",
      "|qor-mme21_-_41157...|\n",
      "|qor-mme21_-_41157...|\n",
      "|qor-mme21_-_41157...|\n",
      "|qor-mme21_-_41157...|\n",
      "|qor-mme21_-_41157...|\n",
      "|qor-mme21_-_41157...|\n",
      "|qor-mme21_-_41157...|\n",
      "+--------------------+\n",
      "only showing top 20 rows\n",
      "\n"
     ]
    },
    {
     "name": "stderr",
     "output_type": "stream",
     "text": [
      "                                                                                \r"
     ]
    },
    {
     "name": "stdout",
     "output_type": "stream",
     "text": [
      "File in processing: files/pscore/ascll/DATA_TRAFFIC_86084_86352_20240313111006.cdr\n",
      "+--------------------+\n",
      "|      input_filename|\n",
      "+--------------------+\n",
      "|bir-mme12_-_3758....|\n",
      "|bir-mme12_-_3758....|\n",
      "|bir-mme12_-_3758....|\n",
      "|bir-mme12_-_3758....|\n",
      "|bir-mme12_-_3758....|\n",
      "|bir-mme12_-_3758....|\n",
      "|bir-mme12_-_3758....|\n",
      "|bir-mme12_-_3758....|\n",
      "|bir-mme12_-_3758....|\n",
      "|bir-mme12_-_3758....|\n",
      "|bir-mme12_-_3758....|\n",
      "|bir-mme12_-_3758....|\n",
      "|bir-mme12_-_3758....|\n",
      "|qor-mme21_-_41216...|\n",
      "|qor-mme21_-_41216...|\n",
      "|qor-mme21_-_41216...|\n",
      "|qor-mme21_-_41216...|\n",
      "|qor-mme21_-_41216...|\n",
      "|qor-mme21_-_41216...|\n",
      "|qor-mme21_-_41216...|\n",
      "+--------------------+\n",
      "only showing top 20 rows\n",
      "\n"
     ]
    },
    {
     "name": "stderr",
     "output_type": "stream",
     "text": [
      "                                                                                \r"
     ]
    },
    {
     "name": "stdout",
     "output_type": "stream",
     "text": [
      "File in processing: files/pscore/ascll/DATA_TRAFFIC_86085_32451_20240313113000.cdr\n",
      "+--------------------+\n",
      "|      input_filename|\n",
      "+--------------------+\n",
      "|qor-mme21_-_41218...|\n",
      "|qor-mme21_-_41218...|\n",
      "|qor-mme21_-_41218...|\n",
      "|qor-mme21_-_41218...|\n",
      "|qor-mme21_-_41218...|\n",
      "|qor-mme21_-_41218...|\n",
      "|qor-mme21_-_41218...|\n",
      "|qor-mme21_-_41218...|\n",
      "|qor-mme21_-_41218...|\n",
      "|qor-mme21_-_41218...|\n",
      "|qor-mme21_-_41218...|\n",
      "|qor-mme21_-_41218...|\n",
      "|qor-mme21_-_41218...|\n",
      "|qor-mme21_-_41218...|\n",
      "|qor-mme21_-_41218...|\n",
      "|qor-mme21_-_41218...|\n",
      "|qor-mme21_-_41218...|\n",
      "|qor-mme21_-_41218...|\n",
      "|qor-mme21_-_41218...|\n",
      "|qor-mme21_-_41218...|\n",
      "+--------------------+\n",
      "only showing top 20 rows\n",
      "\n"
     ]
    },
    {
     "name": "stderr",
     "output_type": "stream",
     "text": [
      "                                                                                \r"
     ]
    },
    {
     "name": "stdout",
     "output_type": "stream",
     "text": [
      "File in processing: files/pscore/ascll/DATA_TRAFFIC_86086_90254_20240313113005.cdr\n",
      "+--------------------+\n",
      "|      input_filename|\n",
      "+--------------------+\n",
      "|qor-mme21_-_41219...|\n",
      "|qor-mme21_-_41219...|\n",
      "|qor-mme21_-_41219...|\n",
      "|qor-mme21_-_41219...|\n",
      "|qor-mme21_-_41219...|\n",
      "|qor-mme21_-_41219...|\n",
      "|qor-mme21_-_41219...|\n",
      "|qor-mme21_-_41219...|\n",
      "|qor-mme21_-_41219...|\n",
      "|qor-mme21_-_41219...|\n",
      "|qor-mme21_-_41219...|\n",
      "|qor-mme21_-_41219...|\n",
      "|qor-mme21_-_41219...|\n",
      "|qor-mme21_-_41219...|\n",
      "|qor-mme21_-_41219...|\n",
      "|qor-mme21_-_41219...|\n",
      "|qor-mme21_-_41219...|\n",
      "|qor-mme21_-_41219...|\n",
      "|qor-mme21_-_41219...|\n",
      "|qor-mme21_-_41219...|\n",
      "+--------------------+\n",
      "only showing top 20 rows\n",
      "\n"
     ]
    },
    {
     "name": "stderr",
     "output_type": "stream",
     "text": [
      "                                                                                \r"
     ]
    },
    {
     "name": "stdout",
     "output_type": "stream",
     "text": [
      "File in processing: files/pscore/ascll/DATA_TRAFFIC_86087_56086_20240313115000.cdr\n",
      "+--------------------+\n",
      "|      input_filename|\n",
      "+--------------------+\n",
      "|bir-mme12_-_3769....|\n",
      "|bir-mme12_-_3769....|\n",
      "|bir-mme12_-_3769....|\n",
      "|bir-mme12_-_3769....|\n",
      "|bir-mme12_-_3769....|\n",
      "|qor-mme22_-_31406...|\n",
      "|qor-mme22_-_31406...|\n",
      "|qor-mme22_-_31406...|\n",
      "|qor-mme22_-_31406...|\n",
      "|qor-mme22_-_31406...|\n",
      "|qor-mme22_-_31406...|\n",
      "|qor-mme22_-_31406...|\n",
      "|qor-mme22_-_31406...|\n",
      "|qor-mme22_-_31406...|\n",
      "|qor-mme22_-_31406...|\n",
      "|qor-mme22_-_31406...|\n",
      "|qor-mme22_-_31406...|\n",
      "|qor-mme22_-_31406...|\n",
      "|qor-mme22_-_31406...|\n",
      "|qor-mme22_-_31406...|\n",
      "+--------------------+\n",
      "only showing top 20 rows\n",
      "\n"
     ]
    },
    {
     "name": "stderr",
     "output_type": "stream",
     "text": [
      "                                                                                \r"
     ]
    }
   ],
   "source": [
    "# reading files in the source\n",
    "for file_name in file_list:\n",
    "\n",
    "    print(f'File in processing: {file_name}')\n",
    "    \n",
    "    df = spark.read.format(\"csv\") \\\n",
    "                    .option(\"header\", \"false\") \\\n",
    "                    .option(\"delimiter\", \";\") \\\n",
    "                    .schema(schema) \\\n",
    "                    .load(f\"s3a://{source_bucket}/{file_name}\")\n",
    "    # some transformations\n",
    "    df = df.withColumn(\"duration\", df[\"duration\"].cast(\"double\"))\n",
    "    # df = df.withColumn(\"event_date\", to_date(df[\"record_opening_time\"], \"yyyyMMddHHmmss\"))\n",
    "    # to_date(df[\"record_opening_time\"], \"yyyyMMddHHmmss\")\n",
    "\n",
    "    df.withColumn(\"event_date\", from_unixtime(unix_timestamp(\"record_opening_time\", \"yyyyMMddHHmmss\")))\n",
    "\n",
    "    df.select('input_filename').show()\n",
    "    # wrintint the data on lakehouse\n",
    "    df.writeTo(f'iceberg.raw.{dest_db_table}').append()     \n"
   ]
  },
  {
   "cell_type": "code",
   "execution_count": null,
   "id": "b84283a6-aa02-4dee-8c09-f4be99877e02",
   "metadata": {},
   "outputs": [],
   "source": []
  },
  {
   "cell_type": "code",
   "execution_count": 18,
   "id": "cc13221e-980b-4948-9ea3-c4f928e87de8",
   "metadata": {},
   "outputs": [
    {
     "name": "stdout",
     "output_type": "stream",
     "text": [
      "root\n",
      " |-- record_type: string (nullable = true)\n",
      " |-- network_initiated_pdp_context: string (nullable = true)\n",
      " |-- imsi: string (nullable = true)\n",
      " |-- msisdn: string (nullable = true)\n",
      " |-- imei: string (nullable = true)\n",
      " |-- charging_id: string (nullable = true)\n",
      " |-- ggsn_pgw_address: string (nullable = true)\n",
      " |-- sgsn_sgw_address: string (nullable = true)\n",
      " |-- ms_nw_capability: string (nullable = true)\n",
      " |-- pdp_pdn_type: string (nullable = true)\n",
      " |-- served_pdp_address: string (nullable = true)\n",
      " |-- dynamic_address_flag: string (nullable = true)\n",
      " |-- access_point_name_ni: string (nullable = true)\n",
      " |-- record_sequence_number: string (nullable = true)\n",
      " |-- record_sequence_number_meg: string (nullable = true)\n",
      " |-- node_id: string (nullable = true)\n",
      " |-- local_sequence_number: string (nullable = true)\n",
      " |-- charging_characteristics: string (nullable = true)\n",
      " |-- record_opening_time: string (nullable = true)\n",
      " |-- duration: string (nullable = true)\n",
      " |-- rat_type: string (nullable = true)\n",
      " |-- cause_for_record_closing: string (nullable = true)\n",
      " |-- diagnostic: string (nullable = true)\n",
      " |-- volume_uplink: string (nullable = true)\n",
      " |-- volume_downlink: string (nullable = true)\n",
      " |-- total_volume: string (nullable = true)\n",
      " |-- lac_or_tac: string (nullable = true)\n",
      " |-- ci_or_eci: string (nullable = true)\n",
      " |-- rac: string (nullable = true)\n",
      " |-- rnc_unsent_data_volume: string (nullable = true)\n",
      " |-- req_alloc_ret_priority: string (nullable = true)\n",
      " |-- neg_alloc_ret_priority: string (nullable = true)\n",
      " |-- req_traffic_class: string (nullable = true)\n",
      " |-- neg_traffic_class: string (nullable = true)\n",
      " |-- qci: string (nullable = true)\n",
      " |-- req_max_bitrate_uplink: string (nullable = true)\n",
      " |-- req_max_bitrate_downlink: string (nullable = true)\n",
      " |-- req_guar_bitrate_uplink: string (nullable = true)\n",
      " |-- req_guar_bitrate_downlink: string (nullable = true)\n",
      " |-- neg_max_bitrate_uplink: string (nullable = true)\n",
      " |-- neg_max_bitrate_downlink: string (nullable = true)\n",
      " |-- neg_guar_bitrate_uplink: string (nullable = true)\n",
      " |-- neg_guar_bitrate_downlink: string (nullable = true)\n",
      " |-- mccmnc: string (nullable = true)\n",
      " |-- country_name: string (nullable = true)\n",
      " |-- input_filename: string (nullable = true)\n",
      " |-- output_filename: string (nullable = true)\n",
      " |-- event_date: timestamp (nullable = true)\n",
      "\n",
      "None\n",
      "No of Records: 0\n"
     ]
    }
   ],
   "source": [
    "tb = spark.table(f'iceberg.raw.{dest_db_table}')\n",
    "print(tb.printSchema())\n",
    "print(f\"No of Records: {tb.count()}\")"
   ]
  },
  {
   "cell_type": "code",
   "execution_count": null,
   "id": "269fee1a-1bd3-4f96-aefa-bce8fd2abeae",
   "metadata": {},
   "outputs": [],
   "source": []
  }
 ],
 "metadata": {
  "kernelspec": {
   "display_name": "Python 3 (ipykernel)",
   "language": "python",
   "name": "python3"
  },
  "language_info": {
   "codemirror_mode": {
    "name": "ipython",
    "version": 3
   },
   "file_extension": ".py",
   "mimetype": "text/x-python",
   "name": "python",
   "nbconvert_exporter": "python",
   "pygments_lexer": "ipython3",
   "version": "3.8.10"
  }
 },
 "nbformat": 4,
 "nbformat_minor": 5
}
