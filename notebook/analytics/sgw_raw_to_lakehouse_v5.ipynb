{
 "cells": [
  {
   "cell_type": "code",
   "execution_count": 1,
   "id": "fdbe497d-64a6-47c4-a907-400920eab9d1",
   "metadata": {},
   "outputs": [],
   "source": [
    "#partition by datetime"
   ]
  },
  {
   "cell_type": "code",
   "execution_count": 2,
   "id": "884cdef2-7921-4cb7-9c74-c5e2a16e33ac",
   "metadata": {},
   "outputs": [
    {
     "name": "stdout",
     "output_type": "stream",
     "text": [
      "\u001b[33mWARNING: Retrying (Retry(total=4, connect=None, read=None, redirect=None, status=None)) after connection broken by 'SSLError(SSLEOFError(8, 'EOF occurred in violation of protocol (_ssl.c:1131)'))': /simple/boto3/\u001b[0m\n",
      "\u001b[33mWARNING: Retrying (Retry(total=3, connect=None, read=None, redirect=None, status=None)) after connection broken by 'SSLError(SSLEOFError(8, 'EOF occurred in violation of protocol (_ssl.c:1131)'))': /simple/boto3/\u001b[0m\n",
      "\u001b[33mWARNING: Retrying (Retry(total=2, connect=None, read=None, redirect=None, status=None)) after connection broken by 'SSLError(SSLEOFError(8, 'EOF occurred in violation of protocol (_ssl.c:1131)'))': /simple/boto3/\u001b[0m\n",
      "\u001b[33mWARNING: Retrying (Retry(total=1, connect=None, read=None, redirect=None, status=None)) after connection broken by 'SSLError(SSLEOFError(8, 'EOF occurred in violation of protocol (_ssl.c:1131)'))': /simple/boto3/\u001b[0m\n",
      "\u001b[33mWARNING: Retrying (Retry(total=0, connect=None, read=None, redirect=None, status=None)) after connection broken by 'SSLError(SSLEOFError(8, 'EOF occurred in violation of protocol (_ssl.c:1131)'))': /simple/boto3/\u001b[0m\n",
      "Could not fetch URL https://pypi.org/simple/boto3/: There was a problem confirming the ssl certificate: HTTPSConnectionPool(host='pypi.org', port=443): Max retries exceeded with url: /simple/boto3/ (Caused by SSLError(SSLEOFError(8, 'EOF occurred in violation of protocol (_ssl.c:1131)'))) - skipping\n",
      "\u001b[31mERROR: Could not find a version that satisfies the requirement boto3 (from versions: none)\u001b[0m\n",
      "\u001b[31mERROR: No matching distribution found for boto3\u001b[0m\n",
      "Note: you may need to restart the kernel to use updated packages.\n"
     ]
    }
   ],
   "source": [
    "pip install boto3"
   ]
  },
  {
   "cell_type": "code",
   "execution_count": 3,
   "id": "efc943ce-0def-4e18-a916-435f729f76fa",
   "metadata": {},
   "outputs": [
    {
     "name": "stdout",
     "output_type": "stream",
     "text": [
      "\u001b[33mWARNING: Retrying (Retry(total=4, connect=None, read=None, redirect=None, status=None)) after connection broken by 'SSLError(SSLEOFError(8, 'EOF occurred in violation of protocol (_ssl.c:1131)'))': /simple/boto3/\u001b[0m\n",
      "\u001b[33mWARNING: Retrying (Retry(total=3, connect=None, read=None, redirect=None, status=None)) after connection broken by 'SSLError(SSLEOFError(8, 'EOF occurred in violation of protocol (_ssl.c:1131)'))': /simple/boto3/\u001b[0m\n",
      "\u001b[33mWARNING: Retrying (Retry(total=2, connect=None, read=None, redirect=None, status=None)) after connection broken by 'SSLError(SSLEOFError(8, 'EOF occurred in violation of protocol (_ssl.c:1131)'))': /simple/boto3/\u001b[0m\n",
      "\u001b[33mWARNING: Retrying (Retry(total=1, connect=None, read=None, redirect=None, status=None)) after connection broken by 'SSLError(SSLEOFError(8, 'EOF occurred in violation of protocol (_ssl.c:1131)'))': /simple/boto3/\u001b[0m\n",
      "\u001b[33mWARNING: Retrying (Retry(total=0, connect=None, read=None, redirect=None, status=None)) after connection broken by 'SSLError(SSLEOFError(8, 'EOF occurred in violation of protocol (_ssl.c:1131)'))': /simple/boto3/\u001b[0m\n",
      "Could not fetch URL https://pypi.org/simple/boto3/: There was a problem confirming the ssl certificate: HTTPSConnectionPool(host='pypi.org', port=443): Max retries exceeded with url: /simple/boto3/ (Caused by SSLError(SSLEOFError(8, 'EOF occurred in violation of protocol (_ssl.c:1131)'))) - skipping\n",
      "\u001b[31mERROR: Could not find a version that satisfies the requirement boto3 (from versions: none)\u001b[0m\n",
      "\u001b[31mERROR: No matching distribution found for boto3\u001b[0m\n",
      "Note: you may need to restart the kernel to use updated packages.\n"
     ]
    }
   ],
   "source": [
    "pip install --trusted-host pypi.python.org boto3"
   ]
  },
  {
   "cell_type": "code",
   "execution_count": 4,
   "id": "34ed6fa2-80cc-4ad4-9503-81903548cd8b",
   "metadata": {},
   "outputs": [],
   "source": [
    "# ip and environments\n",
    "environment = 'dev'\n",
    "\n",
    "# Set the bucket and folder paths\n",
    "source_bucket = 'prd-landing-zone'\n",
    "source_folder = 'prd-landing-zone/files/pscore/ascll'\n",
    "\n",
    "lakehouse_bucket = 'dev-lakehouse'\n",
    "lakehouse_folder = 'bronze'\n",
    "\n",
    "# table destination settings\n",
    "dest_db_catalog = 'iceberg'\n",
    "dest_db_schema = 'pscore'\n",
    "dest_db_table = 'sgw'\n",
    "dest_final_db = f'{dest_db_catalog}.{dest_db_schema}'\n",
    "dest_final_table = f'{dest_final_db}.{dest_db_table}'\n",
    "\n",
    "# Spark identification and settings\n",
    "appname = 'SGW_from_landing_to_bronze'\n",
    "log_level = 'WARN' # Valid log levels include: ALL, DEBUG, ERROR, FATAL, INFO, OFF, TRACE, WARN\n",
    "\n",
    "# Set your MinIO credentials\n",
    "s3_endpoint = 'http://minio:9000'\n",
    "s3_access_key = 'minio'\n",
    "s3_secret_key = 'minio123'"
   ]
  },
  {
   "cell_type": "code",
   "execution_count": 5,
   "id": "8cdacd29-30c7-4986-b0f0-36f46289114e",
   "metadata": {},
   "outputs": [],
   "source": [
    "import pyspark\n",
    "# import boto3\n",
    "from pyspark.sql import SparkSession\n",
    "from pyspark.sql.types import StructType, StructField, StringType, TimestampType\n",
    "from pyspark.sql.functions import year, to_date, month, dayofmonth,  from_unixtime, unix_timestamp\n"
   ]
  },
  {
   "cell_type": "code",
   "execution_count": 6,
   "id": "094ec688-91d3-4648-a78c-1131a892caaf",
   "metadata": {},
   "outputs": [
    {
     "name": "stderr",
     "output_type": "stream",
     "text": [
      "Setting default log level to \"WARN\".\n",
      "To adjust logging level use sc.setLogLevel(newLevel). For SparkR, use setLogLevel(newLevel).\n",
      "24/03/13 15:45:52 WARN NativeCodeLoader: Unable to load native-hadoop library for your platform... using builtin-java classes where applicable\n"
     ]
    }
   ],
   "source": [
    "spark = SparkSession.builder\\\n",
    "    .appName(appname)\\\n",
    "    .getOrCreate()"
   ]
  },
  {
   "cell_type": "code",
   "execution_count": 7,
   "id": "d06374f1-31e1-4eff-b369-75c9cd30ea81",
   "metadata": {},
   "outputs": [
    {
     "name": "stdout",
     "output_type": "stream",
     "text": [
      "[('spark.hadoop.hive.cli.print.header', 'true'), ('spark.hadoop.fs.s3a.connection.ssl.enabled', 'false'), ('spark.hadoop.fs.s3a.path.style.access', 'true'), ('spark.sql.catalog.spark_catalog', 'org.apache.iceberg.spark.SparkSessionCatalog'), ('spark.hadoop.fs.s3.endpoint', 'http://minio:9000'), ('spark.app.name', 'SGW_from_landing_to_bronze'), ('spark.hadoop.fs.s3.access.key', 'minio'), ('spark.hadoop.fs.s3.impl', 'org.apache.hadoop.fs.s3a.S3AFileSystem'), ('spark.sql.catalog.iceberg.uri', 'thrift://hive-metastore:9083'), ('spark.sql.catalog.iceberg.s3.endpoint', 'http://minio:9000'), ('spark.sql.catalog.iceberg.s3.path-style-access', 'true'), ('spark.hadoop.fs.s3.path.style.access', 'true'), ('spark.hive.metastore.uris', 'thrift://hive-metastore:9083'), ('spark.master', 'local[*]'), ('spark.sql.catalog.iceberg.warehouse', 's3a://datalake/iceberg'), ('spark.submit.deployMode', 'client'), ('spark.hadoop.fs.s3a.access.key', 'minio'), ('spark.sql.catalog.iceberg.io-impl', 'org.apache.iceberg.aws.s3.S3FileIO'), ('spark.hadoop.fs.s3.secret.key', 'minio123'), ('spark.sql.extensions', 'org.apache.iceberg.spark.extensions.IcebergSparkSessionExtensions'), ('spark.hadoop.fs.s3a.impl', 'org.apache.hadoop.fs.s3a.S3AFileSystem'), ('spark.sql.catalog.iceberg', 'org.apache.iceberg.spark.SparkCatalog'), ('spark.sql.catalogImplementation', 'hive'), ('spark.hadoop.fs.s3.connection.ssl.enabled', 'false'), ('spark.submit.pyFiles', ''), ('spark.hadoop.fs.s3a.endpoint', 'http://minio:9000'), ('spark.app.submitTime', '1710344752578'), ('spark.hadoop.fs.s3a.secret.key', 'minio123'), ('spark.sql.catalog.iceberg.type', 'hive'), ('spark.ui.showConsoleProgress', 'true'), ('spark.sql.catalog.spark_catalog.type', 'hive')]\n"
     ]
    }
   ],
   "source": [
    "spark.sparkContext.setLogLevel(log_level)\n",
    "print(pyspark.SparkConf().getAll())"
   ]
  },
  {
   "cell_type": "code",
   "execution_count": 8,
   "id": "86b57cf8-fbc5-4f4e-ab70-c317048e2273",
   "metadata": {},
   "outputs": [],
   "source": [
    "schema = StructType([\n",
    "                    StructField(\"record_type\", StringType()),\n",
    "                    StructField(\"network_initiated_pdp_context\", StringType()),\n",
    "                    StructField(\"imsi\", StringType()),\n",
    "                    StructField(\"msisdn\", StringType()),\n",
    "                    StructField(\"imei\", StringType()),\n",
    "                    StructField(\"charging_id\", StringType()),\n",
    "                    StructField(\"ggsn_pgw_address\", StringType()),\n",
    "                    StructField(\"sgsn_sgw_address\", StringType()),\n",
    "                    StructField(\"ms_nw_capability\", StringType()),\n",
    "                    StructField(\"pdp_pdn_type\", StringType()),\n",
    "                    StructField(\"served_pdp_address\", StringType()),\n",
    "                    StructField(\"dynamic_address_flag\", StringType()),\n",
    "                    StructField(\"access_point_name_ni\", StringType()),\n",
    "                    StructField(\"record_sequence_number\", StringType()),\n",
    "                    StructField(\"record_sequence_number_meg\", StringType()),\n",
    "                    StructField(\"node_id\", StringType()),\n",
    "                    StructField(\"local_sequence_number\", StringType()),\n",
    "                    StructField(\"charging_characteristics\", StringType()),\n",
    "                    StructField(\"record_opening_time\", StringType()),\n",
    "                    StructField(\"duration\", StringType()),\n",
    "                    StructField(\"rat_type\", StringType()),\n",
    "                    StructField(\"cause_for_record_closing\", StringType()),\n",
    "                    StructField(\"diagnostic\", StringType()),\n",
    "                    StructField(\"volume_uplink\", StringType()),\n",
    "                    StructField(\"volume_downlink\", StringType()),\n",
    "                    StructField(\"total_volume\", StringType()),\n",
    "                    StructField(\"lac_or_tac\", StringType()),\n",
    "                    StructField(\"ci_or_eci\", StringType()),\n",
    "                    StructField(\"rac\", StringType()),\n",
    "                    StructField(\"rnc_unsent_data_volume\", StringType()),\n",
    "                    StructField(\"req_alloc_ret_priority\", StringType()),\n",
    "                    StructField(\"neg_alloc_ret_priority\", StringType()),\n",
    "                    StructField(\"req_traffic_class\", StringType()),\n",
    "                    StructField(\"neg_traffic_class\", StringType()),\n",
    "                    StructField(\"qci\", StringType()),\n",
    "                    StructField(\"req_max_bitrate_uplink\", StringType()),\n",
    "                    StructField(\"req_max_bitrate_downlink\", StringType()),\n",
    "                    StructField(\"req_guar_bitrate_uplink\", StringType()),\n",
    "                    StructField(\"req_guar_bitrate_downlink\", StringType()),\n",
    "                    StructField(\"neg_max_bitrate_uplink\", StringType()),\n",
    "                    StructField(\"neg_max_bitrate_downlink\", StringType()),\n",
    "                    StructField(\"neg_guar_bitrate_uplink\", StringType()),\n",
    "                    StructField(\"neg_guar_bitrate_downlink\", StringType()),\n",
    "                    StructField(\"mccmnc\", StringType()),\n",
    "                    StructField(\"country_name\", StringType()),\n",
    "                    StructField(\"input_filename\", StringType()),\n",
    "                    StructField(\"output_filename\", StringType()),\n",
    "                    StructField(\"event_date\", TimestampType())\n",
    "                ])"
   ]
  },
  {
   "cell_type": "code",
   "execution_count": 9,
   "id": "859bee35-4687-4959-bb35-1dc3ff06b446",
   "metadata": {},
   "outputs": [
    {
     "data": {
      "text/plain": [
       "DataFrame[]"
      ]
     },
     "execution_count": 9,
     "metadata": {},
     "output_type": "execute_result"
    }
   ],
   "source": [
    "spark.sql(f\"\"\"\n",
    "CREATE DATABASE IF NOT EXISTS iceberg.raw COMMENT '' LOCATION 's3a://datalake/iceberg/raw/'\n",
    "\"\"\")"
   ]
  },
  {
   "cell_type": "code",
   "execution_count": 10,
   "id": "bf7c3813-8e9b-4853-ab4d-abe6898fe75d",
   "metadata": {},
   "outputs": [],
   "source": [
    "# spark.sql(f\"\"\"\n",
    "# DROP TABLE  iceberg.raw.sgw_s\n",
    "# \"\"\")"
   ]
  },
  {
   "cell_type": "code",
   "execution_count": 11,
   "id": "732e1be7-f60b-4798-8f78-6b43937dfe05",
   "metadata": {},
   "outputs": [
    {
     "name": "stderr",
     "output_type": "stream",
     "text": [
      "24/03/13 15:45:59 WARN package: Truncated the string representation of a plan since it was too large. This behavior can be adjusted by setting 'spark.sql.debug.maxToStringFields'.\n",
      "SLF4J: Failed to load class \"org.slf4j.impl.StaticLoggerBinder\".\n",
      "SLF4J: Defaulting to no-operation (NOP) logger implementation\n",
      "SLF4J: See http://www.slf4j.org/codes.html#StaticLoggerBinder for further details.\n"
     ]
    }
   ],
   "source": [
    "table = spark.sql(f\"\"\"\n",
    "        CREATE TABLE IF NOT EXISTS iceberg.raw.{dest_db_table}\n",
    "        (\n",
    "            record_type STRING,\n",
    "            network_initiated_pdp_context STRING,\n",
    "            imsi STRING,\n",
    "            msisdn STRING,\n",
    "            imei STRING,\n",
    "            charging_id STRING,\n",
    "            ggsn_pgw_address STRING,\n",
    "            sgsn_sgw_address STRING,\n",
    "            ms_nw_capability STRING,\n",
    "            pdp_pdn_type STRING,\n",
    "            served_pdp_address STRING,\n",
    "            dynamic_address_flag STRING,\n",
    "            access_point_name_ni STRING,\n",
    "            record_sequence_number STRING,\n",
    "            record_sequence_number_meg STRING,\n",
    "            node_id STRING,\n",
    "            local_sequence_number STRING,\n",
    "            charging_characteristics STRING,\n",
    "            record_opening_time STRING,\n",
    "            duration STRING,\n",
    "            rat_type STRING,\n",
    "            cause_for_record_closing STRING,\n",
    "            diagnostic STRING,\n",
    "            volume_uplink STRING,\n",
    "            volume_downlink STRING,\n",
    "            total_volume STRING,\n",
    "            lac_or_tac STRING,\n",
    "            ci_or_eci STRING,\n",
    "            rac STRING,\n",
    "            rnc_unsent_data_volume STRING,\n",
    "            req_alloc_ret_priority STRING,\n",
    "            neg_alloc_ret_priority STRING,\n",
    "            req_traffic_class STRING,\n",
    "            neg_traffic_class STRING,\n",
    "            qci STRING,\n",
    "            req_max_bitrate_uplink STRING,\n",
    "            req_max_bitrate_downlink STRING,\n",
    "            req_guar_bitrate_uplink STRING,\n",
    "            req_guar_bitrate_downlink STRING,\n",
    "            neg_max_bitrate_uplink STRING,\n",
    "            neg_max_bitrate_downlink STRING,\n",
    "            neg_guar_bitrate_uplink STRING,\n",
    "            neg_guar_bitrate_downlink STRING,\n",
    "            mccmnc STRING,\n",
    "            country_name STRING,\n",
    "            input_filename STRING,\n",
    "            output_filename STRING,\n",
    "            event_date Timestamp\n",
    "        ) \n",
    "        USING iceberg\n",
    "        PARTITIONED BY (event_date)\n",
    "        \"\"\")\n",
    "        "
   ]
  },
  {
   "cell_type": "code",
   "execution_count": 12,
   "id": "b37337b5-8e72-4d78-a175-465a3208e0a8",
   "metadata": {},
   "outputs": [
    {
     "ename": "NameError",
     "evalue": "name 'boto3' is not defined",
     "output_type": "error",
     "traceback": [
      "\u001b[0;31m---------------------------------------------------------------------------\u001b[0m",
      "\u001b[0;31mNameError\u001b[0m                                 Traceback (most recent call last)",
      "Cell \u001b[0;32mIn[12], line 1\u001b[0m\n\u001b[0;32m----> 1\u001b[0m s3 \u001b[38;5;241m=\u001b[39m \u001b[43mboto3\u001b[49m\u001b[38;5;241m.\u001b[39mclient(\u001b[38;5;124m'\u001b[39m\u001b[38;5;124ms3\u001b[39m\u001b[38;5;124m'\u001b[39m, endpoint_url\u001b[38;5;241m=\u001b[39ms3_endpoint, aws_access_key_id\u001b[38;5;241m=\u001b[39ms3_access_key, aws_secret_access_key\u001b[38;5;241m=\u001b[39ms3_secret_key)\n",
      "\u001b[0;31mNameError\u001b[0m: name 'boto3' is not defined"
     ]
    }
   ],
   "source": [
    "s3 = boto3.client('s3', endpoint_url=s3_endpoint, aws_access_key_id=s3_access_key, aws_secret_access_key=s3_secret_key)"
   ]
  },
  {
   "cell_type": "code",
   "execution_count": null,
   "id": "b3ec0e47-1537-4c4a-97bd-b7115f4b2b7e",
   "metadata": {},
   "outputs": [],
   "source": [
    "# List all files in the source directory\n",
    "file_list = []\n",
    "paginator = s3.get_paginator('list_objects_v2')\n",
    "\n",
    "for result in paginator.paginate(Bucket=f\"{environment}-{source_bucket}\", Prefix=source_folder):\n",
    "    \n",
    "    if 'Contents' in result:\n",
    "        for item in result['Contents']:\n",
    "            file_list.append(item['Key'])\n"
   ]
  },
  {
   "cell_type": "code",
   "execution_count": null,
   "id": "712b5085-26a9-4e82-83ad-f74c0ab30fe2",
   "metadata": {},
   "outputs": [],
   "source": [
    "# reading files in the source\n",
    "for file_name in file_list:\n",
    "\n",
    "    print(f'File in processing: {file_name}')\n",
    "    \n",
    "    df = spark.read.format(\"csv\") \\\n",
    "                    .option(\"header\", \"false\") \\\n",
    "                    .option(\"delimiter\", \";\") \\\n",
    "                    .schema(schema) \\\n",
    "                    .load(f\"s3a://{environment}-{source_bucket}/{file_name}\")\n",
    "    # some transformations\n",
    "    df = df.withColumn(\"duration\", df[\"duration\"].cast(\"double\"))\n",
    "    # df = df.withColumn(\"event_date\", to_date(df[\"record_opening_time\"], \"yyyyMMddHHmmss\"))\n",
    "    # to_date(df[\"record_opening_time\"], \"yyyyMMddHHmmss\")\n",
    "\n",
    "    df.withColumn(\"event_date\", from_unixtime(unix_timestamp(\"record_opening_time\", \"yyyyMMddHHmmss\")))\n",
    "\n",
    "    df.select('event_date').show()\n",
    "    # wrintint the data on lakehouse\n",
    "    # df.writeTo(f'iceberg.raw.{dest_db_table}').append()     \n"
   ]
  },
  {
   "cell_type": "code",
   "execution_count": null,
   "id": "b84283a6-aa02-4dee-8c09-f4be99877e02",
   "metadata": {},
   "outputs": [],
   "source": []
  },
  {
   "cell_type": "code",
   "execution_count": null,
   "id": "cc13221e-980b-4948-9ea3-c4f928e87de8",
   "metadata": {},
   "outputs": [],
   "source": [
    "tb = spark.table(f'iceberg.raw.{dest_db_table}')\n",
    "print(tb.printSchema())\n",
    "print(f\"No of Records: {tb.count()}\")"
   ]
  },
  {
   "cell_type": "code",
   "execution_count": null,
   "id": "269fee1a-1bd3-4f96-aefa-bce8fd2abeae",
   "metadata": {},
   "outputs": [],
   "source": []
  }
 ],
 "metadata": {
  "kernelspec": {
   "display_name": "Python 3 (ipykernel)",
   "language": "python",
   "name": "python3"
  },
  "language_info": {
   "codemirror_mode": {
    "name": "ipython",
    "version": 3
   },
   "file_extension": ".py",
   "mimetype": "text/x-python",
   "name": "python",
   "nbconvert_exporter": "python",
   "pygments_lexer": "ipython3",
   "version": "3.8.10"
  }
 },
 "nbformat": 4,
 "nbformat_minor": 5
}
