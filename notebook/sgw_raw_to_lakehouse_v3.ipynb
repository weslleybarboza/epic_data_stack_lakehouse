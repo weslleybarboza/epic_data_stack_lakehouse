{
 "cells": [
  {
   "cell_type": "code",
   "execution_count": 1,
   "id": "e3968a29-c7b8-4f3c-9f22-29cc0a2d8cae",
   "metadata": {},
   "outputs": [],
   "source": [
    "# paritition by date"
   ]
  },
  {
   "cell_type": "code",
   "execution_count": 2,
   "id": "769fca5f-ba52-4d4a-ae6d-98df3b87e7f4",
   "metadata": {},
   "outputs": [
    {
     "name": "stdout",
     "output_type": "stream",
     "text": [
      "Requirement already satisfied: boto3 in /usr/local/lib/python3.8/dist-packages (1.34.11)\n",
      "Requirement already satisfied: s3transfer<0.11.0,>=0.10.0 in /usr/local/lib/python3.8/dist-packages (from boto3) (0.10.0)\n",
      "Requirement already satisfied: jmespath<2.0.0,>=0.7.1 in /usr/local/lib/python3.8/dist-packages (from boto3) (1.0.1)\n",
      "Requirement already satisfied: botocore<1.35.0,>=1.34.11 in /usr/local/lib/python3.8/dist-packages (from boto3) (1.34.11)\n",
      "Requirement already satisfied: urllib3<1.27,>=1.25.4; python_version < \"3.10\" in /usr/local/lib/python3.8/dist-packages (from botocore<1.35.0,>=1.34.11->boto3) (1.26.18)\n",
      "Requirement already satisfied: python-dateutil<3.0.0,>=2.1 in /usr/local/lib/python3.8/dist-packages (from botocore<1.35.0,>=1.34.11->boto3) (2.8.2)\n",
      "Requirement already satisfied: six>=1.5 in /usr/local/lib/python3.8/dist-packages (from python-dateutil<3.0.0,>=2.1->botocore<1.35.0,>=1.34.11->boto3) (1.16.0)\n",
      "Note: you may need to restart the kernel to use updated packages.\n"
     ]
    }
   ],
   "source": [
    "pip install boto3"
   ]
  },
  {
   "cell_type": "code",
   "execution_count": 3,
   "id": "8cdacd29-30c7-4986-b0f0-36f46289114e",
   "metadata": {},
   "outputs": [],
   "source": [
    "import pyspark\n",
    "import boto3\n",
    "from pyspark.sql import SparkSession\n",
    "from pyspark.sql.types import StructType, StructField, StringType, DateType\n",
    "from pyspark.sql.functions import year, to_date, month, dayofmonth\n"
   ]
  },
  {
   "cell_type": "code",
   "execution_count": 4,
   "id": "34ed6fa2-80cc-4ad4-9503-81903548cd8b",
   "metadata": {},
   "outputs": [],
   "source": [
    "# ip and environments\n",
    "environment = 'dev'\n",
    "\n",
    "# Set the bucket and folder paths\n",
    "source_bucket = 'bronze'\n",
    "source_folder = 'files/pscore/ascll/20231218'\n",
    "\n",
    "lakehouse_bucket = 'bronze'\n",
    "lakehouse_folder = 'datalake/iceberg'\n",
    "\n",
    "# table destination settings\n",
    "dest_db_catalog = 'iceberg'\n",
    "dest_db_schema = 'pscore'\n",
    "dest_db_table = 'sgw_2'\n",
    "dest_final_db = f'{dest_db_catalog}.{dest_db_schema}'\n",
    "dest_final_table = f'{dest_final_db}.{dest_db_table}'\n",
    "\n",
    "# Spark identification and settings\n",
    "appname = 'SGW_from_raw_to_raw_refined'\n",
    "log_level = 'WARN' # Valid log levels include: ALL, DEBUG, ERROR, FATAL, INFO, OFF, TRACE, WARN\n",
    "\n",
    "# Set your MinIO credentials\n",
    "s3_endpoint = 'http://minio:9000'\n",
    "s3_access_key = 'minio'\n",
    "s3_secret_key = 'minio123'"
   ]
  },
  {
   "cell_type": "code",
   "execution_count": 5,
   "id": "094ec688-91d3-4648-a78c-1131a892caaf",
   "metadata": {},
   "outputs": [
    {
     "name": "stderr",
     "output_type": "stream",
     "text": [
      "Setting default log level to \"WARN\".\n",
      "To adjust logging level use sc.setLogLevel(newLevel). For SparkR, use setLogLevel(newLevel).\n",
      "24/01/01 17:18:17 WARN NativeCodeLoader: Unable to load native-hadoop library for your platform... using builtin-java classes where applicable\n"
     ]
    }
   ],
   "source": [
    "spark = SparkSession.builder\\\n",
    "    .appName(appname)\\\n",
    "    .getOrCreate()"
   ]
  },
  {
   "cell_type": "code",
   "execution_count": 6,
   "id": "d06374f1-31e1-4eff-b369-75c9cd30ea81",
   "metadata": {},
   "outputs": [
    {
     "name": "stdout",
     "output_type": "stream",
     "text": [
      "[('spark.hadoop.hive.cli.print.header', 'true'), ('spark.hadoop.fs.s3a.connection.ssl.enabled', 'false'), ('spark.app.submitTime', '1704129497231'), ('spark.hadoop.fs.s3a.path.style.access', 'true'), ('spark.sql.catalog.spark_catalog', 'org.apache.iceberg.spark.SparkSessionCatalog'), ('spark.hadoop.fs.s3.endpoint', 'http://minio:9000'), ('spark.app.name', 'SGW_from_raw_to_raw_refined'), ('spark.hadoop.fs.s3.access.key', 'minio'), ('spark.hadoop.fs.s3.impl', 'org.apache.hadoop.fs.s3a.S3AFileSystem'), ('spark.sql.catalog.iceberg.uri', 'thrift://hive-metastore:9083'), ('spark.sql.catalog.iceberg.s3.endpoint', 'http://minio:9000'), ('spark.sql.catalog.iceberg.s3.path-style-access', 'true'), ('spark.hadoop.fs.s3.path.style.access', 'true'), ('spark.hive.metastore.uris', 'thrift://hive-metastore:9083'), ('spark.master', 'local[*]'), ('spark.sql.catalog.iceberg.warehouse', 's3a://datalake/iceberg'), ('spark.submit.deployMode', 'client'), ('spark.hadoop.fs.s3a.access.key', 'minio'), ('spark.sql.catalog.iceberg.io-impl', 'org.apache.iceberg.aws.s3.S3FileIO'), ('spark.hadoop.fs.s3.secret.key', 'minio123'), ('spark.sql.extensions', 'org.apache.iceberg.spark.extensions.IcebergSparkSessionExtensions'), ('spark.hadoop.fs.s3a.impl', 'org.apache.hadoop.fs.s3a.S3AFileSystem'), ('spark.sql.catalog.iceberg', 'org.apache.iceberg.spark.SparkCatalog'), ('spark.sql.catalogImplementation', 'hive'), ('spark.hadoop.fs.s3.connection.ssl.enabled', 'false'), ('spark.submit.pyFiles', ''), ('spark.hadoop.fs.s3a.endpoint', 'http://minio:9000'), ('spark.hadoop.fs.s3a.secret.key', 'minio123'), ('spark.sql.catalog.iceberg.type', 'hive'), ('spark.ui.showConsoleProgress', 'true'), ('spark.sql.catalog.spark_catalog.type', 'hive')]\n"
     ]
    }
   ],
   "source": [
    "spark.sparkContext.setLogLevel(log_level)\n",
    "print(pyspark.SparkConf().getAll())"
   ]
  },
  {
   "cell_type": "code",
   "execution_count": 7,
   "id": "86b57cf8-fbc5-4f4e-ab70-c317048e2273",
   "metadata": {},
   "outputs": [],
   "source": [
    "schema = StructType([\n",
    "                    StructField(\"record_type\", StringType()),\n",
    "                    StructField(\"network_initiated_pdp_context\", StringType()),\n",
    "                    StructField(\"imsi\", StringType()),\n",
    "                    StructField(\"msisdn\", StringType()),\n",
    "                    StructField(\"imei\", StringType()),\n",
    "                    StructField(\"charging_id\", StringType()),\n",
    "                    StructField(\"ggsn_pgw_address\", StringType()),\n",
    "                    StructField(\"sgsn_sgw_address\", StringType()),\n",
    "                    StructField(\"ms_nw_capability\", StringType()),\n",
    "                    StructField(\"pdp_pdn_type\", StringType()),\n",
    "                    StructField(\"served_pdp_address\", StringType()),\n",
    "                    StructField(\"dynamic_address_flag\", StringType()),\n",
    "                    StructField(\"access_point_name_ni\", StringType()),\n",
    "                    StructField(\"record_sequence_number\", StringType()),\n",
    "                    StructField(\"record_sequence_number_meg\", StringType()),\n",
    "                    StructField(\"node_id\", StringType()),\n",
    "                    StructField(\"local_sequence_number\", StringType()),\n",
    "                    StructField(\"charging_characteristics\", StringType()),\n",
    "                    StructField(\"record_opening_time\", StringType()),\n",
    "                    StructField(\"duration\", StringType()),\n",
    "                    StructField(\"rat_type\", StringType()),\n",
    "                    StructField(\"cause_for_record_closing\", StringType()),\n",
    "                    StructField(\"diagnostic\", StringType()),\n",
    "                    StructField(\"volume_uplink\", StringType()),\n",
    "                    StructField(\"volume_downlink\", StringType()),\n",
    "                    StructField(\"total_volume\", StringType()),\n",
    "                    StructField(\"lac_or_tac\", StringType()),\n",
    "                    StructField(\"ci_or_eci\", StringType()),\n",
    "                    StructField(\"rac\", StringType()),\n",
    "                    StructField(\"rnc_unsent_data_volume\", StringType()),\n",
    "                    StructField(\"req_alloc_ret_priority\", StringType()),\n",
    "                    StructField(\"neg_alloc_ret_priority\", StringType()),\n",
    "                    StructField(\"req_traffic_class\", StringType()),\n",
    "                    StructField(\"neg_traffic_class\", StringType()),\n",
    "                    StructField(\"qci\", StringType()),\n",
    "                    StructField(\"req_max_bitrate_uplink\", StringType()),\n",
    "                    StructField(\"req_max_bitrate_downlink\", StringType()),\n",
    "                    StructField(\"req_guar_bitrate_uplink\", StringType()),\n",
    "                    StructField(\"req_guar_bitrate_downlink\", StringType()),\n",
    "                    StructField(\"neg_max_bitrate_uplink\", StringType()),\n",
    "                    StructField(\"neg_max_bitrate_downlink\", StringType()),\n",
    "                    StructField(\"neg_guar_bitrate_uplink\", StringType()),\n",
    "                    StructField(\"neg_guar_bitrate_downlink\", StringType()),\n",
    "                    StructField(\"mccmnc\", StringType()),\n",
    "                    StructField(\"country_name\", StringType()),\n",
    "                    StructField(\"input_filename\", StringType()),\n",
    "                    StructField(\"output_filename\", StringType()),\n",
    "                    StructField(\"event_date\", DateType())\n",
    "                ])"
   ]
  },
  {
   "cell_type": "code",
   "execution_count": 8,
   "id": "859bee35-4687-4959-bb35-1dc3ff06b446",
   "metadata": {},
   "outputs": [],
   "source": [
    "# spark.sql(f\"\"\"\n",
    "# CREATE DATABASE IF NOT EXISTS iceberg.raw COMMENT '' LOCATION 's3a://datalake/iceberg/raw/'\n",
    "# \"\"\")"
   ]
  },
  {
   "cell_type": "code",
   "execution_count": 9,
   "id": "732e1be7-f60b-4798-8f78-6b43937dfe05",
   "metadata": {},
   "outputs": [
    {
     "name": "stderr",
     "output_type": "stream",
     "text": [
      "24/01/01 17:18:23 WARN package: Truncated the string representation of a plan since it was too large. This behavior can be adjusted by setting 'spark.sql.debug.maxToStringFields'.\n",
      "SLF4J: Failed to load class \"org.slf4j.impl.StaticLoggerBinder\".\n",
      "SLF4J: Defaulting to no-operation (NOP) logger implementation\n",
      "SLF4J: See http://www.slf4j.org/codes.html#StaticLoggerBinder for further details.\n"
     ]
    }
   ],
   "source": [
    "table = spark.sql(f\"\"\"\n",
    "        CREATE TABLE IF NOT EXISTS iceberg.raw.sgw_2\n",
    "        (\n",
    "            record_type STRING,\n",
    "            network_initiated_pdp_context STRING,\n",
    "            imsi STRING,\n",
    "            msisdn STRING,\n",
    "            imei STRING,\n",
    "            charging_id STRING,\n",
    "            ggsn_pgw_address STRING,\n",
    "            sgsn_sgw_address STRING,\n",
    "            ms_nw_capability STRING,\n",
    "            pdp_pdn_type STRING,\n",
    "            served_pdp_address STRING,\n",
    "            dynamic_address_flag STRING,\n",
    "            access_point_name_ni STRING,\n",
    "            record_sequence_number STRING,\n",
    "            record_sequence_number_meg STRING,\n",
    "            node_id STRING,\n",
    "            local_sequence_number STRING,\n",
    "            charging_characteristics STRING,\n",
    "            record_opening_time STRING,\n",
    "            duration STRING,\n",
    "            rat_type STRING,\n",
    "            cause_for_record_closing STRING,\n",
    "            diagnostic STRING,\n",
    "            volume_uplink STRING,\n",
    "            volume_downlink STRING,\n",
    "            total_volume STRING,\n",
    "            lac_or_tac STRING,\n",
    "            ci_or_eci STRING,\n",
    "            rac STRING,\n",
    "            rnc_unsent_data_volume STRING,\n",
    "            req_alloc_ret_priority STRING,\n",
    "            neg_alloc_ret_priority STRING,\n",
    "            req_traffic_class STRING,\n",
    "            neg_traffic_class STRING,\n",
    "            qci STRING,\n",
    "            req_max_bitrate_uplink STRING,\n",
    "            req_max_bitrate_downlink STRING,\n",
    "            req_guar_bitrate_uplink STRING,\n",
    "            req_guar_bitrate_downlink STRING,\n",
    "            neg_max_bitrate_uplink STRING,\n",
    "            neg_max_bitrate_downlink STRING,\n",
    "            neg_guar_bitrate_uplink STRING,\n",
    "            neg_guar_bitrate_downlink STRING,\n",
    "            mccmnc STRING,\n",
    "            country_name STRING,\n",
    "            input_filename STRING,\n",
    "            output_filename STRING,\n",
    "            event_date Date\n",
    "        ) \n",
    "        USING iceberg\n",
    "        PARTITIONED BY (event_date)\n",
    "        \"\"\")\n",
    "        "
   ]
  },
  {
   "cell_type": "code",
   "execution_count": 10,
   "id": "b37337b5-8e72-4d78-a175-465a3208e0a8",
   "metadata": {},
   "outputs": [],
   "source": [
    "s3 = boto3.client('s3', endpoint_url=s3_endpoint, aws_access_key_id=s3_access_key, aws_secret_access_key=s3_secret_key)"
   ]
  },
  {
   "cell_type": "code",
   "execution_count": 11,
   "id": "b3ec0e47-1537-4c4a-97bd-b7115f4b2b7e",
   "metadata": {},
   "outputs": [],
   "source": [
    "# List all files in the source directory\n",
    "file_list = []\n",
    "paginator = s3.get_paginator('list_objects_v2')\n",
    "\n",
    "for result in paginator.paginate(Bucket=f\"{environment}-{source_bucket}\", Prefix=source_folder):\n",
    "    \n",
    "    if 'Contents' in result:\n",
    "        for item in result['Contents']:\n",
    "            file_list.append(item['Key'])\n"
   ]
  },
  {
   "cell_type": "code",
   "execution_count": 12,
   "id": "712b5085-26a9-4e82-83ad-f74c0ab30fe2",
   "metadata": {},
   "outputs": [
    {
     "name": "stdout",
     "output_type": "stream",
     "text": [
      "File in processing: files/pscore/ascll/20231218/DATA_TRAFFIC_73280_80397_20231217234005.cdr\n"
     ]
    },
    {
     "name": "stderr",
     "output_type": "stream",
     "text": [
      "24/01/01 17:18:25 WARN MetricsConfig: Cannot locate configuration: tried hadoop-metrics2-s3a-file-system.properties,hadoop-metrics2.properties\n",
      "                                                                                \r"
     ]
    },
    {
     "name": "stdout",
     "output_type": "stream",
     "text": [
      "No records inserted: 80397\n",
      "File in processing: files/pscore/ascll/20231218/DATA_TRAFFIC_73282_71347_20231218000004.cdr\n"
     ]
    },
    {
     "name": "stderr",
     "output_type": "stream",
     "text": [
      "                                                                                \r"
     ]
    },
    {
     "name": "stdout",
     "output_type": "stream",
     "text": [
      "No records inserted: 71347\n",
      "File in processing: files/pscore/ascll/20231218/DATA_TRAFFIC_73284_10345_20231218003000.cdr\n",
      "No records inserted: 10345\n",
      "File in processing: files/pscore/ascll/20231218/DATA_TRAFFIC_73285_70244_20231218003004.cdr\n"
     ]
    },
    {
     "name": "stderr",
     "output_type": "stream",
     "text": [
      "                                                                                \r"
     ]
    },
    {
     "name": "stdout",
     "output_type": "stream",
     "text": [
      "No records inserted: 70244\n",
      "File in processing: files/pscore/ascll/20231218/DATA_TRAFFIC_73286_36852_20231218005000.cdr\n"
     ]
    },
    {
     "name": "stderr",
     "output_type": "stream",
     "text": [
      "                                                                                \r"
     ]
    },
    {
     "name": "stdout",
     "output_type": "stream",
     "text": [
      "No records inserted: 36852\n",
      "File in processing: files/pscore/ascll/20231218/DATA_TRAFFIC_73287_34420_20231218010000.cdr\n"
     ]
    },
    {
     "name": "stderr",
     "output_type": "stream",
     "text": [
      "                                                                                \r"
     ]
    },
    {
     "name": "stdout",
     "output_type": "stream",
     "text": [
      "No records inserted: 34420\n",
      "File in processing: files/pscore/ascll/20231218/DATA_TRAFFIC_73288_63266_20231218011000.cdr\n"
     ]
    },
    {
     "name": "stderr",
     "output_type": "stream",
     "text": [
      "                                                                                \r"
     ]
    },
    {
     "name": "stdout",
     "output_type": "stream",
     "text": [
      "No records inserted: 63266\n",
      "File in processing: files/pscore/ascll/20231218/DATA_TRAFFIC_73289_53920_20231218012000.cdr\n"
     ]
    },
    {
     "name": "stderr",
     "output_type": "stream",
     "text": [
      "                                                                                \r"
     ]
    },
    {
     "name": "stdout",
     "output_type": "stream",
     "text": [
      "No records inserted: 53920\n",
      "File in processing: files/pscore/ascll/20231218/DATA_TRAFFIC_73290_30264_20231218013000.cdr\n"
     ]
    },
    {
     "name": "stderr",
     "output_type": "stream",
     "text": [
      "                                                                                \r"
     ]
    },
    {
     "name": "stdout",
     "output_type": "stream",
     "text": [
      "No records inserted: 30264\n",
      "File in processing: files/pscore/ascll/20231218/DATA_TRAFFIC_73292_54751_20231218015001.cdr\n"
     ]
    },
    {
     "name": "stderr",
     "output_type": "stream",
     "text": [
      "                                                                                \r"
     ]
    },
    {
     "name": "stdout",
     "output_type": "stream",
     "text": [
      "No records inserted: 54751\n",
      "File in processing: files/pscore/ascll/20231218/DATA_TRAFFIC_73293_21629_20231218020001.cdr\n",
      "No records inserted: 21629\n",
      "File in processing: files/pscore/ascll/20231218/DATA_TRAFFIC_73294_29663_20231218021000.cdr\n"
     ]
    },
    {
     "name": "stderr",
     "output_type": "stream",
     "text": [
      "                                                                                \r"
     ]
    },
    {
     "name": "stdout",
     "output_type": "stream",
     "text": [
      "No records inserted: 29663\n",
      "File in processing: files/pscore/ascll/20231218/DATA_TRAFFIC_73295_44648_20231218022000.cdr\n"
     ]
    },
    {
     "name": "stderr",
     "output_type": "stream",
     "text": [
      "                                                                                \r"
     ]
    },
    {
     "name": "stdout",
     "output_type": "stream",
     "text": [
      "No records inserted: 44648\n",
      "File in processing: files/pscore/ascll/20231218/DATA_TRAFFIC_73296_26961_20231218023000.cdr\n"
     ]
    },
    {
     "name": "stderr",
     "output_type": "stream",
     "text": [
      "                                                                                \r"
     ]
    },
    {
     "name": "stdout",
     "output_type": "stream",
     "text": [
      "No records inserted: 26961\n",
      "File in processing: files/pscore/ascll/20231218/DATA_TRAFFIC_73297_28539_20231218024000.cdr\n"
     ]
    },
    {
     "name": "stderr",
     "output_type": "stream",
     "text": [
      "                                                                                \r"
     ]
    },
    {
     "name": "stdout",
     "output_type": "stream",
     "text": [
      "No records inserted: 28539\n",
      "File in processing: files/pscore/ascll/20231218/DATA_TRAFFIC_73298_42182_20231218025000.cdr\n"
     ]
    },
    {
     "name": "stderr",
     "output_type": "stream",
     "text": [
      "                                                                                \r"
     ]
    },
    {
     "name": "stdout",
     "output_type": "stream",
     "text": [
      "No records inserted: 42182\n",
      "File in processing: files/pscore/ascll/20231218/DATA_TRAFFIC_73299_08172_20231218030000.cdr\n",
      "No records inserted: 8172\n",
      "File in processing: files/pscore/ascll/20231218/DATA_TRAFFIC_73300_43402_20231218031000.cdr\n"
     ]
    },
    {
     "name": "stderr",
     "output_type": "stream",
     "text": [
      "                                                                                \r"
     ]
    },
    {
     "name": "stdout",
     "output_type": "stream",
     "text": [
      "No records inserted: 43402\n",
      "File in processing: files/pscore/ascll/20231218/DATA_TRAFFIC_73302_08069_20231218033000.cdr\n",
      "No records inserted: 8069\n",
      "File in processing: files/pscore/ascll/20231218/DATA_TRAFFIC_73303_41417_20231218034000.cdr\n"
     ]
    },
    {
     "name": "stderr",
     "output_type": "stream",
     "text": [
      "                                                                                \r"
     ]
    },
    {
     "name": "stdout",
     "output_type": "stream",
     "text": [
      "No records inserted: 41417\n",
      "File in processing: files/pscore/ascll/20231218/DATA_TRAFFIC_73304_22278_20231218035000.cdr\n",
      "No records inserted: 22278\n",
      "File in processing: files/pscore/ascll/20231218/DATA_TRAFFIC_73305_22629_20231218040000.cdr\n",
      "No records inserted: 22629\n",
      "File in processing: files/pscore/ascll/20231218/DATA_TRAFFIC_73307_32171_20231218042000.cdr\n",
      "No records inserted: 32171\n",
      "File in processing: files/pscore/ascll/20231218/DATA_TRAFFIC_73308_21835_20231218043000.cdr\n",
      "No records inserted: 21835\n",
      "File in processing: files/pscore/ascll/20231218/DATA_TRAFFIC_73309_28203_20231218044000.cdr\n",
      "No records inserted: 28203\n",
      "File in processing: files/pscore/ascll/20231218/DATA_TRAFFIC_73310_33437_20231218045000.cdr\n"
     ]
    },
    {
     "name": "stderr",
     "output_type": "stream",
     "text": [
      "                                                                                \r"
     ]
    },
    {
     "name": "stdout",
     "output_type": "stream",
     "text": [
      "No records inserted: 33437\n",
      "File in processing: files/pscore/ascll/20231218/DATA_TRAFFIC_73311_21716_20231218050000.cdr\n",
      "No records inserted: 21716\n",
      "File in processing: files/pscore/ascll/20231218/DATA_TRAFFIC_73315_26005_20231218054001.cdr\n",
      "No records inserted: 26005\n",
      "File in processing: files/pscore/ascll/20231218/DATA_TRAFFIC_73316_42220_20231218055001.cdr\n"
     ]
    },
    {
     "name": "stderr",
     "output_type": "stream",
     "text": [
      "                                                                                \r"
     ]
    },
    {
     "name": "stdout",
     "output_type": "stream",
     "text": [
      "No records inserted: 42220\n",
      "File in processing: files/pscore/ascll/20231218/DATA_TRAFFIC_73317_00993_20231218060001.cdr\n",
      "No records inserted: 993\n",
      "File in processing: files/pscore/ascll/20231218/DATA_TRAFFIC_73318_50736_20231218061001.cdr\n"
     ]
    },
    {
     "name": "stderr",
     "output_type": "stream",
     "text": [
      "                                                                                \r"
     ]
    },
    {
     "name": "stdout",
     "output_type": "stream",
     "text": [
      "No records inserted: 50736\n",
      "File in processing: files/pscore/ascll/20231218/DATA_TRAFFIC_73319_40473_20231218062000.cdr\n"
     ]
    },
    {
     "name": "stderr",
     "output_type": "stream",
     "text": [
      "                                                                                \r"
     ]
    },
    {
     "name": "stdout",
     "output_type": "stream",
     "text": [
      "No records inserted: 40473\n",
      "File in processing: files/pscore/ascll/20231218/DATA_TRAFFIC_73321_55917_20231218064000.cdr\n"
     ]
    },
    {
     "name": "stderr",
     "output_type": "stream",
     "text": [
      "                                                                                \r"
     ]
    },
    {
     "name": "stdout",
     "output_type": "stream",
     "text": [
      "No records inserted: 55917\n",
      "File in processing: files/pscore/ascll/20231218/DATA_TRAFFIC_73324_29823_20231218071000.cdr\n",
      "No records inserted: 29823\n",
      "File in processing: files/pscore/ascll/20231218/DATA_TRAFFIC_73325_59060_20231218072000.cdr\n"
     ]
    },
    {
     "name": "stderr",
     "output_type": "stream",
     "text": [
      "                                                                                \r"
     ]
    },
    {
     "name": "stdout",
     "output_type": "stream",
     "text": [
      "No records inserted: 59060\n",
      "File in processing: files/pscore/ascll/20231218/DATA_TRAFFIC_73327_41526_20231218074000.cdr\n"
     ]
    },
    {
     "name": "stderr",
     "output_type": "stream",
     "text": [
      "                                                                                \r"
     ]
    },
    {
     "name": "stdout",
     "output_type": "stream",
     "text": [
      "No records inserted: 41526\n",
      "File in processing: files/pscore/ascll/20231218/DATA_TRAFFIC_73328_65373_20231218074004.cdr\n"
     ]
    },
    {
     "name": "stderr",
     "output_type": "stream",
     "text": [
      "                                                                                \r"
     ]
    },
    {
     "name": "stdout",
     "output_type": "stream",
     "text": [
      "No records inserted: 65373\n",
      "File in processing: files/pscore/ascll/20231218/DATA_TRAFFIC_73329_39615_20231218080000.cdr\n"
     ]
    },
    {
     "name": "stderr",
     "output_type": "stream",
     "text": [
      "                                                                                \r"
     ]
    },
    {
     "name": "stdout",
     "output_type": "stream",
     "text": [
      "No records inserted: 39615\n",
      "File in processing: files/pscore/ascll/20231218/DATA_TRAFFIC_73331_70506_20231218081004.cdr\n"
     ]
    },
    {
     "name": "stderr",
     "output_type": "stream",
     "text": [
      "                                                                                \r"
     ]
    },
    {
     "name": "stdout",
     "output_type": "stream",
     "text": [
      "No records inserted: 70506\n",
      "File in processing: files/pscore/ascll/20231218/DATA_TRAFFIC_73332_41939_20231218083000.cdr\n"
     ]
    },
    {
     "name": "stderr",
     "output_type": "stream",
     "text": [
      "                                                                                \r"
     ]
    },
    {
     "name": "stdout",
     "output_type": "stream",
     "text": [
      "No records inserted: 41939\n",
      "File in processing: files/pscore/ascll/20231218/DATA_TRAFFIC_73339_84642_20231218093005.cdr\n"
     ]
    },
    {
     "name": "stderr",
     "output_type": "stream",
     "text": [
      "                                                                                \r"
     ]
    },
    {
     "name": "stdout",
     "output_type": "stream",
     "text": [
      "No records inserted: 84642\n",
      "File in processing: files/pscore/ascll/20231218/DATA_TRAFFIC_73340_48125_20231218095000.cdr\n"
     ]
    },
    {
     "name": "stderr",
     "output_type": "stream",
     "text": [
      "                                                                                \r"
     ]
    },
    {
     "name": "stdout",
     "output_type": "stream",
     "text": [
      "No records inserted: 48125\n",
      "File in processing: files/pscore/ascll/20231218/DATA_TRAFFIC_73341_80961_20231218095004.cdr\n"
     ]
    },
    {
     "name": "stderr",
     "output_type": "stream",
     "text": [
      "                                                                                \r"
     ]
    },
    {
     "name": "stdout",
     "output_type": "stream",
     "text": [
      "No records inserted: 80961\n",
      "File in processing: files/pscore/ascll/20231218/DATA_TRAFFIC_73342_54228_20231218101000.cdr\n"
     ]
    },
    {
     "name": "stderr",
     "output_type": "stream",
     "text": [
      "                                                                                \r"
     ]
    },
    {
     "name": "stdout",
     "output_type": "stream",
     "text": [
      "No records inserted: 54228\n",
      "File in processing: files/pscore/ascll/20231218/DATA_TRAFFIC_73344_49522_20231218103000.cdr\n"
     ]
    },
    {
     "name": "stderr",
     "output_type": "stream",
     "text": [
      "                                                                                \r"
     ]
    },
    {
     "name": "stdout",
     "output_type": "stream",
     "text": [
      "No records inserted: 49522\n",
      "File in processing: files/pscore/ascll/20231218/DATA_TRAFFIC_73347_49486_20231218110000.cdr\n"
     ]
    },
    {
     "name": "stderr",
     "output_type": "stream",
     "text": [
      "                                                                                \r"
     ]
    },
    {
     "name": "stdout",
     "output_type": "stream",
     "text": [
      "No records inserted: 49486\n"
     ]
    }
   ],
   "source": [
    "# reading files in the source\n",
    "for file_name in file_list:\n",
    "\n",
    "    print(f'File in processing: {file_name}')\n",
    "    \n",
    "    df = spark.read.format(\"csv\") \\\n",
    "                    .option(\"header\", \"false\") \\\n",
    "                    .option(\"delimiter\", \";\") \\\n",
    "                    .schema(schema) \\\n",
    "                    .load(f\"s3a://{environment}-{source_bucket}/{file_name}\")\n",
    "    # some transformations\n",
    "    df = df.withColumn(\"duration\", df[\"duration\"].cast(\"double\"))\n",
    "    df = df.withColumn(\"event_date\", to_date(df[\"record_opening_time\"], \"yyyyMMddHHmmss\"))\n",
    "\n",
    "    # wrintint the data on lakehouse\n",
    "    df.writeTo(f'iceberg.raw.{dest_db_table}').append()\n",
    "\n",
    "    print(f'No records inserted: {df.count()}')\n"
   ]
  },
  {
   "cell_type": "code",
   "execution_count": 13,
   "id": "cc13221e-980b-4948-9ea3-c4f928e87de8",
   "metadata": {},
   "outputs": [
    {
     "name": "stdout",
     "output_type": "stream",
     "text": [
      "root\n",
      " |-- record_type: string (nullable = true)\n",
      " |-- network_initiated_pdp_context: string (nullable = true)\n",
      " |-- imsi: string (nullable = true)\n",
      " |-- msisdn: string (nullable = true)\n",
      " |-- imei: string (nullable = true)\n",
      " |-- charging_id: string (nullable = true)\n",
      " |-- ggsn_pgw_address: string (nullable = true)\n",
      " |-- sgsn_sgw_address: string (nullable = true)\n",
      " |-- ms_nw_capability: string (nullable = true)\n",
      " |-- pdp_pdn_type: string (nullable = true)\n",
      " |-- served_pdp_address: string (nullable = true)\n",
      " |-- dynamic_address_flag: string (nullable = true)\n",
      " |-- access_point_name_ni: string (nullable = true)\n",
      " |-- record_sequence_number: string (nullable = true)\n",
      " |-- record_sequence_number_meg: string (nullable = true)\n",
      " |-- node_id: string (nullable = true)\n",
      " |-- local_sequence_number: string (nullable = true)\n",
      " |-- charging_characteristics: string (nullable = true)\n",
      " |-- record_opening_time: string (nullable = true)\n",
      " |-- duration: string (nullable = true)\n",
      " |-- rat_type: string (nullable = true)\n",
      " |-- cause_for_record_closing: string (nullable = true)\n",
      " |-- diagnostic: string (nullable = true)\n",
      " |-- volume_uplink: string (nullable = true)\n",
      " |-- volume_downlink: string (nullable = true)\n",
      " |-- total_volume: string (nullable = true)\n",
      " |-- lac_or_tac: string (nullable = true)\n",
      " |-- ci_or_eci: string (nullable = true)\n",
      " |-- rac: string (nullable = true)\n",
      " |-- rnc_unsent_data_volume: string (nullable = true)\n",
      " |-- req_alloc_ret_priority: string (nullable = true)\n",
      " |-- neg_alloc_ret_priority: string (nullable = true)\n",
      " |-- req_traffic_class: string (nullable = true)\n",
      " |-- neg_traffic_class: string (nullable = true)\n",
      " |-- qci: string (nullable = true)\n",
      " |-- req_max_bitrate_uplink: string (nullable = true)\n",
      " |-- req_max_bitrate_downlink: string (nullable = true)\n",
      " |-- req_guar_bitrate_uplink: string (nullable = true)\n",
      " |-- req_guar_bitrate_downlink: string (nullable = true)\n",
      " |-- neg_max_bitrate_uplink: string (nullable = true)\n",
      " |-- neg_max_bitrate_downlink: string (nullable = true)\n",
      " |-- neg_guar_bitrate_uplink: string (nullable = true)\n",
      " |-- neg_guar_bitrate_downlink: string (nullable = true)\n",
      " |-- mccmnc: string (nullable = true)\n",
      " |-- country_name: string (nullable = true)\n",
      " |-- input_filename: string (nullable = true)\n",
      " |-- output_filename: string (nullable = true)\n",
      " |-- event_date: date (nullable = true)\n",
      "\n",
      "None\n",
      "No of Records: 16160700\n"
     ]
    }
   ],
   "source": [
    "tb = spark.table(f'iceberg.raw.{dest_db_table}')\n",
    "print(tb.printSchema())\n",
    "print(f\"No of Records: {tb.count()}\")"
   ]
  }
 ],
 "metadata": {
  "kernelspec": {
   "display_name": "Python 3 (ipykernel)",
   "language": "python",
   "name": "python3"
  },
  "language_info": {
   "codemirror_mode": {
    "name": "ipython",
    "version": 3
   },
   "file_extension": ".py",
   "mimetype": "text/x-python",
   "name": "python",
   "nbconvert_exporter": "python",
   "pygments_lexer": "ipython3",
   "version": "3.8.10"
  }
 },
 "nbformat": 4,
 "nbformat_minor": 5
}
