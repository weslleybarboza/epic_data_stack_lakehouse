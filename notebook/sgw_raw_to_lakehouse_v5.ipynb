{
 "cells": [
  {
   "cell_type": "code",
   "execution_count": 1,
   "id": "fdbe497d-64a6-47c4-a907-400920eab9d1",
   "metadata": {},
   "outputs": [],
   "source": [
    "# ### Libraries and session"
   ]
  },
  {
   "cell_type": "code",
   "execution_count": 2,
   "id": "4c788b78-8a40-4cef-ba91-00101f132216",
   "metadata": {},
   "outputs": [
    {
     "data": {
      "text/plain": [
       "{'SPARK_TGZ_ASC_URL': 'https://archive.apache.org/dist/spark/spark-3.4.1/spark-3.4.1-bin-hadoop3.tgz.asc',\n",
       " 'SPARK_VERSION_SHORT': '3.4',\n",
       " 'HOSTNAME': 'spark-iceberg',\n",
       " 'LANGUAGE': 'en_US:en',\n",
       " 'AWS_SDK_BUNDLE_VERSION': '2.20.18',\n",
       " 'S3_PATH_STYLE_ACCESS': 'true',\n",
       " 'ICEBERG_VERSION': '1.3.1',\n",
       " 'JAVA_HOME': '/opt/java/openjdk',\n",
       " 'SPARK_TGZ_URL': 'https://archive.apache.org/dist/spark/spark-3.4.1/spark-3.4.1-bin-hadoop3.tgz',\n",
       " 'AWS_DEFAULT_REGION': 'us-east-1',\n",
       " 'AWS_REGION': 'us-east-1',\n",
       " 'PWD': '/opt/spark',\n",
       " 'S3_ENDPOINT': 'http://minio:9000',\n",
       " 'HOME': '/root',\n",
       " 'LANG': 'en_US.UTF-8',\n",
       " 'GPG_KEY': '<hidden>',\n",
       " 'HADOOP_AWS_VERSION': '3.3.4',\n",
       " 'AWS_SECRET_ACCESS_KEY': '<hidden>',\n",
       " 'AWS_SDK_VERSION': '1.12.262',\n",
       " 'PYTHONPATH': '/opt/spark/python:/opt/spark/python/lib/py4j-0.10.9.7-src.zip:',\n",
       " 'TERM': 'xterm-color',\n",
       " 'SPARK_VERSION': '3.4.2',\n",
       " 'SHLVL': '0',\n",
       " 'AWS_ACCESS_KEY_ID': '<hidden>',\n",
       " 'SPARK_HOME': '/opt/spark',\n",
       " 'ZSH_THEME': 'robbyrussell',\n",
       " 'LC_ALL': 'en_US.UTF-8',\n",
       " 'PATH': '/opt/spark/sbin:/opt/spark/bin:/opt/java/openjdk/bin:/usr/local/sbin:/usr/local/bin:/usr/sbin:/usr/bin:/sbin:/bin',\n",
       " 'JAVA_VERSION': 'jdk-11.0.19+7',\n",
       " '_': '/usr/local/bin/jupyter',\n",
       " 'JPY_SESSION_NAME': '/opt/notebook/sgw_raw_to_lakehouse_v5.ipynb',\n",
       " 'JPY_PARENT_PID': '1',\n",
       " 'PYDEVD_USE_FRAME_EVAL': 'NO',\n",
       " 'CLICOLOR': '1',\n",
       " 'FORCE_COLOR': '1',\n",
       " 'CLICOLOR_FORCE': '1',\n",
       " 'PAGER': 'cat',\n",
       " 'GIT_PAGER': 'cat',\n",
       " 'MPLBACKEND': 'module://matplotlib_inline.backend_inline'}"
      ]
     },
     "execution_count": 2,
     "metadata": {},
     "output_type": "execute_result"
    }
   ],
   "source": [
    "env"
   ]
  },
  {
   "cell_type": "code",
   "execution_count": 2,
   "id": "884cdef2-7921-4cb7-9c74-c5e2a16e33ac",
   "metadata": {},
   "outputs": [],
   "source": [
    "import pyspark\n",
    "import boto3\n",
    "from pyspark.sql import SparkSession\n",
    "from pyspark.sql.types import StructType, StructField, StringType, TimestampType, IntegerType, DateType, DecimalType\n",
    "from pyspark.sql.functions import year, to_date, month, dayofmonth,  from_unixtime, unix_timestamp\n",
    "from pyspark.sql.functions import current_timestamp"
   ]
  },
  {
   "cell_type": "code",
   "execution_count": 3,
   "id": "cf481f94-b8ce-4a90-a5b4-a6cdc2e66115",
   "metadata": {},
   "outputs": [],
   "source": [
    "REC_CREATED_COLUMN_NAME = \"rec_created\"\n",
    "REC_UPDATED_COLUMN_NAME = \"rec_updated\""
   ]
  },
  {
   "cell_type": "code",
   "execution_count": 4,
   "id": "34ed6fa2-80cc-4ad4-9503-81903548cd8b",
   "metadata": {},
   "outputs": [],
   "source": [
    "# ip and environments\n",
    "environment = 'prd'\n",
    "\n",
    "# Source\n",
    "system_source = \"pscore\"\n",
    "system_table =\"pscore_sgw\"\n",
    "\n",
    "# Set the bucket and folder paths\n",
    "source_bucket = 'landing-zone'\n",
    "source_folder = f'files/{system_source}/ascll'\n",
    "\n",
    "lakehouse_bucket = 'lakehouse'\n",
    "lakehouse_folder = 'iceberg'\n",
    "\n",
    "# table destination settings\n",
    "dest_db_catalog = 'iceberg'\n",
    "dest_db_schema = 'bronze'\n",
    "dest_db_table = system_table\n",
    "dest_final_db = f'{dest_db_catalog}.{dest_db_schema}'\n",
    "dest_final_table = f'{dest_final_db}.{dest_db_table}'\n",
    "\n",
    "# Spark identification and settings\n",
    "appname = f'BRONZE_{dest_final_db}.{dest_final_table}'\n",
    "log_level = 'WARN' # Valid log levels include: ALL, DEBUG, ERROR, FATAL, INFO, OFF, TRACE, WARN\n",
    "\n",
    "# Set your MinIO credentials\n",
    "s3_endpoint = 'http://minio:9000'\n",
    "s3_access_key = 'minio'\n",
    "s3_secret_key = 'minio123'"
   ]
  },
  {
   "cell_type": "code",
   "execution_count": 5,
   "id": "094ec688-91d3-4648-a78c-1131a892caaf",
   "metadata": {},
   "outputs": [
    {
     "name": "stderr",
     "output_type": "stream",
     "text": [
      "Setting default log level to \"WARN\".\n",
      "To adjust logging level use sc.setLogLevel(newLevel). For SparkR, use setLogLevel(newLevel).\n",
      "24/03/21 14:30:52 WARN NativeCodeLoader: Unable to load native-hadoop library for your platform... using builtin-java classes where applicable\n"
     ]
    }
   ],
   "source": [
    "spark = SparkSession.builder\\\n",
    "    .appName(appname)\\\n",
    "    .getOrCreate()"
   ]
  },
  {
   "cell_type": "code",
   "execution_count": 6,
   "id": "d06374f1-31e1-4eff-b369-75c9cd30ea81",
   "metadata": {},
   "outputs": [
    {
     "name": "stdout",
     "output_type": "stream",
     "text": [
      "=================================================\n",
      "[('spark.hadoop.hive.cli.print.header', 'true'), ('spark.hadoop.fs.s3a.connection.ssl.enabled', 'false'), ('spark.hadoop.fs.s3a.path.style.access', 'true'), ('spark.app.name', 'BRONZE_iceberg.bronze.iceberg.bronze.pscore_sgw'), ('spark.sql.catalog.spark_catalog', 'org.apache.iceberg.spark.SparkSessionCatalog'), ('spark.hadoop.fs.s3.endpoint', 'http://minio:9000'), ('spark.hadoop.fs.s3.access.key', 'minio'), ('spark.hadoop.fs.s3.impl', 'org.apache.hadoop.fs.s3a.S3AFileSystem'), ('spark.sql.catalog.iceberg.uri', 'thrift://hive-metastore:9083'), ('spark.sql.catalog.iceberg.s3.endpoint', 'http://minio:9000'), ('spark.sql.catalog.iceberg.s3.path-style-access', 'true'), ('spark.hadoop.fs.s3.path.style.access', 'true'), ('spark.hive.metastore.uris', 'thrift://hive-metastore:9083'), ('spark.master', 'local[*]'), ('spark.submit.deployMode', 'client'), ('spark.app.submitTime', '1711031452592'), ('spark.hadoop.fs.s3a.access.key', 'minio'), ('spark.sql.catalog.iceberg.io-impl', 'org.apache.iceberg.aws.s3.S3FileIO'), ('spark.hadoop.fs.s3.secret.key', 'minio123'), ('spark.sql.extensions', 'org.apache.iceberg.spark.extensions.IcebergSparkSessionExtensions'), ('spark.hadoop.fs.s3a.impl', 'org.apache.hadoop.fs.s3a.S3AFileSystem'), ('spark.sql.catalog.iceberg', 'org.apache.iceberg.spark.SparkCatalog'), ('spark.sql.catalogImplementation', 'hive'), ('spark.hadoop.fs.s3.connection.ssl.enabled', 'false'), ('spark.submit.pyFiles', ''), ('spark.sql.catalog.iceberg.warehouse', 's3a://prd-lakehouse/iceberg'), ('spark.hadoop.fs.s3a.endpoint', 'http://minio:9000'), ('spark.hadoop.fs.s3a.secret.key', 'minio123'), ('spark.sql.catalog.iceberg.type', 'hive'), ('spark.ui.showConsoleProgress', 'true'), ('spark.sql.catalog.spark_catalog.type', 'hive')]\n"
     ]
    }
   ],
   "source": [
    "print(\"=================================================\")\n",
    "spark.sparkContext.setLogLevel(log_level)\n",
    "print(pyspark.SparkConf().getAll())"
   ]
  },
  {
   "cell_type": "code",
   "execution_count": 7,
   "id": "f0d77e17-abb0-44db-8493-8d5a2598630d",
   "metadata": {},
   "outputs": [],
   "source": [
    "def audit_add_column(df):\n",
    "    \"\"\"\n",
    "    Add audit columns with current date to the DataFrame.\n",
    "    \n",
    "    Args:\n",
    "        df (DataFrame): The DataFrame to which the audit columns are added.\n",
    "    \n",
    "    Returns:\n",
    "        DataFrame: DataFrame with the audit columns added.\n",
    "    \"\"\"\n",
    "    created_column_name = REC_CREATED_COLUMN_NAME\n",
    "    updated_column_name = REC_UPDATED_COLUMN_NAME\n",
    "    # Add audit column with current date\n",
    "    df_with_audit = df.withColumn(created_column_name, current_timestamp()) \\\n",
    "                      .withColumn(updated_column_name, current_timestamp())\n",
    "    \n",
    "    return df_with_audit"
   ]
  },
  {
   "cell_type": "code",
   "execution_count": 9,
   "id": "1b5398c5-cb9e-42a2-bf53-ff74eb866fcb",
   "metadata": {},
   "outputs": [
    {
     "name": "stdout",
     "output_type": "stream",
     "text": [
      "['files/pscore/ascll/DATA_TRAFFIC_85994_99022_20240312201006.cdr', 'files/pscore/ascll/DATA_TRAFFIC_86085_32451_20240313113000.cdr']\n"
     ]
    }
   ],
   "source": [
    "s3 = boto3.client('s3', endpoint_url=s3_endpoint, aws_access_key_id=s3_access_key, aws_secret_access_key=s3_secret_key)\n",
    "\n",
    "# List all files in the source directory\n",
    "file_list = []\n",
    "paginator = s3.get_paginator('list_objects_v2')\n",
    "\n",
    "\n",
    "for result in paginator.paginate(Bucket=f\"{environment}-{source_bucket}\", Prefix=source_folder):\n",
    "    \n",
    "    if 'Contents' in result:\n",
    "        for item in result['Contents']:\n",
    "            file_list.append(item['Key'])\n",
    "\n",
    "print(file_list)"
   ]
  },
  {
   "cell_type": "code",
   "execution_count": 10,
   "id": "86b57cf8-fbc5-4f4e-ab70-c317048e2273",
   "metadata": {},
   "outputs": [],
   "source": [
    "df_source_schema = StructType([\n",
    "                        StructField(\"record_type\", StringType()),\n",
    "                        StructField(\"network_initiated_pdp_context\", StringType()),\n",
    "                        StructField(\"imsi\", StringType()),\n",
    "                        StructField(\"msisdn\", StringType()),\n",
    "                        StructField(\"imei\", StringType()),\n",
    "                        StructField(\"charging_id\", StringType()),\n",
    "                        StructField(\"ggsn_pgw_address\", StringType()),\n",
    "                        StructField(\"sgsn_sgw_address\", StringType()),\n",
    "                        StructField(\"ms_nw_capability\", StringType()),\n",
    "                        StructField(\"pdp_pdn_type\", StringType()),\n",
    "                        StructField(\"served_pdp_address\", StringType()),\n",
    "                        StructField(\"dynamic_address_flag\", StringType()),\n",
    "                        StructField(\"access_point_name_ni\", StringType()),\n",
    "                        StructField(\"record_sequence_number\", StringType()),\n",
    "                        StructField(\"record_sequence_number_meg\", StringType()),\n",
    "                        StructField(\"node_id\", StringType()),\n",
    "                        StructField(\"local_sequence_number\", StringType()),\n",
    "                        StructField(\"charging_characteristics\", StringType()),\n",
    "                        StructField(\"record_opening_time\", StringType()),\n",
    "                        StructField(\"duration\", StringType()),\n",
    "                        StructField(\"rat_type\", StringType()),\n",
    "                        StructField(\"cause_for_record_closing\", StringType()),\n",
    "                        StructField(\"diagnostic\", StringType()),\n",
    "                        StructField(\"volume_uplink\", StringType()),\n",
    "                        StructField(\"volume_downlink\", StringType()),\n",
    "                        StructField(\"total_volume\", StringType()),\n",
    "                        StructField(\"lac_or_tac\", StringType()),\n",
    "                        StructField(\"ci_or_eci\", StringType()),\n",
    "                        StructField(\"rac\", StringType()),\n",
    "                        StructField(\"rnc_unsent_data_volume\", StringType()),\n",
    "                        StructField(\"req_alloc_ret_priority\", StringType()),\n",
    "                        StructField(\"neg_alloc_ret_priority\", StringType()),\n",
    "                        StructField(\"req_traffic_class\", StringType()),\n",
    "                        StructField(\"neg_traffic_class\", StringType()),\n",
    "                        StructField(\"qci\", StringType()),\n",
    "                        StructField(\"req_max_bitrate_uplink\", StringType()),\n",
    "                        StructField(\"req_max_bitrate_downlink\", StringType()),\n",
    "                        StructField(\"req_guar_bitrate_uplink\", StringType()),\n",
    "                        StructField(\"req_guar_bitrate_downlink\", StringType()),\n",
    "                        StructField(\"neg_max_bitrate_uplink\", StringType()),\n",
    "                        StructField(\"neg_max_bitrate_downlink\", StringType()),\n",
    "                        StructField(\"neg_guar_bitrate_uplink\", StringType()),\n",
    "                        StructField(\"neg_guar_bitrate_downlink\", StringType()),\n",
    "                        StructField(\"mccmnc\", StringType()),\n",
    "                        StructField(\"country_name\", StringType()),\n",
    "                        StructField(\"input_filename\", StringType()),\n",
    "                        StructField(\"output_filename\", StringType()),\n",
    "                        StructField(\"event_date\", TimestampType())                    \n",
    "                ])"
   ]
  },
  {
   "cell_type": "code",
   "execution_count": 11,
   "id": "f2e04c62-135e-4f87-936c-4a4d1bbcc03f",
   "metadata": {},
   "outputs": [
    {
     "name": "stdout",
     "output_type": "stream",
     "text": [
      "Number of columns of contract: 48\n"
     ]
    }
   ],
   "source": [
    "num_columns_contract = len(df_source_schema.fields)\n",
    "print(\"Number of columns of contract:\", num_columns_contract)\n",
    "\n",
    "\n",
    "df_source_data = spark.createDataFrame([], schema=df_source_schema)"
   ]
  },
  {
   "cell_type": "code",
   "execution_count": 12,
   "id": "7c5868f4-29c1-4b57-8fea-8a338688ab24",
   "metadata": {},
   "outputs": [
    {
     "name": "stdout",
     "output_type": "stream",
     "text": [
      "File in processing: files/pscore/ascll/DATA_TRAFFIC_85994_99022_20240312201006.cdr\n"
     ]
    },
    {
     "name": "stderr",
     "output_type": "stream",
     "text": [
      "24/03/21 14:31:00 WARN MetricsConfig: Cannot locate configuration: tried hadoop-metrics2-s3a-file-system.properties,hadoop-metrics2.properties\n"
     ]
    },
    {
     "name": "stdout",
     "output_type": "stream",
     "text": [
      "No of columns matched\n",
      "File in processing: files/pscore/ascll/DATA_TRAFFIC_86085_32451_20240313113000.cdr\n",
      "No of columns matched\n"
     ]
    }
   ],
   "source": [
    "# reading files in the source\n",
    "for file_name in file_list:\n",
    "\n",
    "    print(f'File in processing: {file_name}')\n",
    "    \n",
    "    df = spark.read.format(\"csv\") \\\n",
    "                    .option(\"header\", \"false\") \\\n",
    "                    .option(\"delimiter\", \";\") \\\n",
    "                    .schema(df_source_schema) \\\n",
    "                    .load(f\"s3://{environment}-{source_bucket}/{file_name}\")\n",
    "\n",
    "    if len(df.columns) == num_columns_contract:\n",
    "        print('No of columns matched')\n",
    "        df_source_data = df_source_data.union(df)\n",
    "\n",
    "df_send_to_bronze = audit_add_column(df_source_data)"
   ]
  },
  {
   "cell_type": "code",
   "execution_count": 13,
   "id": "859bee35-4687-4959-bb35-1dc3ff06b446",
   "metadata": {},
   "outputs": [
    {
     "name": "stdout",
     "output_type": "stream",
     "text": [
      "\n",
      "CREATE DATABASE IF NOT EXISTS iceberg.bronze COMMENT '' LOCATION 's3://prd-lakehouse/iceberg/bronze/'\n",
      "\n"
     ]
    },
    {
     "data": {
      "text/plain": [
       "DataFrame[]"
      ]
     },
     "execution_count": 13,
     "metadata": {},
     "output_type": "execute_result"
    }
   ],
   "source": [
    "sql_db_create = f\"\"\"\n",
    "CREATE DATABASE IF NOT EXISTS {dest_final_db} COMMENT '' LOCATION 's3://{environment}-{lakehouse_bucket}/{dest_db_catalog}/{dest_db_schema}/'\n",
    "\"\"\"\n",
    "print(sql_db_create)\n",
    "spark.sql(sql_db_create)"
   ]
  },
  {
   "cell_type": "code",
   "execution_count": 14,
   "id": "72059e6d-a848-4cce-9b1f-ad53a3980bd8",
   "metadata": {},
   "outputs": [],
   "source": [
    "sql_ddl_drop_table = f\"\"\"\n",
    "    DROP TABLE IF EXISTS {dest_final_table}\n",
    "\"\"\""
   ]
  },
  {
   "cell_type": "code",
   "execution_count": 15,
   "id": "90beab54-d380-41cc-b262-47e6cc17229f",
   "metadata": {},
   "outputs": [
    {
     "name": "stdout",
     "output_type": "stream",
     "text": [
      "+-------------+\n",
      "|      catalog|\n",
      "+-------------+\n",
      "|      iceberg|\n",
      "|spark_catalog|\n",
      "+-------------+\n",
      "\n"
     ]
    }
   ],
   "source": [
    "show_databases_df = spark.sql(\"SHOW CATALOGS\")\n",
    "show_databases_df.show()"
   ]
  },
  {
   "cell_type": "code",
   "execution_count": 16,
   "id": "596985ea-d312-4d60-abae-baecec421b79",
   "metadata": {},
   "outputs": [
    {
     "name": "stdout",
     "output_type": "stream",
     "text": [
      "+---------+\n",
      "|namespace|\n",
      "+---------+\n",
      "|   bronze|\n",
      "|  default|\n",
      "+---------+\n",
      "\n"
     ]
    }
   ],
   "source": [
    "show_databases_df = spark.sql(\"SHOW DATABASES\")\n",
    "show_databases_df.show()"
   ]
  },
  {
   "cell_type": "code",
   "execution_count": 17,
   "id": "516744a4-26ab-4e82-b736-30355264bd27",
   "metadata": {},
   "outputs": [
    {
     "name": "stderr",
     "output_type": "stream",
     "text": [
      "[Stage 0:>                                                          (0 + 1) / 1]\r"
     ]
    },
    {
     "name": "stdout",
     "output_type": "stream",
     "text": [
      "+---------+----------+-----------+\n",
      "|namespace| tableName|isTemporary|\n",
      "+---------+----------+-----------+\n",
      "|   bronze|pscore_sgw|      false|\n",
      "+---------+----------+-----------+\n",
      "\n"
     ]
    },
    {
     "name": "stderr",
     "output_type": "stream",
     "text": [
      "                                                                                \r"
     ]
    }
   ],
   "source": [
    "show_tables_df = spark.sql(\"SHOW TABLES in bronze\")\n",
    "show_tables_df.show()"
   ]
  },
  {
   "cell_type": "code",
   "execution_count": 18,
   "id": "732e1be7-f60b-4798-8f78-6b43937dfe05",
   "metadata": {},
   "outputs": [],
   "source": [
    "sql_ddl_create_table = f\"\"\"\n",
    "        create table if not exists {dest_final_table}\n",
    "        (\n",
    "            record_type STRING,\n",
    "            network_initiated_pdp_context STRING,\n",
    "            imsi STRING,\n",
    "            msisdn STRING,\n",
    "            imei STRING,\n",
    "            charging_id STRING,\n",
    "            ggsn_pgw_address STRING,\n",
    "            sgsn_sgw_address STRING,\n",
    "            ms_nw_capability STRING,\n",
    "            pdp_pdn_type STRING,\n",
    "            served_pdp_address STRING,\n",
    "            dynamic_address_flag STRING,\n",
    "            access_point_name_ni STRING,\n",
    "            record_sequence_number STRING,\n",
    "            record_sequence_number_meg STRING,\n",
    "            node_id STRING,\n",
    "            local_sequence_number STRING,\n",
    "            charging_characteristics STRING,\n",
    "            record_opening_time STRING,\n",
    "            duration STRING,\n",
    "            rat_type STRING,\n",
    "            cause_for_record_closing STRING,\n",
    "            diagnostic STRING,\n",
    "            volume_uplink STRING,\n",
    "            volume_downlink STRING,\n",
    "            total_volume STRING,\n",
    "            lac_or_tac STRING,\n",
    "            ci_or_eci STRING,\n",
    "            rac STRING,\n",
    "            rnc_unsent_data_volume STRING,\n",
    "            req_alloc_ret_priority STRING,\n",
    "            neg_alloc_ret_priority STRING,\n",
    "            req_traffic_class STRING,\n",
    "            neg_traffic_class STRING,\n",
    "            qci STRING,\n",
    "            req_max_bitrate_uplink STRING,\n",
    "            req_max_bitrate_downlink STRING,\n",
    "            req_guar_bitrate_uplink STRING,\n",
    "            req_guar_bitrate_downlink STRING,\n",
    "            neg_max_bitrate_uplink STRING,\n",
    "            neg_max_bitrate_downlink STRING,\n",
    "            neg_guar_bitrate_uplink STRING,\n",
    "            neg_guar_bitrate_downlink STRING,\n",
    "            mccmnc STRING,\n",
    "            country_name STRING,\n",
    "            input_filename STRING,\n",
    "            output_filename STRING,\n",
    "            event_date Timestamp,\n",
    "            rec_created timestamp,\n",
    "            rec_updated timestamp\n",
    "        ) \n",
    "        using iceberg\n",
    "        \"\"\""
   ]
  },
  {
   "cell_type": "code",
   "execution_count": 20,
   "id": "2654f0e4-82cd-47be-bbb6-c11da01d050f",
   "metadata": {},
   "outputs": [
    {
     "name": "stdout",
     "output_type": "stream",
     "text": [
      "Buckets:\n",
      "dev-lakehouse\n",
      "dev-landing-zone\n",
      "prd-lakehouse\n",
      "prd-landing-zone\n"
     ]
    }
   ],
   "source": [
    "import boto3\n",
    "\n",
    "# Specify MinIO credentials\n",
    "minio_access_key = 'minio'\n",
    "minio_secret_key = 'minio123'\n",
    "minio_endpoint = 'http://minio:9000'  # e.g., http://minio.example.com:9000\n",
    "\n",
    "# Initialize the MinIO client\n",
    "minio_client = boto3.client('s3',\n",
    "                            endpoint_url=minio_endpoint,\n",
    "                            aws_access_key_id=minio_access_key,\n",
    "                            aws_secret_access_key=minio_secret_key,\n",
    "                            region_name='us-east-1',  # Specify a region (does not matter for MinIO)\n",
    "                            verify=False)  # Set to False if you're using self-signed SSL certificates\n",
    "\n",
    "# List buckets\n",
    "response = minio_client.list_buckets()\n",
    "\n",
    "# Print bucket names\n",
    "print(\"Buckets:\")\n",
    "for bucket in response['Buckets']:\n",
    "    print(bucket['Name'])"
   ]
  },
  {
   "cell_type": "code",
   "execution_count": 21,
   "id": "a01108c3-8036-4e27-b3a3-b0d0d525cf23",
   "metadata": {},
   "outputs": [
    {
     "name": "stderr",
     "output_type": "stream",
     "text": [
      "SLF4J: Failed to load class \"org.slf4j.impl.StaticLoggerBinder\".\n",
      "SLF4J: Defaulting to no-operation (NOP) logger implementation\n",
      "SLF4J: See http://www.slf4j.org/codes.html#StaticLoggerBinder for further details.\n"
     ]
    },
    {
     "data": {
      "text/plain": [
       "DataFrame[]"
      ]
     },
     "execution_count": 21,
     "metadata": {},
     "output_type": "execute_result"
    }
   ],
   "source": [
    "# #### SQL DDL Execution\n",
    "## drop table\n",
    "spark.sql(sql_ddl_drop_table)"
   ]
  },
  {
   "cell_type": "code",
   "execution_count": 22,
   "id": "011a854b-0388-48c8-824c-8032b3a480be",
   "metadata": {},
   "outputs": [
    {
     "name": "stderr",
     "output_type": "stream",
     "text": [
      "24/03/21 14:31:14 WARN package: Truncated the string representation of a plan since it was too large. This behavior can be adjusted by setting 'spark.sql.debug.maxToStringFields'.\n"
     ]
    },
    {
     "data": {
      "text/plain": [
       "DataFrame[]"
      ]
     },
     "execution_count": 22,
     "metadata": {},
     "output_type": "execute_result"
    }
   ],
   "source": [
    "# #### SQL DDL Execution\n",
    "## create table\n",
    "spark.sql(sql_ddl_create_table)"
   ]
  },
  {
   "cell_type": "code",
   "execution_count": 23,
   "id": "712b5085-26a9-4e82-83ad-f74c0ab30fe2",
   "metadata": {},
   "outputs": [
    {
     "name": "stderr",
     "output_type": "stream",
     "text": [
      "                                                                                \r"
     ]
    },
    {
     "name": "stdout",
     "output_type": "stream",
     "text": [
      "+---------------+\n",
      "|           imsi|\n",
      "+---------------+\n",
      "|226050085342734|\n",
      "|310280073297191|\n",
      "|222500015506415|\n",
      "|222013105410847|\n",
      "|222018503951163|\n",
      "|204046209804910|\n",
      "|440103068027552|\n",
      "|234304199485641|\n",
      "|234304143588372|\n",
      "|240020710114643|\n",
      "|240076511401701|\n",
      "|208090082723695|\n",
      "|214015522124743|\n",
      "|208090063587228|\n",
      "|208090063974865|\n",
      "|234159504296546|\n",
      "|255065004702895|\n",
      "|260021121304281|\n",
      "|246020102946580|\n",
      "|272034010341309|\n",
      "+---------------+\n",
      "only showing top 20 rows\n",
      "\n"
     ]
    },
    {
     "name": "stderr",
     "output_type": "stream",
     "text": [
      "                                                                                \r"
     ]
    }
   ],
   "source": [
    "# Simple select\n",
    "df_send_to_bronze.select('imsi').show()\n",
    "\n",
    "# ### Write table\n",
    "# wrintint the data on lakehouse\n",
    "# wrinte the data on lakehouse\n",
    "df_send_to_bronze.writeTo(f'{dest_final_table}').append()"
   ]
  },
  {
   "cell_type": "code",
   "execution_count": 24,
   "id": "cc13221e-980b-4948-9ea3-c4f928e87de8",
   "metadata": {},
   "outputs": [
    {
     "name": "stdout",
     "output_type": "stream",
     "text": [
      "root\n",
      " |-- record_type: string (nullable = true)\n",
      " |-- network_initiated_pdp_context: string (nullable = true)\n",
      " |-- imsi: string (nullable = true)\n",
      " |-- msisdn: string (nullable = true)\n",
      " |-- imei: string (nullable = true)\n",
      " |-- charging_id: string (nullable = true)\n",
      " |-- ggsn_pgw_address: string (nullable = true)\n",
      " |-- sgsn_sgw_address: string (nullable = true)\n",
      " |-- ms_nw_capability: string (nullable = true)\n",
      " |-- pdp_pdn_type: string (nullable = true)\n",
      " |-- served_pdp_address: string (nullable = true)\n",
      " |-- dynamic_address_flag: string (nullable = true)\n",
      " |-- access_point_name_ni: string (nullable = true)\n",
      " |-- record_sequence_number: string (nullable = true)\n",
      " |-- record_sequence_number_meg: string (nullable = true)\n",
      " |-- node_id: string (nullable = true)\n",
      " |-- local_sequence_number: string (nullable = true)\n",
      " |-- charging_characteristics: string (nullable = true)\n",
      " |-- record_opening_time: string (nullable = true)\n",
      " |-- duration: string (nullable = true)\n",
      " |-- rat_type: string (nullable = true)\n",
      " |-- cause_for_record_closing: string (nullable = true)\n",
      " |-- diagnostic: string (nullable = true)\n",
      " |-- volume_uplink: string (nullable = true)\n",
      " |-- volume_downlink: string (nullable = true)\n",
      " |-- total_volume: string (nullable = true)\n",
      " |-- lac_or_tac: string (nullable = true)\n",
      " |-- ci_or_eci: string (nullable = true)\n",
      " |-- rac: string (nullable = true)\n",
      " |-- rnc_unsent_data_volume: string (nullable = true)\n",
      " |-- req_alloc_ret_priority: string (nullable = true)\n",
      " |-- neg_alloc_ret_priority: string (nullable = true)\n",
      " |-- req_traffic_class: string (nullable = true)\n",
      " |-- neg_traffic_class: string (nullable = true)\n",
      " |-- qci: string (nullable = true)\n",
      " |-- req_max_bitrate_uplink: string (nullable = true)\n",
      " |-- req_max_bitrate_downlink: string (nullable = true)\n",
      " |-- req_guar_bitrate_uplink: string (nullable = true)\n",
      " |-- req_guar_bitrate_downlink: string (nullable = true)\n",
      " |-- neg_max_bitrate_uplink: string (nullable = true)\n",
      " |-- neg_max_bitrate_downlink: string (nullable = true)\n",
      " |-- neg_guar_bitrate_uplink: string (nullable = true)\n",
      " |-- neg_guar_bitrate_downlink: string (nullable = true)\n",
      " |-- mccmnc: string (nullable = true)\n",
      " |-- country_name: string (nullable = true)\n",
      " |-- input_filename: string (nullable = true)\n",
      " |-- output_filename: string (nullable = true)\n",
      " |-- event_date: timestamp (nullable = true)\n",
      " |-- rec_created: timestamp (nullable = true)\n",
      " |-- rec_updated: timestamp (nullable = true)\n",
      "\n",
      "None\n"
     ]
    }
   ],
   "source": [
    "table = spark.table(f'{dest_final_table}')\n",
    "print(table.printSchema())"
   ]
  },
  {
   "cell_type": "code",
   "execution_count": 25,
   "id": "269fee1a-1bd3-4f96-aefa-bce8fd2abeae",
   "metadata": {},
   "outputs": [
    {
     "name": "stdout",
     "output_type": "stream",
     "text": [
      "No of Records: 131473\n"
     ]
    }
   ],
   "source": [
    "print(f\"No of Records: {table.count()}\")"
   ]
  }
 ],
 "metadata": {
  "kernelspec": {
   "display_name": "Python 3 (ipykernel)",
   "language": "python",
   "name": "python3"
  },
  "language_info": {
   "codemirror_mode": {
    "name": "ipython",
    "version": 3
   },
   "file_extension": ".py",
   "mimetype": "text/x-python",
   "name": "python",
   "nbconvert_exporter": "python",
   "pygments_lexer": "ipython3",
   "version": "3.8.10"
  }
 },
 "nbformat": 4,
 "nbformat_minor": 5
}
